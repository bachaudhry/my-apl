{
 "cells": [
  {
   "cell_type": "markdown",
   "id": "44348e03-8cfe-41c0-8ae9-ea5966ff515c",
   "metadata": {},
   "source": [
    "# **Basics**"
   ]
  },
  {
   "cell_type": "markdown",
   "id": "896e2166-6d41-4ecb-b803-0f5ff53de033",
   "metadata": {},
   "source": [
    "We will be referring to the [help docs](https://help.dyalog.com/latest/index.htm#Language/Symbols/Minus%20Sign.htm) constantly to slowly increase our understanding of APL."
   ]
  },
  {
   "cell_type": "markdown",
   "id": "8911c2a7-f1aa-4863-8d72-3409fce12a2a",
   "metadata": {},
   "source": [
    "The following command, when used in any kernel - be it Jupyter or in windows -  will turn on boxes for arrays / tensors etc. `style=max` and `style=min` increase or decrease the level of detail shown on the boxes. More on this later."
   ]
  },
  {
   "cell_type": "code",
   "execution_count": 1,
   "id": "e3e1bc96-06b9-4fcd-a4b3-53a3f5021967",
   "metadata": {},
   "outputs": [
    {
     "data": {
      "text/html": [
       "<pre class=\"language-APL\">┌→─────────────────┐\n",
       "│Was OFF -style=min│\n",
       "└──────────────────┘\n",
       "</pre>"
      ]
     },
     "execution_count": 1,
     "metadata": {},
     "output_type": "execute_result"
    }
   ],
   "source": [
    "]box on -style=max"
   ]
  },
  {
   "cell_type": "markdown",
   "id": "d98cc8a7-a66f-4b98-b660-d871eb213d54",
   "metadata": {},
   "source": [
    "# **Glyphs**"
   ]
  },
  {
   "cell_type": "markdown",
   "id": "a34887f0-96d0-4b81-bee2-cd2c4aaafdb9",
   "metadata": {},
   "source": [
    "## 1. `-` Minus Sign ; Bar"
   ]
  },
  {
   "cell_type": "markdown",
   "id": "b759e0eb-ebe6-4813-9202-1725fb84b0c2",
   "metadata": {},
   "source": [
    "### Monadic (Negate) - _on Rank-1 Arrays_"
   ]
  },
  {
   "cell_type": "markdown",
   "id": "cab04e9f-f756-4d99-b4a0-f1fad26d919e",
   "metadata": {},
   "source": [
    "**Monadic**: which means _\"being or relating to a monad. / logic, mathematics. (of an operator, predicate, etc) having only a single argument place.\"_\n",
    "\n",
    "The following is an array, where the \"monadic\" minus sign is applying the negative or `negate` function to every element in the array. The super-scripted minus sign is accessed using `shift + 2` and gives a sign to a number."
   ]
  },
  {
   "cell_type": "code",
   "execution_count": 11,
   "id": "554f49e8-70a8-4f45-ad59-edf3a9c1cff5",
   "metadata": {},
   "outputs": [
    {
     "data": {
      "text/html": [
       "<pre class=\"language-APL\">┌→───────────┐\n",
       "│¯3.2 7 0 8.5│\n",
       "└~───────────┘\n",
       "</pre>"
      ]
     },
     "execution_count": 11,
     "metadata": {},
     "output_type": "execute_result"
    }
   ],
   "source": [
    "- 3.2 ¯7 0 ¯8.5"
   ]
  },
  {
   "cell_type": "code",
   "execution_count": 9,
   "id": "c867f6f1-df6e-4bb8-a3ab-44e1743dd24e",
   "metadata": {},
   "outputs": [
    {
     "data": {
      "text/html": [
       "<pre class=\"language-APL\">┌→──────────────┐\n",
       "│¯1J¯2 2J¯3 ¯4J5│\n",
       "└~──────────────┘\n",
       "</pre>"
      ]
     },
     "execution_count": 9,
     "metadata": {},
     "output_type": "execute_result"
    }
   ],
   "source": [
    "- 1j2 ¯2J3 4J¯5"
   ]
  },
  {
   "cell_type": "code",
   "execution_count": 10,
   "id": "e8e45556-f6ba-4363-b992-d5c62d062149",
   "metadata": {},
   "outputs": [
    {
     "data": {
      "text/html": [
       "<pre class=\"language-APL\">┌→──────────┐\n",
       "│¯4 ¯2 0 3 5│\n",
       "└~──────────┘\n",
       "</pre>"
      ]
     },
     "execution_count": 10,
     "metadata": {},
     "output_type": "execute_result"
    }
   ],
   "source": [
    "-4 2 0 ¯3 ¯5"
   ]
  },
  {
   "cell_type": "markdown",
   "id": "e45a65dc-9f20-4c5e-b5b7-04fc3e7d776c",
   "metadata": {},
   "source": [
    "### Dyadic (Minus ; Subtract)"
   ]
  },
  {
   "cell_type": "markdown",
   "id": "64f82b6e-da4d-4b92-b122-d3aa42d0c5f4",
   "metadata": {},
   "source": [
    "A **dyadic** function is a function with two arguments, one on the left and one on the right. A sequence of dyadic functions is evaluated from right to left to increase the similarity to monadic function evaluation. Dyadic functions in APL are designed so that the right argument is primary and the left secondary."
   ]
  },
  {
   "cell_type": "code",
   "execution_count": 5,
   "id": "9f2ccf4c-e560-4d62-9ac5-64433759478a",
   "metadata": {},
   "outputs": [
    {
     "data": {
      "text/html": [
       "<pre class=\"language-APL\">┌→─────┐\n",
       "│¯2 2 4│\n",
       "└~─────┘\n",
       "</pre>"
      ]
     },
     "execution_count": 5,
     "metadata": {},
     "output_type": "execute_result"
    }
   ],
   "source": [
    "3 7 9 - 5"
   ]
  },
  {
   "cell_type": "markdown",
   "id": "38d1c388-5eeb-4459-b044-22321516bbb4",
   "metadata": {},
   "source": [
    "An example of broadcasting a scalar from left to right:"
   ]
  },
  {
   "cell_type": "code",
   "execution_count": 19,
   "id": "42377187-e7e5-4bb8-ba7f-7ca228bf3010",
   "metadata": {},
   "outputs": [
    {
     "data": {
      "text/html": [
       "<pre class=\"language-APL\">┌→──────────────┐\n",
       "│¯12 ¯21 23 ¯5.5│\n",
       "└~──────────────┘\n",
       "</pre>"
      ]
     },
     "execution_count": 19,
     "metadata": {},
     "output_type": "execute_result"
    }
   ],
   "source": [
    "¯2 ¯11 33 4.5 - 10"
   ]
  },
  {
   "cell_type": "markdown",
   "id": "7d4a8980-4d10-4e0c-9763-9f9a266de7c7",
   "metadata": {},
   "source": [
    "And here's an example of element-wise operations between arrays:"
   ]
  },
  {
   "cell_type": "code",
   "execution_count": 7,
   "id": "6b841fe9-056c-4bb9-a116-33814d61ef94",
   "metadata": {},
   "outputs": [
    {
     "data": {
      "text/html": [
       "<pre class=\"language-APL\">┌→─────────┐\n",
       "│¯0.5 3 0 3│\n",
       "└~─────────┘\n",
       "</pre>"
      ]
     },
     "execution_count": 7,
     "metadata": {},
     "output_type": "execute_result"
    }
   ],
   "source": [
    "3.5 ¯4 5 0 - 4 ¯7 5 ¯3"
   ]
  },
  {
   "cell_type": "markdown",
   "id": "540d674a-5765-4682-adc9-911f6aa97a4d",
   "metadata": {},
   "source": [
    "## 2. `+` Plus Sign"
   ]
  },
  {
   "cell_type": "markdown",
   "id": "0beda4ae-2852-4782-8b10-4e4a87e315b6",
   "metadata": {},
   "source": [
    "### Monadic - (Conjugate)\n",
    "\n",
    "**Conjugate** `+` is a monadic scalar function which _negates the imaginary component of a complex argument_. Because many APLs do not have a dedicated Identity function, but also do not support complex numbers, Conjugate is often used to return the argument unchanged. \n",
    "\n",
    "Also, we are introducing `Complex Numbers` and in APL they are usually represented using `j` as in below."
   ]
  },
  {
   "cell_type": "code",
   "execution_count": 14,
   "id": "cd20f14b-1c64-4db7-89a0-d53a0d1c17ba",
   "metadata": {},
   "outputs": [
    {
     "data": {
      "text/html": [
       "<pre class=\"language-APL\">┌→────────────┐\n",
       "│1.2 0J¯4 ¯5J6│\n",
       "└~────────────┘\n",
       "</pre>"
      ]
     },
     "execution_count": 14,
     "metadata": {},
     "output_type": "execute_result"
    }
   ],
   "source": [
    "+ 1.2 0j4 ¯5j¯6"
   ]
  },
  {
   "cell_type": "code",
   "execution_count": 15,
   "id": "72e4cc8a-aa52-4f22-80d7-e8a80845d1b7",
   "metadata": {},
   "outputs": [
    {
     "data": {
      "text/html": [
       "<pre class=\"language-APL\">┌→────────────┐\n",
       "│3.2 ¯7 0 ¯8.5│\n",
       "└~────────────┘\n",
       "</pre>"
      ]
     },
     "execution_count": 15,
     "metadata": {},
     "output_type": "execute_result"
    }
   ],
   "source": [
    "+ 3.2 ¯7 0 ¯8.5"
   ]
  },
  {
   "cell_type": "code",
   "execution_count": 16,
   "id": "17b0bda2-a237-4fe7-a8d4-a4127df97a9f",
   "metadata": {},
   "outputs": [
    {
     "data": {
      "text/html": [
       "<pre class=\"language-APL\">┌→─────────────┐\n",
       "│1J¯2 ¯2J¯3 4J5│\n",
       "└~─────────────┘\n",
       "</pre>"
      ]
     },
     "execution_count": 16,
     "metadata": {},
     "output_type": "execute_result"
    }
   ],
   "source": [
    "+ 1j2 ¯2J3 4J¯5"
   ]
  },
  {
   "cell_type": "code",
   "execution_count": 17,
   "id": "5bf5e637-6d16-4245-8c64-19bced708f90",
   "metadata": {},
   "outputs": [
    {
     "data": {
      "text/html": [
       "<pre class=\"language-APL\">┌→──────────┐\n",
       "│4 2 0 ¯3 ¯5│\n",
       "└~──────────┘\n",
       "</pre>"
      ]
     },
     "execution_count": 17,
     "metadata": {},
     "output_type": "execute_result"
    }
   ],
   "source": [
    "+ 4 2 0 ¯3 ¯5"
   ]
  },
  {
   "cell_type": "markdown",
   "id": "972c3cd6-4443-4001-806e-2b20fe8dec3c",
   "metadata": {},
   "source": [
    "### Dyadic (Plus)"
   ]
  },
  {
   "cell_type": "code",
   "execution_count": 18,
   "id": "50d76d0c-1d65-4b99-9ebf-333be3431cb7",
   "metadata": {},
   "outputs": [
    {
     "data": {
      "text/html": [
       "<pre class=\"language-APL\">┌→──────────┐\n",
       "│11 12 13 14│\n",
       "└~──────────┘\n",
       "</pre>"
      ]
     },
     "execution_count": 18,
     "metadata": {},
     "output_type": "execute_result"
    }
   ],
   "source": [
    "1 2 3 4 + 10"
   ]
  },
  {
   "cell_type": "code",
   "execution_count": 6,
   "id": "1b35ae10-0e3f-4e22-8ed1-eabb106b1070",
   "metadata": {},
   "outputs": [
    {
     "data": {
      "text/html": [
       "<pre class=\"language-APL\">┌→───────────┐\n",
       "│8 ¯1 43 14.5│\n",
       "└~───────────┘\n",
       "</pre>"
      ]
     },
     "execution_count": 6,
     "metadata": {},
     "output_type": "execute_result"
    }
   ],
   "source": [
    "¯2 ¯11 33 4.5 + 10"
   ]
  },
  {
   "cell_type": "markdown",
   "id": "73b35182-7164-47b7-b143-cf8331a88ab2",
   "metadata": {},
   "source": [
    "And here's an example of element-wise operations between arrays:"
   ]
  },
  {
   "cell_type": "code",
   "execution_count": 20,
   "id": "63367901-2e44-4a1f-b818-563b740bede5",
   "metadata": {},
   "outputs": [
    {
     "data": {
      "text/html": [
       "<pre class=\"language-APL\">┌→────────────┐\n",
       "│7.5 ¯11 10 ¯3│\n",
       "└~────────────┘\n",
       "</pre>"
      ]
     },
     "execution_count": 20,
     "metadata": {},
     "output_type": "execute_result"
    }
   ],
   "source": [
    "3.5 ¯4 5 0 + 4 ¯7 5 ¯3"
   ]
  },
  {
   "cell_type": "markdown",
   "id": "5fb6a429-81c3-43f0-b3ae-32a75e990a06",
   "metadata": {},
   "source": [
    "Slash is also used as a _Monadic operator with a Dyadic operand_."
   ]
  },
  {
   "cell_type": "code",
   "execution_count": 22,
   "id": "1b48dbe5-ce7d-41c6-acc5-4f50ab1a2d1a",
   "metadata": {},
   "outputs": [
    {
     "data": {
      "text/html": [
       "<pre class=\"language-APL\">  \n",
       "10\n",
       "  \n",
       "</pre>"
      ]
     },
     "execution_count": 22,
     "metadata": {},
     "output_type": "execute_result"
    }
   ],
   "source": [
    "+/ 1 2 3 4"
   ]
  },
  {
   "cell_type": "code",
   "execution_count": null,
   "id": "5c59b547-cdf9-46e1-af4a-37469c73cfef",
   "metadata": {},
   "outputs": [],
   "source": []
  },
  {
   "cell_type": "code",
   "execution_count": null,
   "id": "d2e55b4a-f7c1-4cae-a72e-08e756e0690a",
   "metadata": {},
   "outputs": [],
   "source": []
  },
  {
   "cell_type": "code",
   "execution_count": null,
   "id": "75f508e8-45f3-4b11-9dc3-f8bcd435f605",
   "metadata": {},
   "outputs": [],
   "source": []
  },
  {
   "cell_type": "code",
   "execution_count": null,
   "id": "e15176aa-8631-454b-866f-88972685edb1",
   "metadata": {},
   "outputs": [],
   "source": []
  },
  {
   "cell_type": "code",
   "execution_count": null,
   "id": "9f2bd888-a9dc-41e2-8fbd-74694ffaf8f3",
   "metadata": {},
   "outputs": [],
   "source": []
  },
  {
   "cell_type": "code",
   "execution_count": null,
   "id": "a846a5a3-7eda-44ed-8739-d6e43c96a722",
   "metadata": {},
   "outputs": [],
   "source": []
  },
  {
   "cell_type": "code",
   "execution_count": null,
   "id": "8806d226-aab7-40ba-9183-99612861c330",
   "metadata": {},
   "outputs": [],
   "source": []
  },
  {
   "cell_type": "code",
   "execution_count": null,
   "id": "bdbd22da-68a3-4948-a2ec-e202bd759b9b",
   "metadata": {},
   "outputs": [],
   "source": []
  },
  {
   "cell_type": "code",
   "execution_count": null,
   "id": "3201173e-ad35-4a68-b9f6-dec67d8d67f4",
   "metadata": {},
   "outputs": [],
   "source": []
  },
  {
   "cell_type": "code",
   "execution_count": null,
   "id": "10b3189a-04a1-4502-8db4-9cfcc2e85cd3",
   "metadata": {},
   "outputs": [],
   "source": []
  },
  {
   "cell_type": "code",
   "execution_count": null,
   "id": "1d1f6782-12ea-4663-b851-2a5a113b5f67",
   "metadata": {},
   "outputs": [],
   "source": []
  },
  {
   "cell_type": "code",
   "execution_count": null,
   "id": "2db1a9b7-aeaf-4562-9633-546a43d24af8",
   "metadata": {},
   "outputs": [],
   "source": []
  }
 ],
 "metadata": {
  "kernelspec": {
   "display_name": "Dyalog APL",
   "language": "apl",
   "name": "dyalog_apl"
  },
  "language_info": {
   "file_extension": ".apl",
   "mimetype": "text/apl",
   "name": "APL"
  }
 },
 "nbformat": 4,
 "nbformat_minor": 5
}
