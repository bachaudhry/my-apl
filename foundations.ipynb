{
 "cells": [
  {
   "cell_type": "markdown",
   "id": "44348e03-8cfe-41c0-8ae9-ea5966ff515c",
   "metadata": {},
   "source": [
    "# **Basics**"
   ]
  },
  {
   "cell_type": "markdown",
   "id": "896e2166-6d41-4ecb-b803-0f5ff53de033",
   "metadata": {},
   "source": [
    "We will be referring to the [help docs](https://help.dyalog.com/latest/index.htm#Language/Symbols/Minus%20Sign.htm) constantly to slowly increase our understanding of APL."
   ]
  },
  {
   "cell_type": "markdown",
   "id": "8911c2a7-f1aa-4863-8d72-3409fce12a2a",
   "metadata": {},
   "source": [
    "The following command, when used in any kernel - be it Jupyter or in windows -  will turn on boxes for arrays / tensors etc. `style=max` and `style=min` increase or decrease the level of detail shown on the boxes. More on this later."
   ]
  },
  {
   "cell_type": "code",
   "execution_count": 1,
   "id": "e3e1bc96-06b9-4fcd-a4b3-53a3f5021967",
   "metadata": {},
   "outputs": [
    {
     "data": {
      "text/html": [
       "<pre class=\"language-APL\">┌→──────────────────────────────────────┐\n",
       "│Was OFF -style=min -trains=box -fns=off│\n",
       "└───────────────────────────────────────┘\n",
       "</pre>"
      ]
     },
     "execution_count": 1,
     "metadata": {},
     "output_type": "execute_result"
    }
   ],
   "source": [
    "]box on -style=max -trains=tree -fns=on"
   ]
  },
  {
   "cell_type": "markdown",
   "id": "d98cc8a7-a66f-4b98-b660-d871eb213d54",
   "metadata": {},
   "source": [
    "# **Glyphs**"
   ]
  },
  {
   "cell_type": "markdown",
   "id": "a34887f0-96d0-4b81-bee2-cd2c4aaafdb9",
   "metadata": {
    "jp-MarkdownHeadingCollapsed": true
   },
   "source": [
    "## **1. `-` Minus Sign ; Bar**"
   ]
  },
  {
   "cell_type": "markdown",
   "id": "b759e0eb-ebe6-4813-9202-1725fb84b0c2",
   "metadata": {},
   "source": [
    "### **Monadic (Negate)** - _on Rank-1 Arrays_"
   ]
  },
  {
   "cell_type": "markdown",
   "id": "cab04e9f-f756-4d99-b4a0-f1fad26d919e",
   "metadata": {},
   "source": [
    "**Monadic**: which means _\"being or relating to a monad. / logic, mathematics. (of an operator, predicate, etc) having only a single argument place.\"_\n",
    "\n",
    "The following is an array, where the \"monadic\" minus sign is applying the negative or `negate` function to every element in the array. The super-scripted minus sign is accessed using `shift + 2` and gives a sign to a number."
   ]
  },
  {
   "cell_type": "code",
   "execution_count": 2,
   "id": "554f49e8-70a8-4f45-ad59-edf3a9c1cff5",
   "metadata": {},
   "outputs": [
    {
     "data": {
      "text/html": [
       "<pre class=\"language-APL\">┌→───────────┐\n",
       "│¯3.2 7 0 8.5│\n",
       "└~───────────┘\n",
       "</pre>"
      ]
     },
     "execution_count": 2,
     "metadata": {},
     "output_type": "execute_result"
    }
   ],
   "source": [
    "- 3.2 ¯7 0 ¯8.5"
   ]
  },
  {
   "cell_type": "code",
   "execution_count": 3,
   "id": "c867f6f1-df6e-4bb8-a3ab-44e1743dd24e",
   "metadata": {},
   "outputs": [
    {
     "data": {
      "text/html": [
       "<pre class=\"language-APL\">┌→──────────────┐\n",
       "│¯1J¯2 2J¯3 ¯4J5│\n",
       "└~──────────────┘\n",
       "</pre>"
      ]
     },
     "execution_count": 3,
     "metadata": {},
     "output_type": "execute_result"
    }
   ],
   "source": [
    "- 1j2 ¯2J3 4J¯5"
   ]
  },
  {
   "cell_type": "code",
   "execution_count": 4,
   "id": "e8e45556-f6ba-4363-b992-d5c62d062149",
   "metadata": {},
   "outputs": [
    {
     "data": {
      "text/html": [
       "<pre class=\"language-APL\">┌→──────────┐\n",
       "│¯4 ¯2 0 3 5│\n",
       "└~──────────┘\n",
       "</pre>"
      ]
     },
     "execution_count": 4,
     "metadata": {},
     "output_type": "execute_result"
    }
   ],
   "source": [
    "-4 2 0 ¯3 ¯5"
   ]
  },
  {
   "cell_type": "markdown",
   "id": "e45a65dc-9f20-4c5e-b5b7-04fc3e7d776c",
   "metadata": {},
   "source": [
    "### **Dyadic (Minus ; Subtract)**"
   ]
  },
  {
   "cell_type": "markdown",
   "id": "64f82b6e-da4d-4b92-b122-d3aa42d0c5f4",
   "metadata": {},
   "source": [
    "A **dyadic** function is a function with two arguments, one on the left and one on the right. A sequence of dyadic functions is evaluated from right to left to increase the similarity to monadic function evaluation. Dyadic functions in APL are designed so that the right argument is primary and the left secondary."
   ]
  },
  {
   "cell_type": "code",
   "execution_count": 5,
   "id": "9f2ccf4c-e560-4d62-9ac5-64433759478a",
   "metadata": {},
   "outputs": [
    {
     "data": {
      "text/html": [
       "<pre class=\"language-APL\">┌→─────┐\n",
       "│¯2 2 4│\n",
       "└~─────┘\n",
       "</pre>"
      ]
     },
     "execution_count": 5,
     "metadata": {},
     "output_type": "execute_result"
    }
   ],
   "source": [
    "3 7 9 - 5"
   ]
  },
  {
   "cell_type": "markdown",
   "id": "38d1c388-5eeb-4459-b044-22321516bbb4",
   "metadata": {},
   "source": [
    "An example of broadcasting a scalar from left to right:"
   ]
  },
  {
   "cell_type": "code",
   "execution_count": 6,
   "id": "42377187-e7e5-4bb8-ba7f-7ca228bf3010",
   "metadata": {},
   "outputs": [
    {
     "data": {
      "text/html": [
       "<pre class=\"language-APL\">┌→──────────────┐\n",
       "│¯12 ¯21 23 ¯5.5│\n",
       "└~──────────────┘\n",
       "</pre>"
      ]
     },
     "execution_count": 6,
     "metadata": {},
     "output_type": "execute_result"
    }
   ],
   "source": [
    "¯2 ¯11 33 4.5 - 10"
   ]
  },
  {
   "cell_type": "markdown",
   "id": "7d4a8980-4d10-4e0c-9763-9f9a266de7c7",
   "metadata": {},
   "source": [
    "And here's an example of element-wise operations between arrays:"
   ]
  },
  {
   "cell_type": "code",
   "execution_count": 7,
   "id": "6b841fe9-056c-4bb9-a116-33814d61ef94",
   "metadata": {},
   "outputs": [
    {
     "data": {
      "text/html": [
       "<pre class=\"language-APL\">┌→─────────┐\n",
       "│¯0.5 3 0 3│\n",
       "└~─────────┘\n",
       "</pre>"
      ]
     },
     "execution_count": 7,
     "metadata": {},
     "output_type": "execute_result"
    }
   ],
   "source": [
    "3.5 ¯4 5 0 - 4 ¯7 5 ¯3"
   ]
  },
  {
   "cell_type": "markdown",
   "id": "540d674a-5765-4682-adc9-911f6aa97a4d",
   "metadata": {
    "jp-MarkdownHeadingCollapsed": true
   },
   "source": [
    "## **2. `+` Plus Sign**"
   ]
  },
  {
   "cell_type": "markdown",
   "id": "0beda4ae-2852-4782-8b10-4e4a87e315b6",
   "metadata": {},
   "source": [
    "### **Monadic - (Conjugate)**\n",
    "\n",
    "**Conjugate** `+` is a monadic scalar function which _negates the imaginary component of a complex argument_. Because many APLs do not have a dedicated Identity function, but also do not support complex numbers, Conjugate is often used to return the argument unchanged. \n",
    "\n",
    "Also, we are introducing `Complex Numbers` and in APL they are usually represented using `j` as in below."
   ]
  },
  {
   "cell_type": "code",
   "execution_count": 8,
   "id": "cd20f14b-1c64-4db7-89a0-d53a0d1c17ba",
   "metadata": {},
   "outputs": [
    {
     "data": {
      "text/html": [
       "<pre class=\"language-APL\">┌→────────────┐\n",
       "│1.2 0J¯4 ¯5J6│\n",
       "└~────────────┘\n",
       "</pre>"
      ]
     },
     "execution_count": 8,
     "metadata": {},
     "output_type": "execute_result"
    }
   ],
   "source": [
    "+ 1.2 0j4 ¯5j¯6"
   ]
  },
  {
   "cell_type": "code",
   "execution_count": 9,
   "id": "72e4cc8a-aa52-4f22-80d7-e8a80845d1b7",
   "metadata": {},
   "outputs": [
    {
     "data": {
      "text/html": [
       "<pre class=\"language-APL\">┌→────────────┐\n",
       "│3.2 ¯7 0 ¯8.5│\n",
       "└~────────────┘\n",
       "</pre>"
      ]
     },
     "execution_count": 9,
     "metadata": {},
     "output_type": "execute_result"
    }
   ],
   "source": [
    "+ 3.2 ¯7 0 ¯8.5"
   ]
  },
  {
   "cell_type": "code",
   "execution_count": 10,
   "id": "17b0bda2-a237-4fe7-a8d4-a4127df97a9f",
   "metadata": {},
   "outputs": [
    {
     "data": {
      "text/html": [
       "<pre class=\"language-APL\">┌→─────────────┐\n",
       "│1J¯2 ¯2J¯3 4J5│\n",
       "└~─────────────┘\n",
       "</pre>"
      ]
     },
     "execution_count": 10,
     "metadata": {},
     "output_type": "execute_result"
    }
   ],
   "source": [
    "+ 1j2 ¯2J3 4J¯5"
   ]
  },
  {
   "cell_type": "code",
   "execution_count": 11,
   "id": "5bf5e637-6d16-4245-8c64-19bced708f90",
   "metadata": {},
   "outputs": [
    {
     "data": {
      "text/html": [
       "<pre class=\"language-APL\">┌→──────────┐\n",
       "│4 2 0 ¯3 ¯5│\n",
       "└~──────────┘\n",
       "</pre>"
      ]
     },
     "execution_count": 11,
     "metadata": {},
     "output_type": "execute_result"
    }
   ],
   "source": [
    "+ 4 2 0 ¯3 ¯5"
   ]
  },
  {
   "cell_type": "markdown",
   "id": "972c3cd6-4443-4001-806e-2b20fe8dec3c",
   "metadata": {},
   "source": [
    "### **Dyadic (Plus)**"
   ]
  },
  {
   "cell_type": "code",
   "execution_count": 12,
   "id": "50d76d0c-1d65-4b99-9ebf-333be3431cb7",
   "metadata": {},
   "outputs": [
    {
     "data": {
      "text/html": [
       "<pre class=\"language-APL\">┌→──────────┐\n",
       "│11 12 13 14│\n",
       "└~──────────┘\n",
       "</pre>"
      ]
     },
     "execution_count": 12,
     "metadata": {},
     "output_type": "execute_result"
    }
   ],
   "source": [
    "1 2 3 4 + 10"
   ]
  },
  {
   "cell_type": "code",
   "execution_count": 13,
   "id": "1b35ae10-0e3f-4e22-8ed1-eabb106b1070",
   "metadata": {},
   "outputs": [
    {
     "data": {
      "text/html": [
       "<pre class=\"language-APL\">┌→───────────┐\n",
       "│8 ¯1 43 14.5│\n",
       "└~───────────┘\n",
       "</pre>"
      ]
     },
     "execution_count": 13,
     "metadata": {},
     "output_type": "execute_result"
    }
   ],
   "source": [
    "¯2 ¯11 33 4.5 + 10"
   ]
  },
  {
   "cell_type": "markdown",
   "id": "73b35182-7164-47b7-b143-cf8331a88ab2",
   "metadata": {},
   "source": [
    "And here's an example of element-wise operations between arrays:"
   ]
  },
  {
   "cell_type": "code",
   "execution_count": 14,
   "id": "63367901-2e44-4a1f-b818-563b740bede5",
   "metadata": {},
   "outputs": [
    {
     "data": {
      "text/html": [
       "<pre class=\"language-APL\">┌→────────────┐\n",
       "│7.5 ¯11 10 ¯3│\n",
       "└~────────────┘\n",
       "</pre>"
      ]
     },
     "execution_count": 14,
     "metadata": {},
     "output_type": "execute_result"
    }
   ],
   "source": [
    "3.5 ¯4 5 0 + 4 ¯7 5 ¯3"
   ]
  },
  {
   "cell_type": "markdown",
   "id": "5fb6a429-81c3-43f0-b3ae-32a75e990a06",
   "metadata": {},
   "source": [
    "Slash is also used as a _Monadic operator with a Dyadic operand_."
   ]
  },
  {
   "cell_type": "code",
   "execution_count": 15,
   "id": "1b48dbe5-ce7d-41c6-acc5-4f50ab1a2d1a",
   "metadata": {},
   "outputs": [
    {
     "data": {
      "text/html": [
       "<pre class=\"language-APL\">  \n",
       "10\n",
       "  \n",
       "</pre>"
      ]
     },
     "execution_count": 15,
     "metadata": {},
     "output_type": "execute_result"
    }
   ],
   "source": [
    "+/ 1 2 3 4"
   ]
  },
  {
   "cell_type": "markdown",
   "id": "a927a41a-0ac2-493b-a658-a075154e7bf4",
   "metadata": {
    "jp-MarkdownHeadingCollapsed": true
   },
   "source": [
    "## **3. `×` Times Sign**"
   ]
  },
  {
   "cell_type": "markdown",
   "id": "22b8d26e-9b3a-4883-b0e5-2cce4e46ebe9",
   "metadata": {},
   "source": [
    "### **Monadic - (Direction)**"
   ]
  },
  {
   "cell_type": "code",
   "execution_count": 16,
   "id": "75f508e8-45f3-4b11-9dc3-f8bcd435f605",
   "metadata": {},
   "outputs": [
    {
     "data": {
      "text/html": [
       "<pre class=\"language-APL\"> \n",
       "6\n",
       " \n",
       "</pre>"
      ]
     },
     "execution_count": 16,
     "metadata": {},
     "output_type": "execute_result"
    }
   ],
   "source": [
    "3×2"
   ]
  },
  {
   "cell_type": "code",
   "execution_count": 17,
   "id": "e15176aa-8631-454b-866f-88972685edb1",
   "metadata": {},
   "outputs": [
    {
     "data": {
      "text/html": [
       "<pre class=\"language-APL\">┌→────────┐\n",
       "│7.5 9 ¯21│\n",
       "└~────────┘\n",
       "</pre>"
      ]
     },
     "execution_count": 17,
     "metadata": {},
     "output_type": "execute_result"
    }
   ],
   "source": [
    "3 × 2.5 3 ¯7"
   ]
  },
  {
   "cell_type": "code",
   "execution_count": 18,
   "id": "4fe323b8-6a06-48fb-8805-eff54422292b",
   "metadata": {},
   "outputs": [
    {
     "data": {
      "text/html": [
       "<pre class=\"language-APL\">┌→─────────────┐\n",
       "│33 512 ¯76.5 0│\n",
       "└~─────────────┘\n",
       "</pre>"
      ]
     },
     "execution_count": 18,
     "metadata": {},
     "output_type": "execute_result"
    }
   ],
   "source": [
    "3 2 8.5 0 × 11 256 ¯9 2"
   ]
  },
  {
   "cell_type": "markdown",
   "id": "801c0b45-8689-4861-a9d8-576e356860b6",
   "metadata": {},
   "source": [
    "`R←×Y`\n",
    "\n",
    "Y may be any numeric array.\n",
    "\n",
    "Where an element of Y is real, the corresponding element of R is an integer whose value indicates whether the value is negative (¯1), zero (0) or positive (1).\n",
    "\n",
    "Where an element of Y is complex, the corresponding element of R is a number with the same _phase but with magnitude (absolute value) 1_."
   ]
  },
  {
   "cell_type": "markdown",
   "id": "c9a86e2d-102d-4a3d-9ea5-a658c8e18f7e",
   "metadata": {},
   "source": [
    "#### **SUPPLEMENT**"
   ]
  },
  {
   "cell_type": "code",
   "execution_count": 19,
   "id": "7501f52d-ebaf-4ad3-9823-4d2145c8645f",
   "metadata": {},
   "outputs": [
    {
     "data": {
      "text/html": [
       "<pre class=\"language-APL\">┌→─────────────┐\n",
       "│1 ¯1 0 0.6J0.8│\n",
       "└~─────────────┘\n",
       "</pre>"
      ]
     },
     "execution_count": 19,
     "metadata": {},
     "output_type": "execute_result"
    }
   ],
   "source": [
    "× 3.1 ¯2 0 3j4"
   ]
  },
  {
   "cell_type": "markdown",
   "id": "5940739d-e5e2-493e-9f23-ed8aa12d4e51",
   "metadata": {},
   "source": [
    "The sign function is straight forward for real numbers. The magnitude of a [complex number](https://en.wikipedia.org/wiki/Complex_plane) $a+ib$ is defined as ${\\sqrt{a^2 + b^2}}$. Or, in the case below $x+yi$\n",
    "\n",
    "![title](imgs/Argandgaussplane.png)"
   ]
  },
  {
   "cell_type": "markdown",
   "id": "bf64c604-ce14-48e9-8676-074fe452550d",
   "metadata": {},
   "source": [
    "APL represents $a+ib$ as $ajb$, as in below. The output is obtained by taking the number and dividing it by its magnitude."
   ]
  },
  {
   "cell_type": "code",
   "execution_count": 20,
   "id": "915b9f6d-1452-4b41-b341-c2b68ca1b9f5",
   "metadata": {},
   "outputs": [
    {
     "data": {
      "text/html": [
       "<pre class=\"language-APL\">       \n",
       "0.6J0.8\n",
       "       \n",
       "</pre>"
      ]
     },
     "execution_count": 20,
     "metadata": {},
     "output_type": "execute_result"
    }
   ],
   "source": [
    "× 3j4"
   ]
  },
  {
   "cell_type": "markdown",
   "id": "e46ba71d-f41a-46c8-9c97-e1c57f6e9364",
   "metadata": {},
   "source": [
    "We get the Magnitude of **3j4** by using Stile `|` - and following up by dividing the complex number with it's magnitude gives us the same result: "
   ]
  },
  {
   "cell_type": "code",
   "execution_count": 21,
   "id": "3f547403-3475-425e-b131-e1dca82eb82f",
   "metadata": {},
   "outputs": [
    {
     "data": {
      "text/html": [
       "<pre class=\"language-APL\"> \n",
       "5\n",
       " \n",
       "</pre>"
      ]
     },
     "execution_count": 21,
     "metadata": {},
     "output_type": "execute_result"
    }
   ],
   "source": [
    "|3j4"
   ]
  },
  {
   "cell_type": "code",
   "execution_count": 22,
   "id": "a86cf618-07cb-4ca1-8825-9349b3e706ce",
   "metadata": {},
   "outputs": [
    {
     "data": {
      "text/html": [
       "<pre class=\"language-APL\">       \n",
       "0.6J0.8\n",
       "       \n",
       "</pre>"
      ]
     },
     "execution_count": 22,
     "metadata": {},
     "output_type": "execute_result"
    }
   ],
   "source": [
    "3j4 ÷ (|3j4)"
   ]
  },
  {
   "cell_type": "markdown",
   "id": "3dfa7345-acd3-4f40-a0a7-5a0ed4b098fc",
   "metadata": {},
   "source": [
    "More details on magnitudes to follow in later sections."
   ]
  },
  {
   "cell_type": "markdown",
   "id": "026cd1cb-5e68-4e2e-8016-c2a386d190fa",
   "metadata": {},
   "source": [
    "### **Dyadic - (Times)**"
   ]
  },
  {
   "cell_type": "code",
   "execution_count": 23,
   "id": "a846a5a3-7eda-44ed-8739-d6e43c96a722",
   "metadata": {},
   "outputs": [
    {
     "data": {
      "text/html": [
       "<pre class=\"language-APL\">┌→──────┐\n",
       "│¯6 12 9│\n",
       "└~──────┘\n",
       "</pre>"
      ]
     },
     "execution_count": 23,
     "metadata": {},
     "output_type": "execute_result"
    }
   ],
   "source": [
    "2 ¯3 4.5 × ¯3 ¯4 2"
   ]
  },
  {
   "cell_type": "code",
   "execution_count": 24,
   "id": "8806d226-aab7-40ba-9183-99612861c330",
   "metadata": {},
   "outputs": [
    {
     "data": {
      "text/html": [
       "<pre class=\"language-APL\">┌→───────┐\n",
       "│30 10 40│\n",
       "└~───────┘\n",
       "</pre>"
      ]
     },
     "execution_count": 24,
     "metadata": {},
     "output_type": "execute_result"
    }
   ],
   "source": [
    "3 1 4 × 10"
   ]
  },
  {
   "cell_type": "code",
   "execution_count": 25,
   "id": "bdbd22da-68a3-4948-a2ec-e202bd759b9b",
   "metadata": {},
   "outputs": [
    {
     "data": {
      "text/html": [
       "<pre class=\"language-APL\">   \n",
       "120\n",
       "   \n",
       "</pre>"
      ]
     },
     "execution_count": 25,
     "metadata": {},
     "output_type": "execute_result"
    }
   ],
   "source": [
    "×/ 2 3 4 5"
   ]
  },
  {
   "cell_type": "markdown",
   "id": "394ca86d-46fa-4c92-b6b4-62ccd132311d",
   "metadata": {
    "jp-MarkdownHeadingCollapsed": true
   },
   "source": [
    "## **4. `÷` Divide Sign**"
   ]
  },
  {
   "cell_type": "markdown",
   "id": "81d53511-b78d-45da-8173-923286bf49a7",
   "metadata": {},
   "source": [
    "### **Monadic - (Reciprocal)**"
   ]
  },
  {
   "cell_type": "markdown",
   "id": "1daed2a1-2ffd-480d-a70a-40d4104f377b",
   "metadata": {},
   "source": [
    "`R←÷Y` \n",
    "\n",
    "Y must be a numeric array.  R is numeric.  R is the reciprocal of Y; that is `1÷Y`."
   ]
  },
  {
   "cell_type": "code",
   "execution_count": 26,
   "id": "d4180024-3d71-44b3-a6b4-2044958ba56f",
   "metadata": {},
   "outputs": [
    {
     "data": {
      "text/html": [
       "<pre class=\"language-APL\">┌→─────────────────┐\n",
       "│1 0.5 0.3333333333│\n",
       "└~─────────────────┘\n",
       "</pre>"
      ]
     },
     "execution_count": 26,
     "metadata": {},
     "output_type": "execute_result"
    }
   ],
   "source": [
    "÷ 1 2 3"
   ]
  },
  {
   "cell_type": "code",
   "execution_count": 27,
   "id": "c81f1ab5-247d-4e27-adc7-9d241e7af24c",
   "metadata": {},
   "outputs": [
    {
     "data": {
      "text/html": [
       "<pre class=\"language-APL\">┌→───────────────────────────────┐\n",
       "│0J¯1 0J1 0.25J¯0.25 0.125J¯0.125│\n",
       "└~───────────────────────────────┘\n",
       "</pre>"
      ]
     },
     "execution_count": 27,
     "metadata": {},
     "output_type": "execute_result"
    }
   ],
   "source": [
    "÷ 0j1 0j¯1 2j2 4j4"
   ]
  },
  {
   "cell_type": "markdown",
   "id": "4604295d-eacf-4282-bf6a-f35649c38fd4",
   "metadata": {},
   "source": [
    "### **Dyadic - (Divided By)**"
   ]
  },
  {
   "cell_type": "markdown",
   "id": "5ce462e1-4092-492a-9e54-a9702b23db14",
   "metadata": {},
   "source": [
    "`R←X÷Y`\n",
    "\n",
    "Y must be a numeric array.  X must be a numeric array.  R is the numeric array resulting from X divided by Y."
   ]
  },
  {
   "cell_type": "code",
   "execution_count": 28,
   "id": "ea9ac71f-3ba9-4444-8d09-4a856d901960",
   "metadata": {},
   "outputs": [
    {
     "data": {
      "text/html": [
       "<pre class=\"language-APL\">┌→──────────────────────┐\n",
       "│¯0.6666666667 0.75 2.25│\n",
       "└~──────────────────────┘\n",
       "</pre>"
      ]
     },
     "execution_count": 28,
     "metadata": {},
     "output_type": "execute_result"
    }
   ],
   "source": [
    "2 ¯3 4.5 ÷ ¯3 ¯4 2"
   ]
  },
  {
   "cell_type": "code",
   "execution_count": 29,
   "id": "fd9b5544-bc83-4ecf-afcb-c616737ac523",
   "metadata": {},
   "outputs": [
    {
     "data": {
      "text/html": [
       "<pre class=\"language-APL\">┌→──────────┐\n",
       "│0.3 0.1 0.4│\n",
       "└~──────────┘\n",
       "</pre>"
      ]
     },
     "execution_count": 29,
     "metadata": {},
     "output_type": "execute_result"
    }
   ],
   "source": [
    "3 1 4 ÷ 10"
   ]
  },
  {
   "cell_type": "code",
   "execution_count": 30,
   "id": "aafdafbe-0e7c-47fc-9eda-fce4a1f6094b",
   "metadata": {},
   "outputs": [
    {
     "data": {
      "text/html": [
       "<pre class=\"language-APL\">     \n",
       "1.875\n",
       "     \n",
       "</pre>"
      ]
     },
     "execution_count": 30,
     "metadata": {},
     "output_type": "execute_result"
    }
   ],
   "source": [
    "÷/ 1 2 3 4 5"
   ]
  },
  {
   "cell_type": "markdown",
   "id": "d1420522-daef-42d7-aef4-166d66fe3ef8",
   "metadata": {},
   "source": [
    "## **5. `*` Star**"
   ]
  },
  {
   "cell_type": "markdown",
   "id": "2a7ef870-9acc-461a-a343-a99474c15cd3",
   "metadata": {},
   "source": [
    "### **Monadic Star - (Exponential)**"
   ]
  },
  {
   "cell_type": "markdown",
   "id": "53027e93-b002-4839-a923-a67c122a4c20",
   "metadata": {},
   "source": [
    "`R←*Y`\n",
    "\n",
    "Y must be numeric. R is numeric and is the $Yth$ power of **$e$**, the base of natural logarithms."
   ]
  },
  {
   "cell_type": "code",
   "execution_count": 31,
   "id": "1b3a42ca-270b-4ec1-8139-3f991bd5179b",
   "metadata": {},
   "outputs": [
    {
     "data": {
      "text/html": [
       "<pre class=\"language-APL\">┌→────────────────────────┐\n",
       "│1 2.718281828 7.389056099│\n",
       "└~────────────────────────┘\n",
       "</pre>"
      ]
     },
     "execution_count": 31,
     "metadata": {},
     "output_type": "execute_result"
    }
   ],
   "source": [
    "* 0 1 2"
   ]
  },
  {
   "cell_type": "code",
   "execution_count": 32,
   "id": "61351fa0-efe3-498e-8556-d424d8d2a304",
   "metadata": {},
   "outputs": [
    {
     "data": {
      "text/html": [
       "<pre class=\"language-APL\">┌→─────────────────────────────────────────────────┐\n",
       "│0.5403023059J0.8414709848 ¯1.131204384J2.471726672│\n",
       "└~─────────────────────────────────────────────────┘\n",
       "</pre>"
      ]
     },
     "execution_count": 32,
     "metadata": {},
     "output_type": "execute_result"
    }
   ],
   "source": [
    "* 0j1 1j2"
   ]
  },
  {
   "cell_type": "markdown",
   "id": "c9697e86-6f2b-419e-8d2c-15165afe9009",
   "metadata": {},
   "source": [
    "### **Dyadic Star - (Power)**"
   ]
  },
  {
   "cell_type": "markdown",
   "id": "26cb2147-7e7a-4256-9089-763471bee924",
   "metadata": {},
   "source": [
    "`R←X*Y`\n",
    "\n",
    "Y must be a numeric array.  X must be a numeric array.  R is numeric.  The value of R is X raised to the power of Y.\n",
    "\n",
    "If Y is zero, R is defined to be 1. If X is zero, Y must be non-negative. If X is negative, the result R is likely to be complex."
   ]
  },
  {
   "cell_type": "code",
   "execution_count": 33,
   "id": "bbab8ac5-0e9b-4f06-8a46-8515849e6417",
   "metadata": {},
   "outputs": [
    {
     "data": {
      "text/html": [
       "<pre class=\"language-APL\">┌→─────┐\n",
       "│4 0.25│\n",
       "└~─────┘\n",
       "</pre>"
      ]
     },
     "execution_count": 33,
     "metadata": {},
     "output_type": "execute_result"
    }
   ],
   "source": [
    "2*2 ¯2"
   ]
  },
  {
   "cell_type": "code",
   "execution_count": 34,
   "id": "4ffb5c33-e680-4e70-95c3-c954fb85bd87",
   "metadata": {},
   "outputs": [
    {
     "data": {
      "text/html": [
       "<pre class=\"language-APL\">┌→───────┐\n",
       "│7 25 0J2│\n",
       "└~───────┘\n",
       "</pre>"
      ]
     },
     "execution_count": 34,
     "metadata": {},
     "output_type": "execute_result"
    }
   ],
   "source": [
    "49 5 ¯4 * 0.5 2 0.5"
   ]
  },
  {
   "cell_type": "markdown",
   "id": "a1bbc9d0-45b8-47bd-8c02-a46081a8a008",
   "metadata": {},
   "source": [
    "In the output above, 0J2 is equivalent to $2i$"
   ]
  },
  {
   "cell_type": "markdown",
   "id": "a5aae155-1434-45ba-88c3-7858e033b484",
   "metadata": {},
   "source": [
    "## **Expressions**"
   ]
  },
  {
   "cell_type": "markdown",
   "id": "299cc682-883b-47e5-ba6a-f7cb57519ead",
   "metadata": {},
   "source": [
    "### **Precedence**"
   ]
  },
  {
   "cell_type": "markdown",
   "id": "e182aaae-ffc7-406b-a477-879848afd088",
   "metadata": {},
   "source": [
    "In contrast to other programming languages which have an explicit precedence for mathematical operators, APL primarily goes from right to left for order of operations."
   ]
  },
  {
   "cell_type": "code",
   "execution_count": 35,
   "id": "e64e14f4-e5e7-4319-869c-9d4180a67c3a",
   "metadata": {},
   "outputs": [
    {
     "data": {
      "text/html": [
       "<pre class=\"language-APL\"> \n",
       "9\n",
       " \n",
       "</pre>"
      ]
     },
     "execution_count": 35,
     "metadata": {},
     "output_type": "execute_result"
    }
   ],
   "source": [
    "3×2+1"
   ]
  },
  {
   "cell_type": "code",
   "execution_count": 36,
   "id": "6c880892-23fd-4d82-aa74-fdd6b2b829f3",
   "metadata": {},
   "outputs": [
    {
     "data": {
      "text/html": [
       "<pre class=\"language-APL\"> \n",
       "2\n",
       " \n",
       "</pre>"
      ]
     },
     "execution_count": 36,
     "metadata": {},
     "output_type": "execute_result"
    }
   ],
   "source": [
    "8*÷3"
   ]
  },
  {
   "cell_type": "markdown",
   "id": "ec9e1b78-de1c-4516-bee7-3631365114f9",
   "metadata": {},
   "source": [
    "Here the parentheses are for illustrative purposes only."
   ]
  },
  {
   "cell_type": "code",
   "execution_count": 37,
   "id": "b3f28ed9-246b-4c24-ace5-e9c6c371be21",
   "metadata": {},
   "outputs": [
    {
     "data": {
      "text/html": [
       "<pre class=\"language-APL\">┌→──────┐\n",
       "│4 12 24│\n",
       "└~──────┘\n",
       "</pre>"
      ]
     },
     "execution_count": 37,
     "metadata": {},
     "output_type": "execute_result"
    }
   ],
   "source": [
    "1 2 3 × (2 + 2 4 6)"
   ]
  },
  {
   "cell_type": "markdown",
   "id": "982d81f1-e6e8-4551-b142-5dbbd1f9b8cc",
   "metadata": {},
   "source": [
    "However, symbols don't have the same precedence. Space between numbers binds more tightly since they are reprensented as a list / array."
   ]
  },
  {
   "cell_type": "code",
   "execution_count": 38,
   "id": "3ceca89f-210e-407e-af15-e9a80432f507",
   "metadata": {},
   "outputs": [
    {
     "data": {
      "text/html": [
       "<pre class=\"language-APL\">┌→──┐\n",
       "│5 7│\n",
       "└~──┘\n",
       "</pre>"
      ]
     },
     "execution_count": 38,
     "metadata": {},
     "output_type": "execute_result"
    }
   ],
   "source": [
    "3 + 2 4"
   ]
  },
  {
   "cell_type": "code",
   "execution_count": 39,
   "id": "291c0b70-2396-49cb-b89f-426f81bcc3c4",
   "metadata": {},
   "outputs": [
    {
     "data": {
      "text/html": [
       "<pre class=\"language-APL\">┌→──┐\n",
       "│1 8│\n",
       "└~──┘\n",
       "</pre>"
      ]
     },
     "execution_count": 39,
     "metadata": {},
     "output_type": "execute_result"
    }
   ],
   "source": [
    "3 + ¯2 5"
   ]
  },
  {
   "cell_type": "markdown",
   "id": "74e72ce9-d21f-4602-83c9-7dc916a0ddd9",
   "metadata": {},
   "source": [
    "We can even print the order of precedence for various operators and functions in the form of a tree diagram."
   ]
  },
  {
   "cell_type": "code",
   "execution_count": 49,
   "id": "e51ef51d-541a-4160-8ba8-cb403131e146",
   "metadata": {},
   "outputs": [
    {
     "data": {
      "text/html": [
       "<pre class=\"language-APL\">┌─┼───┐\n",
       "- * ┌─┼─┐\n",
       "    ÷ + ⍎\n",
       "</pre>"
      ]
     },
     "execution_count": 49,
     "metadata": {},
     "output_type": "execute_result"
    }
   ],
   "source": [
    "- * ÷ + "
   ]
  },
  {
   "cell_type": "markdown",
   "id": "eb6eaf69-7aec-40e7-b533-8f398157c487",
   "metadata": {},
   "source": [
    "## **Functions**"
   ]
  },
  {
   "cell_type": "markdown",
   "id": "72dc11ce-80f5-4706-82d5-8d7b5e01e094",
   "metadata": {},
   "source": [
    "### **Assignment** - **`←` Left Arrow**"
   ]
  },
  {
   "cell_type": "markdown",
   "id": "67ebf19f-5991-48a6-aecb-12cf9166258a",
   "metadata": {},
   "source": [
    "#### **Dyadic Left Arrow - (Naming)**"
   ]
  },
  {
   "cell_type": "code",
   "execution_count": 72,
   "id": "15446857-f661-483a-a229-0e115dd63c34",
   "metadata": {},
   "outputs": [
    {
     "data": {
      "text/html": [
       "<pre class=\"language-APL\">┌→────┐\n",
       "│5 6 7│\n",
       "└~────┘\n",
       "</pre>"
      ]
     },
     "execution_count": 72,
     "metadata": {},
     "output_type": "execute_result"
    }
   ],
   "source": [
    "V ← 5 6 7\n",
    "V"
   ]
  },
  {
   "cell_type": "code",
   "execution_count": 64,
   "id": "c04dbf34-3566-4552-929b-0d1f41602d84",
   "metadata": {},
   "outputs": [
    {
     "data": {
      "text/html": [
       "<pre class=\"language-APL\">┌→────────┐\n",
       "│   ┌→──┐ │\n",
       "│ 4 │5 6│ │\n",
       "│   └~──┘ │\n",
       "└∊────────┘\n",
       "</pre>"
      ]
     },
     "execution_count": 64,
     "metadata": {},
     "output_type": "execute_result"
    }
   ],
   "source": [
    "i (j k) ← 4 (5 6)\n",
    "i (j k)"
   ]
  },
  {
   "cell_type": "markdown",
   "id": "0be8a50d-7f60-49a3-bc88-d87ba045fef9",
   "metadata": {},
   "source": [
    "#### **Operator Left Arrow - Modified Assignment**"
   ]
  },
  {
   "cell_type": "code",
   "execution_count": 69,
   "id": "7e64fa11-3c97-4d03-8107-fbfc7b9da16b",
   "metadata": {},
   "outputs": [
    {
     "data": {
      "text/html": [
       "<pre class=\"language-APL\">┌→────┐\n",
       "│5 6 7│\n",
       "└~────┘\n",
       "</pre>"
      ]
     },
     "execution_count": 69,
     "metadata": {},
     "output_type": "execute_result"
    }
   ],
   "source": [
    "V ← 5 6 7\n",
    "V"
   ]
  },
  {
   "cell_type": "code",
   "execution_count": 70,
   "id": "073762ff-da5f-4b99-80b0-4cb5debe4857",
   "metadata": {},
   "outputs": [
    {
     "data": {
      "text/html": [
       "<pre class=\"language-APL\">┌→────┐\n",
       "│6 7 8│\n",
       "└~────┘\n",
       "</pre>"
      ]
     },
     "execution_count": 70,
     "metadata": {},
     "output_type": "execute_result"
    }
   ],
   "source": [
    "V +← 1\n",
    "V"
   ]
  },
  {
   "cell_type": "code",
   "execution_count": 71,
   "id": "4532b843-8b4a-4d32-a2aa-9d3893049532",
   "metadata": {},
   "outputs": [
    {
     "data": {
      "text/html": [
       "<pre class=\"language-APL\">┌→────┐\n",
       "│5 6 7│\n",
       "└~────┘\n",
       "</pre>"
      ]
     },
     "execution_count": 71,
     "metadata": {},
     "output_type": "execute_result"
    }
   ],
   "source": [
    "V -← 1\n",
    "V"
   ]
  },
  {
   "cell_type": "markdown",
   "id": "88eb1729-c834-4530-b833-c45aaf9d107d",
   "metadata": {},
   "source": [
    "### **Curly Brackets `{}`**"
   ]
  },
  {
   "cell_type": "markdown",
   "id": "999747a1-02f3-47c8-8f6c-00bf47cfdd3d",
   "metadata": {},
   "source": [
    "They are used to define a function, with the left argument being used for naming. Value assignment is handled by adding empty variables inside the brackets.| "
   ]
  },
  {
   "cell_type": "code",
   "execution_count": 150,
   "id": "0d5ecd4a-6145-4267-b3bf-d3688bf595f2",
   "metadata": {},
   "outputs": [
    {
     "data": {
      "text/html": [
       "<pre class=\"language-APL\"> \n",
       "8\n",
       " \n",
       "</pre>"
      ]
     },
     "execution_count": 150,
     "metadata": {},
     "output_type": "execute_result"
    }
   ],
   "source": [
    "{⍵×2} 4"
   ]
  },
  {
   "cell_type": "code",
   "execution_count": 104,
   "id": "014ee359-9282-4971-8d18-ba75653d9712",
   "metadata": {},
   "outputs": [
    {
     "data": {
      "text/html": [
       "<pre class=\"language-APL\"> \n",
       "8\n",
       " \n",
       "</pre>"
      ]
     },
     "execution_count": 104,
     "metadata": {},
     "output_type": "execute_result"
    }
   ],
   "source": [
    "f ← {⍵×2}\n",
    "f 4"
   ]
  },
  {
   "cell_type": "code",
   "execution_count": 105,
   "id": "23ffd52e-5c9f-49d1-9dd9-2e13da462334",
   "metadata": {},
   "outputs": [
    {
     "data": {
      "text/html": [
       "<pre class=\"language-APL\">┌→──────┐\n",
       "│8 10 12│\n",
       "└~──────┘\n",
       "</pre>"
      ]
     },
     "execution_count": 105,
     "metadata": {},
     "output_type": "execute_result"
    }
   ],
   "source": [
    "f 4 5 6"
   ]
  },
  {
   "cell_type": "markdown",
   "id": "26b0f7e0-318d-4ffa-b9b7-bcdbf160e4a4",
   "metadata": {},
   "source": [
    "Sticking to the rules of precedence, with operations being carried out from right to left, might seem counter intuitive at first. Refer to the [model syntax](https://help.dyalog.com/latest/index.htm#Language/Defined%20Functions%20and%20Operators/TradFns/Model%20Syntax.htm) for additional clarity. "
   ]
  },
  {
   "cell_type": "code",
   "execution_count": 111,
   "id": "a8c838d0-b28d-40d8-9e38-b9fd886be14d",
   "metadata": {},
   "outputs": [
    {
     "data": {
      "text/html": [
       "<pre class=\"language-APL\"> \n",
       "8\n",
       " \n",
       "</pre>"
      ]
     },
     "execution_count": 111,
     "metadata": {},
     "output_type": "execute_result"
    }
   ],
   "source": [
    "g ← {⍵×2+⍺}\n",
    "2 g 2"
   ]
  },
  {
   "cell_type": "code",
   "execution_count": 112,
   "id": "e04ebd9b-0856-434c-80fb-e5c92f41ecab",
   "metadata": {},
   "outputs": [
    {
     "data": {
      "text/html": [
       "<pre class=\"language-APL\">┌→──┐\n",
       "│6 9│\n",
       "└~──┘\n",
       "</pre>"
      ]
     },
     "execution_count": 112,
     "metadata": {},
     "output_type": "execute_result"
    }
   ],
   "source": [
    "1 g 2 3"
   ]
  },
  {
   "cell_type": "code",
   "execution_count": 113,
   "id": "52c0b7fc-6ffd-4a9e-8a27-e9925bc705c8",
   "metadata": {},
   "outputs": [
    {
     "data": {
      "text/html": [
       "<pre class=\"language-APL\">┌→──────┐\n",
       "│8 12 16│\n",
       "└~──────┘\n",
       "</pre>"
      ]
     },
     "execution_count": 113,
     "metadata": {},
     "output_type": "execute_result"
    }
   ],
   "source": [
    "2 g 2 3 4"
   ]
  },
  {
   "cell_type": "markdown",
   "id": "b735f99f-8a40-48f7-9678-081d5d0a18b0",
   "metadata": {},
   "source": [
    "We can even nest functions."
   ]
  },
  {
   "cell_type": "code",
   "execution_count": 118,
   "id": "1add56b2-a097-4243-9dcb-3293ad967473",
   "metadata": {},
   "outputs": [
    {
     "data": {
      "text/html": [
       "<pre class=\"language-APL\">  \n",
       "18\n",
       "  \n",
       "</pre>"
      ]
     },
     "execution_count": 118,
     "metadata": {},
     "output_type": "execute_result"
    }
   ],
   "source": [
    "h ← {2 + f ⍵ × ⍺}\n",
    "2 h 4"
   ]
  },
  {
   "cell_type": "markdown",
   "id": "bb434489-1a99-42a6-8fa1-e05fb598b6e5",
   "metadata": {},
   "source": [
    "## **Array Rank**"
   ]
  },
  {
   "cell_type": "markdown",
   "id": "91de6390-b5e9-4e57-b9a8-fcddb7a8fd48",
   "metadata": {},
   "source": [
    "### **`⍴` - Rho**"
   ]
  },
  {
   "cell_type": "markdown",
   "id": "4ed50c29-48ac-4d04-9d3c-553b1f5a1221",
   "metadata": {},
   "source": [
    "#### **Monadic `⍴` - (Shape of)**"
   ]
  },
  {
   "cell_type": "markdown",
   "id": "8a71bdca-d927-4405-8719-e639f4ae83d9",
   "metadata": {},
   "source": [
    "This denotes an empty numeric vector and is also known as a Zilde `⍬`"
   ]
  },
  {
   "cell_type": "code",
   "execution_count": 152,
   "id": "f40b3067-34ef-48bc-9db2-7543db4c9a16",
   "metadata": {},
   "outputs": [
    {
     "data": {
      "text/html": [
       "<pre class=\"language-APL\">┌⊖┐\n",
       "│0│\n",
       "└~┘\n",
       "</pre>"
      ]
     },
     "execution_count": 152,
     "metadata": {},
     "output_type": "execute_result"
    }
   ],
   "source": [
    "⍴ 3"
   ]
  },
  {
   "cell_type": "code",
   "execution_count": 153,
   "id": "20807107-ca00-4ab2-894c-ecb88475fcbb",
   "metadata": {},
   "outputs": [
    {
     "data": {
      "text/html": [
       "<pre class=\"language-APL\">┌→┐\n",
       "│0│\n",
       "└~┘\n",
       "</pre>"
      ]
     },
     "execution_count": 153,
     "metadata": {},
     "output_type": "execute_result"
    }
   ],
   "source": [
    "⍴⍬"
   ]
  },
  {
   "cell_type": "code",
   "execution_count": 154,
   "id": "da8d1005-39b9-4e0a-9e48-7a233a5cacfd",
   "metadata": {},
   "outputs": [
    {
     "data": {
      "text/html": [
       "<pre class=\"language-APL\">┌→┐\n",
       "│1│\n",
       "└~┘\n",
       "</pre>"
      ]
     },
     "execution_count": 154,
     "metadata": {},
     "output_type": "execute_result"
    }
   ],
   "source": [
    "⍴⍴⍬"
   ]
  },
  {
   "cell_type": "code",
   "execution_count": 160,
   "id": "3ddb91a1-1c4c-40dc-a2d0-5f64c17bbe4b",
   "metadata": {},
   "outputs": [
    {
     "data": {
      "text/html": [
       "<pre class=\"language-APL\">┌→┐\n",
       "│1│\n",
       "└~┘\n",
       "</pre>"
      ]
     },
     "execution_count": 160,
     "metadata": {},
     "output_type": "execute_result"
    }
   ],
   "source": [
    "⍴⍴⍴ 3 3"
   ]
  },
  {
   "cell_type": "markdown",
   "id": "b50914ca-8881-4343-8397-6d292f5593f1",
   "metadata": {},
   "source": [
    "#### **Dyadic `⍴` - (Reshape)**"
   ]
  },
  {
   "cell_type": "markdown",
   "id": "f403e964-a192-453f-bf1c-be24c70a01d4",
   "metadata": {},
   "source": [
    "This is similar to Numpy's reshape function. Displaying an array which we've assigned to a variable. The `⎕` or Quad element - [amongst other operations](https://help.dyalog.com/latest/index.htm#Language/System%20Functions/Evaluated%20Input%20Output.htm?Highlight=%E2%8E%95) - prints the results of an array assignment."
   ]
  },
  {
   "cell_type": "code",
   "execution_count": 119,
   "id": "169d59c7-ad73-4caf-adfd-2e055f893b7d",
   "metadata": {},
   "outputs": [
    {
     "data": {
      "text/html": [
       "<pre class=\"language-APL\">┌→────────┐\n",
       "│1 2 3 4 5│\n",
       "└~────────┘\n",
       "</pre>"
      ]
     },
     "execution_count": 119,
     "metadata": {},
     "output_type": "execute_result"
    }
   ],
   "source": [
    "⎕←a←1 2 3 4 5"
   ]
  },
  {
   "cell_type": "markdown",
   "id": "7365896e-5d28-4573-8cd6-bdc74e68afdf",
   "metadata": {},
   "source": [
    "By defining a `3x2` matrix. The arrows indicate rows and height."
   ]
  },
  {
   "cell_type": "code",
   "execution_count": 126,
   "id": "1934ba02-94d5-48b8-9984-4477ab8ab205",
   "metadata": {},
   "outputs": [
    {
     "data": {
      "text/html": [
       "<pre class=\"language-APL\">┌→──┐\n",
       "↓1 2│\n",
       "│3 4│\n",
       "│5 1│\n",
       "└~──┘\n",
       "</pre>"
      ]
     },
     "execution_count": 126,
     "metadata": {},
     "output_type": "execute_result"
    }
   ],
   "source": [
    "3 2 ⍴ a"
   ]
  },
  {
   "cell_type": "markdown",
   "id": "1cc016db-f78a-449c-b35a-87f310a8cfa6",
   "metadata": {},
   "source": [
    "And here's a single row matrix. Again, we are differentiating between arrays and matrices by the number of arrows in the diagram box."
   ]
  },
  {
   "cell_type": "code",
   "execution_count": 127,
   "id": "1fd7aff2-591f-4816-b1d1-06649bf02124",
   "metadata": {},
   "outputs": [
    {
     "data": {
      "text/html": [
       "<pre class=\"language-APL\">┌→──────────────┐\n",
       "↓1 2 3 4 5 1 2 3│\n",
       "└~──────────────┘\n",
       "</pre>"
      ]
     },
     "execution_count": 127,
     "metadata": {},
     "output_type": "execute_result"
    }
   ],
   "source": [
    "1 8 ⍴ a"
   ]
  },
  {
   "cell_type": "code",
   "execution_count": 149,
   "id": "321f9456-c6e7-4254-b192-e830cbf9d894",
   "metadata": {},
   "outputs": [
    {
     "data": {
      "text/html": [
       "<pre class=\"language-APL\">┌→────┐\n",
       "↓1 2 3│\n",
       "│1 2 3│\n",
       "│1 2 3│\n",
       "└~────┘\n",
       "</pre>"
      ]
     },
     "execution_count": 149,
     "metadata": {},
     "output_type": "execute_result"
    }
   ],
   "source": [
    "⎕← mat ← 3 3 ⍴ a"
   ]
  },
  {
   "cell_type": "code",
   "execution_count": 156,
   "id": "af02434d-adcb-4c9d-9e6d-d3777c71aa67",
   "metadata": {},
   "outputs": [
    {
     "data": {
      "text/html": [
       "<pre class=\"language-APL\">┌→──┐\n",
       "│3 3│\n",
       "└~──┘\n",
       "</pre>"
      ]
     },
     "execution_count": 156,
     "metadata": {},
     "output_type": "execute_result"
    }
   ],
   "source": [
    "⍴ mat"
   ]
  },
  {
   "cell_type": "code",
   "execution_count": 157,
   "id": "16995c9a-6bc2-4e87-b09b-5800bd9102d6",
   "metadata": {},
   "outputs": [
    {
     "data": {
      "text/html": [
       "<pre class=\"language-APL\">┌→┐\n",
       "│2│\n",
       "└~┘\n",
       "</pre>"
      ]
     },
     "execution_count": 157,
     "metadata": {},
     "output_type": "execute_result"
    }
   ],
   "source": [
    "⍴⍴ mat"
   ]
  },
  {
   "cell_type": "code",
   "execution_count": 161,
   "id": "b875eeb0-091e-4ba3-966b-5c56b07f8bba",
   "metadata": {},
   "outputs": [
    {
     "data": {
      "text/html": [
       "<pre class=\"language-APL\">┌→┐\n",
       "│1│\n",
       "└~┘\n",
       "</pre>"
      ]
     },
     "execution_count": 161,
     "metadata": {},
     "output_type": "execute_result"
    }
   ],
   "source": [
    "⍴⍴⍴ mat"
   ]
  },
  {
   "cell_type": "code",
   "execution_count": 166,
   "id": "d602b6d3-59a1-493a-8edc-94b0911b89e6",
   "metadata": {},
   "outputs": [
    {
     "data": {
      "text/html": [
       "<pre class=\"language-APL\">┌┌→──┐\n",
       "↓↓1 2│\n",
       "││3 1│\n",
       "││2 3│\n",
       "││   │\n",
       "││1 2│\n",
       "││3 1│\n",
       "││2 3│\n",
       "││   │\n",
       "││1 2│\n",
       "││3 1│\n",
       "││2 3│\n",
       "└└~──┘\n",
       "</pre>"
      ]
     },
     "execution_count": 166,
     "metadata": {},
     "output_type": "execute_result"
    }
   ],
   "source": [
    "⎕← mat ← 3 3 2 ⍴ a "
   ]
  },
  {
   "cell_type": "code",
   "execution_count": 167,
   "id": "9a004425-5e48-4ff4-8e7b-e3be38499008",
   "metadata": {},
   "outputs": [
    {
     "data": {
      "text/html": [
       "<pre class=\"language-APL\">┌→┐\n",
       "│3│\n",
       "└~┘\n",
       "</pre>"
      ]
     },
     "execution_count": 167,
     "metadata": {},
     "output_type": "execute_result"
    }
   ],
   "source": [
    "⍴⍴ mat"
   ]
  },
  {
   "cell_type": "code",
   "execution_count": 168,
   "id": "00d671b9-5775-44ab-9ee1-8cb8c4ec6411",
   "metadata": {},
   "outputs": [
    {
     "data": {
      "text/html": [
       "<pre class=\"language-APL\">┌→┐\n",
       "│1│\n",
       "└~┘\n",
       "</pre>"
      ]
     },
     "execution_count": 168,
     "metadata": {},
     "output_type": "execute_result"
    }
   ],
   "source": [
    "⍴⍴⍴ mat"
   ]
  },
  {
   "cell_type": "markdown",
   "id": "b8aa14ff-5256-41bf-bf18-96345344ac96",
   "metadata": {},
   "source": [
    "### **`⍳` - Iota**"
   ]
  },
  {
   "cell_type": "markdown",
   "id": "29082086-43ce-4c61-9ee7-d1be929dd9a4",
   "metadata": {},
   "source": [
    "#### **Monadic `⍳` - (Index Generator)**"
   ]
  },
  {
   "cell_type": "code",
   "execution_count": 169,
   "id": "afa10d20-203a-463d-a144-33a763bf008f",
   "metadata": {},
   "outputs": [
    {
     "data": {
      "text/html": [
       "<pre class=\"language-APL\">┌→──────┐\n",
       "│1 2 3 4│\n",
       "└~──────┘\n",
       "</pre>"
      ]
     },
     "execution_count": 169,
     "metadata": {},
     "output_type": "execute_result"
    }
   ],
   "source": [
    "⍳ 4"
   ]
  },
  {
   "cell_type": "code",
   "execution_count": 172,
   "id": "4b800a77-06c7-40a9-83d6-2563e12a55a1",
   "metadata": {},
   "outputs": [
    {
     "data": {
      "text/html": [
       "<pre class=\"language-APL\">┌→──────────────────┐\n",
       "↓ ┌→──┐ ┌→──┐ ┌→──┐ │\n",
       "│ │1 1│ │1 2│ │1 3│ │\n",
       "│ └~──┘ └~──┘ └~──┘ │\n",
       "│ ┌→──┐ ┌→──┐ ┌→──┐ │\n",
       "│ │2 1│ │2 2│ │2 3│ │\n",
       "│ └~──┘ └~──┘ └~──┘ │\n",
       "└∊──────────────────┘\n",
       "</pre>"
      ]
     },
     "execution_count": 172,
     "metadata": {},
     "output_type": "execute_result"
    }
   ],
   "source": [
    "⍳ 2 3"
   ]
  },
  {
   "cell_type": "code",
   "execution_count": 173,
   "id": "4f6f9596-ae75-4aa9-84a7-cb46da91f14f",
   "metadata": {},
   "outputs": [
    {
     "data": {
      "text/html": [
       "<pre class=\"language-APL\">┌┌→────────────────────────┐\n",
       "↓↓ ┌→────┐ ┌→────┐ ┌→────┐ │\n",
       "││ │1 1 1│ │1 1 2│ │1 1 3│ │\n",
       "││ └~────┘ └~────┘ └~────┘ │\n",
       "││ ┌→────┐ ┌→────┐ ┌→────┐ │\n",
       "││ │1 2 1│ │1 2 2│ │1 2 3│ │\n",
       "││ └~────┘ └~────┘ └~────┘ │\n",
       "└└∊────────────────────────┘\n",
       "</pre>"
      ]
     },
     "execution_count": 173,
     "metadata": {},
     "output_type": "execute_result"
    }
   ],
   "source": [
    "⍳ 1 2 3"
   ]
  },
  {
   "cell_type": "code",
   "execution_count": 178,
   "id": "d13199aa-9884-44aa-92c7-7908708c7511",
   "metadata": {},
   "outputs": [
    {
     "data": {
      "text/html": [
       "<pre class=\"language-APL\">┌⊖┐\n",
       "│0│\n",
       "└~┘\n",
       "</pre>"
      ]
     },
     "execution_count": 178,
     "metadata": {},
     "output_type": "execute_result"
    }
   ],
   "source": [
    "⍳ 0"
   ]
  },
  {
   "cell_type": "markdown",
   "id": "079cc2f4-4024-48ae-977b-d5fbdfb37f8d",
   "metadata": {},
   "source": [
    "#### **Dyadic `⍳` - (Index of)**"
   ]
  },
  {
   "cell_type": "code",
   "execution_count": 176,
   "id": "55e8819f-fad1-4261-ae44-fca77f316f22",
   "metadata": {},
   "outputs": [
    {
     "data": {
      "text/html": [
       "<pre class=\"language-APL\">┌→────┐\n",
       "↓1 2 3│\n",
       "│4 5 6│\n",
       "└~────┘\n",
       "</pre>"
      ]
     },
     "execution_count": 176,
     "metadata": {},
     "output_type": "execute_result"
    }
   ],
   "source": [
    "2 3 ⍴ ⍳6"
   ]
  },
  {
   "cell_type": "code",
   "execution_count": 210,
   "id": "3061b024-9b99-459b-90a2-8cebb7273ab2",
   "metadata": {},
   "outputs": [
    {
     "data": {
      "text/html": [
       "<pre class=\"language-APL\">┌→────┐\n",
       "↓1 2 3│\n",
       "│1 2 3│\n",
       "│1 2 3│\n",
       "└~────┘\n",
       "</pre>"
      ]
     },
     "execution_count": 210,
     "metadata": {},
     "output_type": "execute_result"
    }
   ],
   "source": [
    "⎕ ← mat ← 3 3 ⍴a"
   ]
  },
  {
   "cell_type": "code",
   "execution_count": 219,
   "id": "3807876d-d495-43e8-85a0-dec225a34df9",
   "metadata": {},
   "outputs": [
    {
     "data": {
      "text/html": [
       "<pre class=\"language-APL\">┌→──┐\n",
       "↓1 2│\n",
       "│1 2│\n",
       "│1 2│\n",
       "└~──┘\n",
       "</pre>"
      ]
     },
     "execution_count": 219,
     "metadata": {},
     "output_type": "execute_result"
    }
   ],
   "source": [
    "⎕ ← mat ← 3 2 ⍴ ⍳2"
   ]
  },
  {
   "cell_type": "markdown",
   "id": "ef425622-9a9f-49a8-94d3-151bbd944b6a",
   "metadata": {},
   "source": [
    "## **Strings (Characters and Character Vectors)**"
   ]
  },
  {
   "cell_type": "code",
   "execution_count": 179,
   "id": "c3dad1ce-9c26-4710-82c5-294b75fc4fc9",
   "metadata": {},
   "outputs": [
    {
     "data": {
      "text/html": [
       "<pre class=\"language-APL\">┌→───┐\n",
       "│ABCD│\n",
       "└────┘\n",
       "</pre>"
      ]
     },
     "execution_count": 179,
     "metadata": {},
     "output_type": "execute_result"
    }
   ],
   "source": [
    "'A' 'B' 'C' 'D'"
   ]
  },
  {
   "cell_type": "code",
   "execution_count": 181,
   "id": "85140142-1206-4fa7-b97a-9116eeb9e625",
   "metadata": {},
   "outputs": [
    {
     "data": {
      "text/html": [
       "<pre class=\"language-APL\">┌→───┐\n",
       "│ABCD│\n",
       "└────┘\n",
       "</pre>"
      ]
     },
     "execution_count": 181,
     "metadata": {},
     "output_type": "execute_result"
    }
   ],
   "source": [
    "'ABCD'"
   ]
  },
  {
   "cell_type": "code",
   "execution_count": 199,
   "id": "47787f00-d42e-40a8-ae11-6cb5a4ae054f",
   "metadata": {},
   "outputs": [
    {
     "data": {
      "text/html": [
       "<pre class=\"language-APL\">┌→────────┐\n",
       "│1 2 4 6 7│\n",
       "└~────────┘\n",
       "</pre>"
      ]
     },
     "execution_count": 199,
     "metadata": {},
     "output_type": "execute_result"
    }
   ],
   "source": [
    "'ABCDEF' ⍳ 'ABDFZ'"
   ]
  },
  {
   "cell_type": "code",
   "execution_count": 188,
   "id": "4c27b17e-8252-41eb-88f4-c1eb4c0f9318",
   "metadata": {},
   "outputs": [
    {
     "data": {
      "text/html": [
       "<pre class=\"language-APL\">┌→─────────┐\n",
       "│1 2 3 4 17│\n",
       "└~─────────┘\n",
       "</pre>"
      ]
     },
     "execution_count": 188,
     "metadata": {},
     "output_type": "execute_result"
    }
   ],
   "source": [
    "'ABCDABCDABCDDCBA' ⍳ 'ABCDE'"
   ]
  },
  {
   "cell_type": "code",
   "execution_count": null,
   "id": "401df144-55cb-4c17-9057-0549ca331946",
   "metadata": {},
   "outputs": [],
   "source": []
  }
 ],
 "metadata": {
  "kernelspec": {
   "display_name": "Dyalog APL",
   "language": "apl",
   "name": "dyalog_apl"
  },
  "language_info": {
   "file_extension": ".apl",
   "mimetype": "text/apl",
   "name": "APL"
  }
 },
 "nbformat": 4,
 "nbformat_minor": 5
}
