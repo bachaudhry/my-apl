{
 "cells": [
  {
   "cell_type": "markdown",
   "id": "c782a0ef-34a5-4e53-80cc-af29add52afc",
   "metadata": {},
   "source": [
    "# **Functions**"
   ]
  },
  {
   "cell_type": "code",
   "execution_count": 1,
   "id": "42ea35fb-88c4-4213-8619-849837ad488a",
   "metadata": {},
   "outputs": [
    {
     "data": {
      "text/html": [
       "<pre class=\"language-APL\">┌→──────────────────────────────────────┐\n",
       "│Was OFF -style=min -trains=box -fns=off│\n",
       "└───────────────────────────────────────┘\n",
       "</pre>"
      ]
     },
     "execution_count": 1,
     "metadata": {},
     "output_type": "execute_result"
    }
   ],
   "source": [
    "]box on -style=max -trains=tree -fns=on"
   ]
  },
  {
   "cell_type": "code",
   "execution_count": 2,
   "id": "61cd7e4e-a616-4f84-b8d3-07651d896ccb",
   "metadata": {},
   "outputs": [
    {
     "name": "stderr",
     "output_type": "stream",
     "text": [
      "SYNTAX ERROR: Invalid Keyword: \":\"\n",
      "      def func(a):\n",
      "                 ∧\n",
      "VALUE ERROR: Undefined name: a\n",
      "      return a\n",
      "             ∧\n"
     ]
    }
   ],
   "source": []
  },
  {
   "cell_type": "code",
   "execution_count": null,
   "id": "e4676b0d-5c8d-4564-a766-6f993687770f",
   "metadata": {},
   "outputs": [],
   "source": []
  }
 ],
 "metadata": {
  "kernelspec": {
   "display_name": "Dyalog APL",
   "language": "apl",
   "name": "dyalog_apl"
  },
  "language_info": {
   "file_extension": ".apl",
   "mimetype": "text/apl",
   "name": "APL"
  }
 },
 "nbformat": 4,
 "nbformat_minor": 5
}
