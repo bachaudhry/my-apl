{
 "cells": [
  {
   "cell_type": "markdown",
   "id": "c782a0ef-34a5-4e53-80cc-af29add52afc",
   "metadata": {},
   "source": [
    "# **Operators**"
   ]
  },
  {
   "cell_type": "code",
   "execution_count": 1,
   "id": "42ea35fb-88c4-4213-8619-849837ad488a",
   "metadata": {},
   "outputs": [
    {
     "data": {
      "text/html": [
       "<pre class=\"language-APL\">┌→──────────────────────────────────────┐\n",
       "│Was OFF -style=min -trains=box -fns=off│\n",
       "└───────────────────────────────────────┘\n",
       "</pre>"
      ]
     },
     "execution_count": 1,
     "metadata": {},
     "output_type": "execute_result"
    }
   ],
   "source": [
    "]box on -style=max -trains=tree -fns=on"
   ]
  },
  {
   "cell_type": "markdown",
   "id": "e0143e46-d141-4c4c-b7dd-4990413e3959",
   "metadata": {},
   "source": [
    "# **Primitive Operators**"
   ]
  },
  {
   "cell_type": "markdown",
   "id": "26e7992b-5184-4b6b-9c3b-58384c7eb82d",
   "metadata": {},
   "source": [
    "Operators, as a basic rule, bind more tightly than functions. Functions on the right hand side of the slash operator will be carried out first in order of operations."
   ]
  },
  {
   "cell_type": "markdown",
   "id": "2871a1fd-3671-4816-bcfc-8cca2893353e",
   "metadata": {},
   "source": [
    "## **`/` Slash**"
   ]
  },
  {
   "cell_type": "markdown",
   "id": "a16f47de-d99a-4810-8465-efe77dbf9c50",
   "metadata": {},
   "source": [
    "### **Monadic `/` - (Reduce - N-Wise Reduce)**"
   ]
  },
  {
   "cell_type": "markdown",
   "id": "975bea13-48be-401b-9a04-b9c9658274fc",
   "metadata": {},
   "source": [
    "**`R ← f/[K]Y`**\n",
    "\n"
   ]
  },
  {
   "cell_type": "code",
   "execution_count": 21,
   "id": "9eac9cb3-306d-46e6-a40a-6407ade5cc2d",
   "metadata": {},
   "outputs": [
    {
     "data": {
      "text/html": [
       "<pre class=\"language-APL\">  \n",
       "15\n",
       "  \n",
       "</pre>"
      ]
     },
     "execution_count": 21,
     "metadata": {},
     "output_type": "execute_result"
    }
   ],
   "source": [
    "+/ 1 2 3 4 5"
   ]
  },
  {
   "cell_type": "code",
   "execution_count": 22,
   "id": "7e129c4b-e4e6-44a1-8624-db62036bb610",
   "metadata": {},
   "outputs": [
    {
     "data": {
      "text/html": [
       "<pre class=\"language-APL\">┌→────────┐\n",
       "│1 2 3 4 5│\n",
       "└~────────┘\n",
       "</pre>"
      ]
     },
     "execution_count": 22,
     "metadata": {},
     "output_type": "execute_result"
    }
   ],
   "source": [
    "⎕ ← a ← ⍳5"
   ]
  },
  {
   "cell_type": "code",
   "execution_count": 25,
   "id": "102e062c-b16a-43c5-aae7-5a95c651fb47",
   "metadata": {},
   "outputs": [
    {
     "data": {
      "text/html": [
       "<pre class=\"language-APL\">  \n",
       "15\n",
       "  \n",
       "</pre>"
      ]
     },
     "execution_count": 25,
     "metadata": {},
     "output_type": "execute_result"
    }
   ],
   "source": [
    "+/a"
   ]
  },
  {
   "cell_type": "code",
   "execution_count": 26,
   "id": "2f8dc245-5033-4ff1-88c6-6184d598a5c2",
   "metadata": {},
   "outputs": [
    {
     "data": {
      "text/html": [
       "<pre class=\"language-APL\">     \n",
       "1.875\n",
       "     \n",
       "</pre>"
      ]
     },
     "execution_count": 26,
     "metadata": {},
     "output_type": "execute_result"
    }
   ],
   "source": [
    "÷/ a"
   ]
  },
  {
   "cell_type": "code",
   "execution_count": 27,
   "id": "28bfba1e-9b1b-4c08-b409-5278dbb7cd32",
   "metadata": {},
   "outputs": [
    {
     "data": {
      "text/html": [
       "<pre class=\"language-APL\">   \n",
       "120\n",
       "   \n",
       "</pre>"
      ]
     },
     "execution_count": 27,
     "metadata": {},
     "output_type": "execute_result"
    }
   ],
   "source": [
    "×/ a"
   ]
  },
  {
   "cell_type": "code",
   "execution_count": 34,
   "id": "af4dca1c-1c02-4a92-9d63-a8e285ff5231",
   "metadata": {},
   "outputs": [
    {
     "data": {
      "text/html": [
       "<pre class=\"language-APL\">┌→──────┐\n",
       "│3 5 7 9│\n",
       "└~──────┘\n",
       "</pre>"
      ]
     },
     "execution_count": 34,
     "metadata": {},
     "output_type": "execute_result"
    }
   ],
   "source": [
    "2 +/ a "
   ]
  },
  {
   "cell_type": "code",
   "execution_count": 37,
   "id": "04a95e32-7478-43d0-ae0b-c313004e74f7",
   "metadata": {},
   "outputs": [
    {
     "data": {
      "text/html": [
       "<pre class=\"language-APL\">┌→──────────┐\n",
       "│1 2 3 4 5 6│\n",
       "└~──────────┘\n",
       "</pre>"
      ]
     },
     "execution_count": 37,
     "metadata": {},
     "output_type": "execute_result"
    }
   ],
   "source": [
    "⍳6"
   ]
  },
  {
   "cell_type": "code",
   "execution_count": 40,
   "id": "f01d9ca3-381f-4638-947c-f78cb4a6072e",
   "metadata": {},
   "outputs": [
    {
     "data": {
      "text/html": [
       "<pre class=\"language-APL\">┌→────────┐\n",
       "│6 9 12 15│\n",
       "└~────────┘\n",
       "</pre>"
      ]
     },
     "execution_count": 40,
     "metadata": {},
     "output_type": "execute_result"
    }
   ],
   "source": [
    "3 +/ ⍳6"
   ]
  },
  {
   "cell_type": "markdown",
   "id": "4cd96529-590d-4af8-b682-26583eb5dd1d",
   "metadata": {},
   "source": [
    "## **`\\` Back Slash**"
   ]
  },
  {
   "cell_type": "markdown",
   "id": "60d791b5-a5e6-42c0-9bf9-c7a67ff1ce09",
   "metadata": {},
   "source": [
    "### **Monadic `\\` - (Scan)**"
   ]
  },
  {
   "cell_type": "markdown",
   "id": "e6540096-760e-43db-9244-eb40e3fc3913",
   "metadata": {},
   "source": [
    "**`R ← f\\[K]Y`**"
   ]
  },
  {
   "cell_type": "code",
   "execution_count": 41,
   "id": "0db7077d-c3d7-4fed-8fea-797aa0182bb6",
   "metadata": {},
   "outputs": [
    {
     "data": {
      "text/html": [
       "<pre class=\"language-APL\">┌→──────────┐\n",
       "│1 3 6 10 15│\n",
       "└~──────────┘\n",
       "</pre>"
      ]
     },
     "execution_count": 41,
     "metadata": {},
     "output_type": "execute_result"
    }
   ],
   "source": [
    "+\\ 1 2 3 4 5"
   ]
  },
  {
   "cell_type": "code",
   "execution_count": 42,
   "id": "d42fa113-3df2-450f-abb9-ca1d54f8db69",
   "metadata": {},
   "outputs": [
    {
     "data": {
      "text/html": [
       "<pre class=\"language-APL\">┌→────────┐\n",
       "│1 2 3 4 5│\n",
       "└~────────┘\n",
       "</pre>"
      ]
     },
     "execution_count": 42,
     "metadata": {},
     "output_type": "execute_result"
    }
   ],
   "source": [
    "⎕ ← a ← ⍳5"
   ]
  },
  {
   "cell_type": "code",
   "execution_count": 43,
   "id": "e5c18051-8e37-4190-b807-b3a5eb7d19e8",
   "metadata": {},
   "outputs": [
    {
     "data": {
      "text/html": [
       "<pre class=\"language-APL\">┌→──────────┐\n",
       "│1 3 6 10 15│\n",
       "└~──────────┘\n",
       "</pre>"
      ]
     },
     "execution_count": 43,
     "metadata": {},
     "output_type": "execute_result"
    }
   ],
   "source": [
    "+\\a"
   ]
  },
  {
   "cell_type": "code",
   "execution_count": 44,
   "id": "d6b85ed9-e5a5-4a4c-a83c-4c785e49b9e4",
   "metadata": {},
   "outputs": [
    {
     "data": {
      "text/html": [
       "<pre class=\"language-APL\">┌→────────────────────┐\n",
       "│1 0.5 1.5 0.375 1.875│\n",
       "└~────────────────────┘\n",
       "</pre>"
      ]
     },
     "execution_count": 44,
     "metadata": {},
     "output_type": "execute_result"
    }
   ],
   "source": [
    "÷\\ a"
   ]
  },
  {
   "cell_type": "code",
   "execution_count": 45,
   "id": "efcd39d8-1879-497e-aa55-675363db6950",
   "metadata": {},
   "outputs": [
    {
     "data": {
      "text/html": [
       "<pre class=\"language-APL\">┌→───────────┐\n",
       "│1 2 6 24 120│\n",
       "└~───────────┘\n",
       "</pre>"
      ]
     },
     "execution_count": 45,
     "metadata": {},
     "output_type": "execute_result"
    }
   ],
   "source": [
    "×\\ a"
   ]
  },
  {
   "cell_type": "code",
   "execution_count": null,
   "id": "d54b232a-913f-4e7b-8012-a87d537da078",
   "metadata": {},
   "outputs": [],
   "source": []
  },
  {
   "cell_type": "code",
   "execution_count": null,
   "id": "daee838e-0140-43c9-b8cf-bb589f617224",
   "metadata": {},
   "outputs": [],
   "source": []
  },
  {
   "cell_type": "code",
   "execution_count": null,
   "id": "446ffabb-1518-45b2-9000-2caaa7a4af28",
   "metadata": {},
   "outputs": [],
   "source": []
  },
  {
   "cell_type": "code",
   "execution_count": null,
   "id": "6174d8f4-dce1-4822-bddf-e6430d820648",
   "metadata": {},
   "outputs": [],
   "source": []
  },
  {
   "cell_type": "code",
   "execution_count": null,
   "id": "f0dd31e3-9fc2-4fc8-b705-1279519b32a2",
   "metadata": {},
   "outputs": [],
   "source": []
  },
  {
   "cell_type": "code",
   "execution_count": null,
   "id": "a30fdd66-062e-4b54-80fe-0713f2cc2aa6",
   "metadata": {},
   "outputs": [],
   "source": []
  },
  {
   "cell_type": "code",
   "execution_count": null,
   "id": "f002fb9d-1381-4948-b116-50e5ebb8a1ca",
   "metadata": {},
   "outputs": [],
   "source": []
  },
  {
   "cell_type": "code",
   "execution_count": null,
   "id": "fa398d8f-406f-40ea-a90d-281269f723d6",
   "metadata": {},
   "outputs": [],
   "source": []
  },
  {
   "cell_type": "code",
   "execution_count": null,
   "id": "9c589cc9-dbeb-45aa-a02c-0fdd3d7ac401",
   "metadata": {},
   "outputs": [],
   "source": []
  }
 ],
 "metadata": {
  "kernelspec": {
   "display_name": "Dyalog APL",
   "language": "apl",
   "name": "dyalog_apl"
  },
  "language_info": {
   "file_extension": ".apl",
   "mimetype": "text/apl",
   "name": "APL"
  }
 },
 "nbformat": 4,
 "nbformat_minor": 5
}
