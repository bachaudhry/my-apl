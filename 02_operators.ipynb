{
 "cells": [
  {
   "cell_type": "markdown",
   "id": "c782a0ef-34a5-4e53-80cc-af29add52afc",
   "metadata": {},
   "source": [
    "# **Operators**"
   ]
  },
  {
   "cell_type": "code",
   "execution_count": 1,
   "id": "42ea35fb-88c4-4213-8619-849837ad488a",
   "metadata": {},
   "outputs": [
    {
     "data": {
      "text/html": [
       "<pre class=\"language-APL\">┌→──────────────────────────────────────┐\n",
       "│Was OFF -style=min -trains=box -fns=off│\n",
       "└───────────────────────────────────────┘\n",
       "</pre>"
      ]
     },
     "execution_count": 1,
     "metadata": {},
     "output_type": "execute_result"
    }
   ],
   "source": [
    "]box on -style=max -trains=tree -fns=on"
   ]
  },
  {
   "cell_type": "markdown",
   "id": "26e7992b-5184-4b6b-9c3b-58384c7eb82d",
   "metadata": {},
   "source": [
    "Operators, as a basic rule, bind more tightly than functions. Functions on the right hand side of the slash operator will be carried out first in order of operations."
   ]
  },
  {
   "cell_type": "markdown",
   "id": "c1700fd4-fc49-40d7-8b82-48e5c0e1d909",
   "metadata": {},
   "source": [
    "#### Refer to [Function Compositions](https://aplwiki.com/wiki/Function_composition) as order of operations can become a little confusing in APL."
   ]
  },
  {
   "cell_type": "markdown",
   "id": "2871a1fd-3671-4816-bcfc-8cca2893353e",
   "metadata": {
    "jp-MarkdownHeadingCollapsed": true
   },
   "source": [
    "## **`/` Slash**"
   ]
  },
  {
   "cell_type": "markdown",
   "id": "a16f47de-d99a-4810-8465-efe77dbf9c50",
   "metadata": {
    "jp-MarkdownHeadingCollapsed": true
   },
   "source": [
    "### **Monadic `/` - (Reduce - N-Wise Reduce)**"
   ]
  },
  {
   "cell_type": "markdown",
   "id": "975bea13-48be-401b-9a04-b9c9658274fc",
   "metadata": {},
   "source": [
    "**`R ← f/[K]Y`**\n",
    "\n"
   ]
  },
  {
   "cell_type": "code",
   "execution_count": 2,
   "id": "9eac9cb3-306d-46e6-a40a-6407ade5cc2d",
   "metadata": {},
   "outputs": [
    {
     "data": {
      "text/html": [
       "<pre class=\"language-APL\">  \n",
       "15\n",
       "  \n",
       "</pre>"
      ]
     },
     "execution_count": 2,
     "metadata": {},
     "output_type": "execute_result"
    }
   ],
   "source": [
    "+/ 1 2 3 4 5"
   ]
  },
  {
   "cell_type": "code",
   "execution_count": 3,
   "id": "7e129c4b-e4e6-44a1-8624-db62036bb610",
   "metadata": {},
   "outputs": [
    {
     "data": {
      "text/html": [
       "<pre class=\"language-APL\">┌→────────┐\n",
       "│1 2 3 4 5│\n",
       "└~────────┘\n",
       "</pre>"
      ]
     },
     "execution_count": 3,
     "metadata": {},
     "output_type": "execute_result"
    }
   ],
   "source": [
    "⎕ ← a ← ⍳5"
   ]
  },
  {
   "cell_type": "code",
   "execution_count": 4,
   "id": "102e062c-b16a-43c5-aae7-5a95c651fb47",
   "metadata": {},
   "outputs": [
    {
     "data": {
      "text/html": [
       "<pre class=\"language-APL\">  \n",
       "15\n",
       "  \n",
       "</pre>"
      ]
     },
     "execution_count": 4,
     "metadata": {},
     "output_type": "execute_result"
    }
   ],
   "source": [
    "+/a"
   ]
  },
  {
   "cell_type": "code",
   "execution_count": 5,
   "id": "2f8dc245-5033-4ff1-88c6-6184d598a5c2",
   "metadata": {},
   "outputs": [
    {
     "data": {
      "text/html": [
       "<pre class=\"language-APL\">     \n",
       "1.875\n",
       "     \n",
       "</pre>"
      ]
     },
     "execution_count": 5,
     "metadata": {},
     "output_type": "execute_result"
    }
   ],
   "source": [
    "÷/ a"
   ]
  },
  {
   "cell_type": "code",
   "execution_count": 6,
   "id": "28bfba1e-9b1b-4c08-b409-5278dbb7cd32",
   "metadata": {},
   "outputs": [
    {
     "data": {
      "text/html": [
       "<pre class=\"language-APL\">   \n",
       "120\n",
       "   \n",
       "</pre>"
      ]
     },
     "execution_count": 6,
     "metadata": {},
     "output_type": "execute_result"
    }
   ],
   "source": [
    "×/ a"
   ]
  },
  {
   "cell_type": "code",
   "execution_count": 7,
   "id": "af4dca1c-1c02-4a92-9d63-a8e285ff5231",
   "metadata": {},
   "outputs": [
    {
     "data": {
      "text/html": [
       "<pre class=\"language-APL\">┌→──────┐\n",
       "│3 5 7 9│\n",
       "└~──────┘\n",
       "</pre>"
      ]
     },
     "execution_count": 7,
     "metadata": {},
     "output_type": "execute_result"
    }
   ],
   "source": [
    "2 +/ a "
   ]
  },
  {
   "cell_type": "code",
   "execution_count": 8,
   "id": "04a95e32-7478-43d0-ae0b-c313004e74f7",
   "metadata": {},
   "outputs": [
    {
     "data": {
      "text/html": [
       "<pre class=\"language-APL\">┌→──────────┐\n",
       "│1 2 3 4 5 6│\n",
       "└~──────────┘\n",
       "</pre>"
      ]
     },
     "execution_count": 8,
     "metadata": {},
     "output_type": "execute_result"
    }
   ],
   "source": [
    "⍳6"
   ]
  },
  {
   "cell_type": "code",
   "execution_count": 9,
   "id": "f01d9ca3-381f-4638-947c-f78cb4a6072e",
   "metadata": {},
   "outputs": [
    {
     "data": {
      "text/html": [
       "<pre class=\"language-APL\">┌→────────┐\n",
       "│6 9 12 15│\n",
       "└~────────┘\n",
       "</pre>"
      ]
     },
     "execution_count": 9,
     "metadata": {},
     "output_type": "execute_result"
    }
   ],
   "source": [
    "3 +/ ⍳6"
   ]
  },
  {
   "cell_type": "markdown",
   "id": "4cd96529-590d-4af8-b682-26583eb5dd1d",
   "metadata": {
    "jp-MarkdownHeadingCollapsed": true
   },
   "source": [
    "## **`\\` Back Slash**"
   ]
  },
  {
   "cell_type": "markdown",
   "id": "60d791b5-a5e6-42c0-9bf9-c7a67ff1ce09",
   "metadata": {},
   "source": [
    "### **Monadic `\\` - (Scan)**"
   ]
  },
  {
   "cell_type": "markdown",
   "id": "e6540096-760e-43db-9244-eb40e3fc3913",
   "metadata": {},
   "source": [
    "**`R ← f\\[K]Y`**"
   ]
  },
  {
   "cell_type": "code",
   "execution_count": 10,
   "id": "0db7077d-c3d7-4fed-8fea-797aa0182bb6",
   "metadata": {},
   "outputs": [
    {
     "data": {
      "text/html": [
       "<pre class=\"language-APL\">┌→──────────┐\n",
       "│1 3 6 10 15│\n",
       "└~──────────┘\n",
       "</pre>"
      ]
     },
     "execution_count": 10,
     "metadata": {},
     "output_type": "execute_result"
    }
   ],
   "source": [
    "+\\ 1 2 3 4 5"
   ]
  },
  {
   "cell_type": "code",
   "execution_count": 11,
   "id": "d42fa113-3df2-450f-abb9-ca1d54f8db69",
   "metadata": {},
   "outputs": [
    {
     "data": {
      "text/html": [
       "<pre class=\"language-APL\">┌→────────┐\n",
       "│1 2 3 4 5│\n",
       "└~────────┘\n",
       "</pre>"
      ]
     },
     "execution_count": 11,
     "metadata": {},
     "output_type": "execute_result"
    }
   ],
   "source": [
    "⎕ ← a ← ⍳5"
   ]
  },
  {
   "cell_type": "code",
   "execution_count": 12,
   "id": "e5c18051-8e37-4190-b807-b3a5eb7d19e8",
   "metadata": {},
   "outputs": [
    {
     "data": {
      "text/html": [
       "<pre class=\"language-APL\">┌→──────────┐\n",
       "│1 3 6 10 15│\n",
       "└~──────────┘\n",
       "</pre>"
      ]
     },
     "execution_count": 12,
     "metadata": {},
     "output_type": "execute_result"
    }
   ],
   "source": [
    "+\\a"
   ]
  },
  {
   "cell_type": "code",
   "execution_count": 13,
   "id": "d6b85ed9-e5a5-4a4c-a83c-4c785e49b9e4",
   "metadata": {},
   "outputs": [
    {
     "data": {
      "text/html": [
       "<pre class=\"language-APL\">┌→────────────────────┐\n",
       "│1 0.5 1.5 0.375 1.875│\n",
       "└~────────────────────┘\n",
       "</pre>"
      ]
     },
     "execution_count": 13,
     "metadata": {},
     "output_type": "execute_result"
    }
   ],
   "source": [
    "÷\\ a"
   ]
  },
  {
   "cell_type": "code",
   "execution_count": 14,
   "id": "efcd39d8-1879-497e-aa55-675363db6950",
   "metadata": {},
   "outputs": [
    {
     "data": {
      "text/html": [
       "<pre class=\"language-APL\">┌→───────────┐\n",
       "│1 2 6 24 120│\n",
       "└~───────────┘\n",
       "</pre>"
      ]
     },
     "execution_count": 14,
     "metadata": {},
     "output_type": "execute_result"
    }
   ],
   "source": [
    "×\\ a"
   ]
  },
  {
   "cell_type": "markdown",
   "id": "e633cd83-e60c-428d-83fb-800d5544a9cf",
   "metadata": {},
   "source": [
    "## **`∘` - Jot**"
   ]
  },
  {
   "cell_type": "markdown",
   "id": "6b6802cc-2b58-487f-8f08-f493a01db68b",
   "metadata": {},
   "source": [
    "### **Dyadic `∘` (Bind)**"
   ]
  },
  {
   "cell_type": "markdown",
   "id": "4ea8df45-cdfb-4c7e-9d0a-1c96cf46ae23",
   "metadata": {},
   "source": [
    "`{R}←A∘fY`\n",
    "`{R}←(f∘B)Y`\n",
    "\n",
    "This binds an array A or B to a dyadic function f either as its left or right argument. These can also be described as left and right argument currying. Operations are determined by the order of binding arrays A, B or Y with regard to the function.\n",
    "\n",
    "_Roughly equivalent to the `partial function` in Python._"
   ]
  },
  {
   "cell_type": "code",
   "execution_count": 16,
   "id": "f0dd31e3-9fc2-4fc8-b705-1279519b32a2",
   "metadata": {},
   "outputs": [],
   "source": [
    "sqr ← *∘2 ⍝ creating a squaring function with right hand binding"
   ]
  },
  {
   "cell_type": "code",
   "execution_count": 17,
   "id": "a30fdd66-062e-4b54-80fe-0713f2cc2aa6",
   "metadata": {},
   "outputs": [
    {
     "data": {
      "text/html": [
       "<pre class=\"language-APL\"> ∘\n",
       "┌┴┐\n",
       "* 2\n",
       "</pre>"
      ]
     },
     "execution_count": 17,
     "metadata": {},
     "output_type": "execute_result"
    }
   ],
   "source": [
    "sqr "
   ]
  },
  {
   "cell_type": "code",
   "execution_count": 18,
   "id": "f002fb9d-1381-4948-b116-50e5ebb8a1ca",
   "metadata": {},
   "outputs": [
    {
     "data": {
      "text/html": [
       "<pre class=\"language-APL\"> \n",
       "9\n",
       " \n",
       "</pre>"
      ]
     },
     "execution_count": 18,
     "metadata": {},
     "output_type": "execute_result"
    }
   ],
   "source": [
    "sqr 3"
   ]
  },
  {
   "cell_type": "code",
   "execution_count": 19,
   "id": "fa398d8f-406f-40ea-a90d-281269f723d6",
   "metadata": {},
   "outputs": [
    {
     "data": {
      "text/html": [
       "<pre class=\"language-APL\"> ∘\n",
       "┌┴┐\n",
       "2 *\n",
       "</pre>"
      ]
     },
     "execution_count": 19,
     "metadata": {},
     "output_type": "execute_result"
    }
   ],
   "source": [
    "⍝ This function carries out a 2 to the power of x and \n",
    "⍝ is an example of left hand binding to a function\n",
    "⎕ ← pow ← 2∘*"
   ]
  },
  {
   "cell_type": "code",
   "execution_count": 20,
   "id": "9c589cc9-dbeb-45aa-a02c-0fdd3d7ac401",
   "metadata": {},
   "outputs": [
    {
     "data": {
      "text/html": [
       "<pre class=\"language-APL\">  \n",
       "16\n",
       "  \n",
       "</pre>"
      ]
     },
     "execution_count": 20,
     "metadata": {},
     "output_type": "execute_result"
    }
   ],
   "source": [
    "pow 4"
   ]
  },
  {
   "cell_type": "markdown",
   "id": "7bad59bb-379d-4d04-80f6-a3118582e99c",
   "metadata": {},
   "source": [
    "### **Dyadic `∘` (Beside)**"
   ]
  },
  {
   "cell_type": "code",
   "execution_count": 21,
   "id": "ccaf0aec-60db-40e1-a54e-9e5fd5b8b228",
   "metadata": {},
   "outputs": [],
   "source": [
    "f ← *∘÷ ⍝ calculating reciprocal and then e pow(x)"
   ]
  },
  {
   "cell_type": "code",
   "execution_count": 22,
   "id": "ecc8fb3a-576a-44d7-b098-9fe4a92c5a74",
   "metadata": {},
   "outputs": [
    {
     "data": {
      "text/html": [
       "<pre class=\"language-APL\"> ∘\n",
       "┌┴┐\n",
       "* ÷\n",
       "</pre>"
      ]
     },
     "execution_count": 22,
     "metadata": {},
     "output_type": "execute_result"
    }
   ],
   "source": [
    "f "
   ]
  },
  {
   "cell_type": "code",
   "execution_count": 26,
   "id": "fa55b55c-a489-4d12-ba24-f05156c05c58",
   "metadata": {},
   "outputs": [
    {
     "data": {
      "text/html": [
       "<pre class=\"language-APL\">            \n",
       "0.3333333333\n",
       "            \n",
       "</pre>"
      ]
     },
     "execution_count": 26,
     "metadata": {},
     "output_type": "execute_result"
    }
   ],
   "source": [
    "÷3"
   ]
  },
  {
   "cell_type": "code",
   "execution_count": 29,
   "id": "e5ce4e5d-701c-444b-a257-23482aeadb59",
   "metadata": {},
   "outputs": [
    {
     "data": {
      "text/html": [
       "<pre class=\"language-APL\">           \n",
       "1.395612425\n",
       "           \n",
       "</pre>"
      ]
     },
     "execution_count": 29,
     "metadata": {},
     "output_type": "execute_result"
    }
   ],
   "source": [
    "*÷3 ⍝ e pow (x) of the reciprocal"
   ]
  },
  {
   "cell_type": "code",
   "execution_count": 30,
   "id": "3d7bab46-e5d7-4c78-bdd8-41dc4a4df3a0",
   "metadata": {},
   "outputs": [
    {
     "data": {
      "text/html": [
       "<pre class=\"language-APL\">          \n",
       "1.25992105\n",
       "          \n",
       "</pre>"
      ]
     },
     "execution_count": 30,
     "metadata": {},
     "output_type": "execute_result"
    }
   ],
   "source": [
    " 2 f 3 ⍝ This becomes the cube root of 2"
   ]
  },
  {
   "cell_type": "code",
   "execution_count": 31,
   "id": "a27fdd25-6d73-4234-b1e4-7e57085a7d40",
   "metadata": {},
   "outputs": [
    {
     "data": {
      "text/html": [
       "<pre class=\"language-APL\">          \n",
       "1.25992105\n",
       "          \n",
       "</pre>"
      ]
     },
     "execution_count": 31,
     "metadata": {},
     "output_type": "execute_result"
    }
   ],
   "source": [
    "2 *(÷3)"
   ]
  },
  {
   "cell_type": "markdown",
   "id": "fa042ce3-fab8-4eef-8b97-effecca950a5",
   "metadata": {},
   "source": [
    "## **`⍣` Star Diaeresis**"
   ]
  },
  {
   "cell_type": "markdown",
   "id": "cd5bad65-3f6b-4822-9eb5-64504cb9df11",
   "metadata": {},
   "source": [
    "### **Dyadic `⍣` (Power Operator)**"
   ]
  },
  {
   "cell_type": "markdown",
   "id": "9b88ba60-7480-43de-b184-1ed3b327ba52",
   "metadata": {},
   "source": [
    "`{R}←{X}(f⍣g)Y`\n",
    "\n",
    "Not to be confused with `*` which is a function. The power operator defines how many times a function must be run."
   ]
  },
  {
   "cell_type": "code",
   "execution_count": 32,
   "id": "3d4d08d0-8e35-4db9-9673-e9a2fe629d36",
   "metadata": {},
   "outputs": [],
   "source": [
    "S ← +∘1 ⍝ binding a function to add one to a value"
   ]
  },
  {
   "cell_type": "code",
   "execution_count": 36,
   "id": "85c81700-615a-4afc-85d8-dd1c24fa41a5",
   "metadata": {},
   "outputs": [
    {
     "data": {
      "text/html": [
       "<pre class=\"language-APL\">┌→──────┐\n",
       "│1 2 3 4│\n",
       "└~──────┘\n",
       "</pre>"
      ]
     },
     "execution_count": 36,
     "metadata": {},
     "output_type": "execute_result"
    }
   ],
   "source": [
    "S 0 1 2 3"
   ]
  },
  {
   "cell_type": "code",
   "execution_count": 40,
   "id": "2b9a88ba-6925-4044-b365-ca4adeeab587",
   "metadata": {},
   "outputs": [
    {
     "data": {
      "text/html": [
       "<pre class=\"language-APL\">┌→──────┐\n",
       "│3 4 5 6│\n",
       "└~──────┘\n",
       "</pre>"
      ]
     },
     "execution_count": 40,
     "metadata": {},
     "output_type": "execute_result"
    }
   ],
   "source": [
    "⍝ Now using the power operator to specify the number of times a function call\n",
    "⍝ needs to be repeated.\n",
    "(S⍣3) 0 1 2 3"
   ]
  },
  {
   "cell_type": "code",
   "execution_count": 45,
   "id": "c8b72d9b-e8ec-4049-87ea-376501f2fcee",
   "metadata": {},
   "outputs": [],
   "source": [
    "add ← {(S⍣⍺) ⍵}"
   ]
  },
  {
   "cell_type": "code",
   "execution_count": 49,
   "id": "a408ef83-f7f1-429d-adcf-b71b6ab9b078",
   "metadata": {},
   "outputs": [
    {
     "data": {
      "text/html": [
       "<pre class=\"language-APL\"> \n",
       "6\n",
       " \n",
       "</pre>"
      ]
     },
     "execution_count": 49,
     "metadata": {},
     "output_type": "execute_result"
    }
   ],
   "source": [
    "3 add 3 ⍝ S repeats 3 times then adds 3"
   ]
  },
  {
   "cell_type": "code",
   "execution_count": 58,
   "id": "fe74117e-af6a-422a-8b99-698dde815afa",
   "metadata": {},
   "outputs": [],
   "source": [
    "mult ← {⍺ (add⍣⍵) 0} ⍝ Adding the parenthesis to 0 "
   ]
  },
  {
   "cell_type": "code",
   "execution_count": 60,
   "id": "0363bd03-9565-4298-a72c-c4912a8149cc",
   "metadata": {},
   "outputs": [
    {
     "data": {
      "text/html": [
       "<pre class=\"language-APL\">  \n",
       "18\n",
       "  \n",
       "</pre>"
      ]
     },
     "execution_count": 60,
     "metadata": {},
     "output_type": "execute_result"
    }
   ],
   "source": [
    "3 mult 6"
   ]
  },
  {
   "cell_type": "code",
   "execution_count": 61,
   "id": "44739387-712f-451a-90d5-3112ccf83e14",
   "metadata": {},
   "outputs": [],
   "source": [
    "⍝ Using the same logic, we can compute numbers with higher complexity\n",
    "⍝ such as Phi - the golden ratio\n",
    "f ← +∘÷"
   ]
  },
  {
   "cell_type": "code",
   "execution_count": 69,
   "id": "90fce0e7-5f95-41de-b00c-c48689b38bfd",
   "metadata": {},
   "outputs": [
    {
     "data": {
      "text/html": [
       "<pre class=\"language-APL\"> \n",
       "2\n",
       " \n",
       "</pre>"
      ]
     },
     "execution_count": 69,
     "metadata": {},
     "output_type": "execute_result"
    }
   ],
   "source": [
    "1 f 1"
   ]
  },
  {
   "cell_type": "code",
   "execution_count": 68,
   "id": "a9c106a5-ae9d-4b6f-8cf2-cf072a657803",
   "metadata": {},
   "outputs": [
    {
     "data": {
      "text/html": [
       "<pre class=\"language-APL\">┌→─────────────────────┐\n",
       "│2 1.5 1.333333333 1.25│\n",
       "└~─────────────────────┘\n",
       "</pre>"
      ]
     },
     "execution_count": 68,
     "metadata": {},
     "output_type": "execute_result"
    }
   ],
   "source": [
    "1 f 1 2 3 4"
   ]
  },
  {
   "cell_type": "code",
   "execution_count": 71,
   "id": "7e73e491-a47b-42bf-877d-d3647e1727a6",
   "metadata": {},
   "outputs": [
    {
     "data": {
      "text/html": [
       "<pre class=\"language-APL\">           \n",
       "1.618034448\n",
       "           \n",
       "</pre>"
      ]
     },
     "execution_count": 71,
     "metadata": {},
     "output_type": "execute_result"
    }
   ],
   "source": [
    "1 (f⍣15) 1 "
   ]
  },
  {
   "cell_type": "code",
   "execution_count": 72,
   "id": "dda9eb0d-d742-4f6d-84f7-568e6aafb175",
   "metadata": {},
   "outputs": [
    {
     "data": {
      "text/html": [
       "<pre class=\"language-APL\">  \n",
       "13\n",
       "  \n",
       "</pre>"
      ]
     },
     "execution_count": 72,
     "metadata": {},
     "output_type": "execute_result"
    }
   ],
   "source": [
    "+/ 4 4 5"
   ]
  },
  {
   "cell_type": "markdown",
   "id": "27c11770-5d4a-43d7-9a63-311f9359c0c4",
   "metadata": {},
   "source": [
    "# **Custom Operators**"
   ]
  },
  {
   "cell_type": "markdown",
   "id": "0e163abd-46be-43ac-8176-b1c622ee4330",
   "metadata": {},
   "source": [
    "We will attempt to create a custom operator which calculates the derivate of a function at a certain point."
   ]
  },
  {
   "cell_type": "code",
   "execution_count": 73,
   "id": "fbd4a010-b621-442d-90a4-04f52c0a79e9",
   "metadata": {},
   "outputs": [],
   "source": [
    "f ← *∘2"
   ]
  },
  {
   "cell_type": "code",
   "execution_count": 77,
   "id": "7021b6e8-852e-4a78-9b04-cf592f14ae7b",
   "metadata": {},
   "outputs": [],
   "source": [
    "d ← 0.0001"
   ]
  },
  {
   "cell_type": "code",
   "execution_count": 75,
   "id": "2d1e4452-7c49-4338-a071-c729be79fc66",
   "metadata": {},
   "outputs": [],
   "source": [
    "x ← 3"
   ]
  },
  {
   "cell_type": "code",
   "execution_count": 78,
   "id": "ce14b835-44a9-4116-8329-5bebc3e8a7a6",
   "metadata": {},
   "outputs": [
    {
     "data": {
      "text/html": [
       "<pre class=\"language-APL\">      \n",
       "6.0001\n",
       "      \n",
       "</pre>"
      ]
     },
     "execution_count": 78,
     "metadata": {},
     "output_type": "execute_result"
    }
   ],
   "source": [
    "((f (x+d)) - f x) ÷ d"
   ]
  },
  {
   "cell_type": "code",
   "execution_count": null,
   "id": "5141ffd8-681b-42b9-b974-80d4c502eced",
   "metadata": {},
   "outputs": [],
   "source": []
  }
 ],
 "metadata": {
  "kernelspec": {
   "display_name": "Dyalog APL",
   "language": "apl",
   "name": "dyalog_apl"
  },
  "language_info": {
   "file_extension": ".apl",
   "mimetype": "text/apl",
   "name": "APL"
  }
 },
 "nbformat": 4,
 "nbformat_minor": 5
}
