{
 "cells": [
  {
   "cell_type": "markdown",
   "id": "c782a0ef-34a5-4e53-80cc-af29add52afc",
   "metadata": {},
   "source": [
    "# **Operators**"
   ]
  },
  {
   "cell_type": "code",
   "execution_count": 1,
   "id": "42ea35fb-88c4-4213-8619-849837ad488a",
   "metadata": {},
   "outputs": [
    {
     "data": {
      "text/html": [
       "<pre class=\"language-APL\">┌→──────────────────────────────────────┐\n",
       "│Was OFF -style=min -trains=box -fns=off│\n",
       "└───────────────────────────────────────┘\n",
       "</pre>"
      ]
     },
     "execution_count": 1,
     "metadata": {},
     "output_type": "execute_result"
    }
   ],
   "source": [
    "]box on -style=max -trains=tree -fns=on"
   ]
  },
  {
   "cell_type": "markdown",
   "id": "26e7992b-5184-4b6b-9c3b-58384c7eb82d",
   "metadata": {},
   "source": [
    ">An operator is an operation on one or two operands which produces a function called a DERIVED FUNCTION. An operand may be a function or an array.  Operators are not ambivalent.  They require either one or two operands as applicable to the particular operator.  However, the derived function may be ambivalent.  The derived function need not return a result. \n",
    "\n",
    "Operators, as a basic rule, bind more tightly than functions. Functions on the right hand side of the slash operator will be carried out first in order of operations."
   ]
  },
  {
   "cell_type": "markdown",
   "id": "c1700fd4-fc49-40d7-8b82-48e5c0e1d909",
   "metadata": {},
   "source": [
    "#### **Refer to [Function Compositions](https://aplwiki.com/wiki/Function_composition) as order of operations can become a little confusing in APL.**"
   ]
  },
  {
   "cell_type": "markdown",
   "id": "35f5eb70-e433-4383-9883-0e441683bf16",
   "metadata": {},
   "source": [
    "## **Brackets**"
   ]
  },
  {
   "cell_type": "markdown",
   "id": "7b4c730a-b606-4a12-80e7-55bda43c7979",
   "metadata": {},
   "source": [
    "**`Round brackets or parentheses ():`** These are used to control the order of execution in APL expressions. They also indicate Namelists in function/operator headers, and introduce a **System Command**.\n",
    "\n",
    "**`Square brackets  []:`** Square brackets have three distinct meanings in Dyalog APL: to select sub-arrays from an n-dimensional array, to indicate an axis along which a function (operand) is to apply, and to introduce a **User Command**.\n",
    "\n",
    "**`Curly brackets { }:`** These are used to indicate shy results and optional left arguments in defined functions. They also enclose the definition of a **Dfn** and a **Dop**."
   ]
  },
  {
   "cell_type": "markdown",
   "id": "2871a1fd-3671-4816-bcfc-8cca2893353e",
   "metadata": {},
   "source": [
    "## **`/` Slash**"
   ]
  },
  {
   "cell_type": "markdown",
   "id": "a16f47de-d99a-4810-8465-efe77dbf9c50",
   "metadata": {
    "jp-MarkdownHeadingCollapsed": true
   },
   "source": [
    "### **Monadic `/` - (Reduce)**"
   ]
  },
  {
   "cell_type": "markdown",
   "id": "975bea13-48be-401b-9a04-b9c9658274fc",
   "metadata": {},
   "source": [
    "**`R ← f/[K]Y`**"
   ]
  },
  {
   "cell_type": "code",
   "execution_count": 2,
   "id": "9eac9cb3-306d-46e6-a40a-6407ade5cc2d",
   "metadata": {},
   "outputs": [
    {
     "data": {
      "text/html": [
       "<pre class=\"language-APL\">  \n",
       "15\n",
       "  \n",
       "</pre>"
      ]
     },
     "execution_count": 2,
     "metadata": {},
     "output_type": "execute_result"
    }
   ],
   "source": [
    "+/ 1 2 3 4 5"
   ]
  },
  {
   "cell_type": "code",
   "execution_count": 3,
   "id": "7e129c4b-e4e6-44a1-8624-db62036bb610",
   "metadata": {},
   "outputs": [
    {
     "data": {
      "text/html": [
       "<pre class=\"language-APL\">┌→────────┐\n",
       "│1 2 3 4 5│\n",
       "└~────────┘\n",
       "</pre>"
      ]
     },
     "execution_count": 3,
     "metadata": {},
     "output_type": "execute_result"
    }
   ],
   "source": [
    "⎕ ← a ← ⍳5"
   ]
  },
  {
   "cell_type": "code",
   "execution_count": 4,
   "id": "102e062c-b16a-43c5-aae7-5a95c651fb47",
   "metadata": {},
   "outputs": [
    {
     "data": {
      "text/html": [
       "<pre class=\"language-APL\">  \n",
       "15\n",
       "  \n",
       "</pre>"
      ]
     },
     "execution_count": 4,
     "metadata": {},
     "output_type": "execute_result"
    }
   ],
   "source": [
    "+/a"
   ]
  },
  {
   "cell_type": "code",
   "execution_count": 5,
   "id": "2f8dc245-5033-4ff1-88c6-6184d598a5c2",
   "metadata": {},
   "outputs": [
    {
     "data": {
      "text/html": [
       "<pre class=\"language-APL\">     \n",
       "1.875\n",
       "     \n",
       "</pre>"
      ]
     },
     "execution_count": 5,
     "metadata": {},
     "output_type": "execute_result"
    }
   ],
   "source": [
    "÷/ a"
   ]
  },
  {
   "cell_type": "code",
   "execution_count": 6,
   "id": "28bfba1e-9b1b-4c08-b409-5278dbb7cd32",
   "metadata": {},
   "outputs": [
    {
     "data": {
      "text/html": [
       "<pre class=\"language-APL\">   \n",
       "120\n",
       "   \n",
       "</pre>"
      ]
     },
     "execution_count": 6,
     "metadata": {},
     "output_type": "execute_result"
    }
   ],
   "source": [
    "×/ a"
   ]
  },
  {
   "cell_type": "code",
   "execution_count": 7,
   "id": "af4dca1c-1c02-4a92-9d63-a8e285ff5231",
   "metadata": {},
   "outputs": [
    {
     "data": {
      "text/html": [
       "<pre class=\"language-APL\">┌→──────┐\n",
       "│3 5 7 9│\n",
       "└~──────┘\n",
       "</pre>"
      ]
     },
     "execution_count": 7,
     "metadata": {},
     "output_type": "execute_result"
    }
   ],
   "source": [
    "2 +/ a "
   ]
  },
  {
   "cell_type": "code",
   "execution_count": 8,
   "id": "04a95e32-7478-43d0-ae0b-c313004e74f7",
   "metadata": {},
   "outputs": [
    {
     "data": {
      "text/html": [
       "<pre class=\"language-APL\">┌→──────────┐\n",
       "│1 2 3 4 5 6│\n",
       "└~──────────┘\n",
       "</pre>"
      ]
     },
     "execution_count": 8,
     "metadata": {},
     "output_type": "execute_result"
    }
   ],
   "source": [
    "⍳6"
   ]
  },
  {
   "cell_type": "code",
   "execution_count": 9,
   "id": "f01d9ca3-381f-4638-947c-f78cb4a6072e",
   "metadata": {},
   "outputs": [
    {
     "data": {
      "text/html": [
       "<pre class=\"language-APL\">┌→────────┐\n",
       "│6 9 12 15│\n",
       "└~────────┘\n",
       "</pre>"
      ]
     },
     "execution_count": 9,
     "metadata": {},
     "output_type": "execute_result"
    }
   ],
   "source": [
    "3 +/ ⍳6"
   ]
  },
  {
   "cell_type": "markdown",
   "id": "8c4d245c-7aa7-4125-9868-13e7dc4e3be7",
   "metadata": {},
   "source": [
    "Calculating factorials using `/` can be swapped for the `!` glyph which can be used monadically to acheive the same outcome."
   ]
  },
  {
   "cell_type": "code",
   "execution_count": 111,
   "id": "56bfd5a1-9c48-4ddf-ad07-6dd93db8d7fc",
   "metadata": {},
   "outputs": [
    {
     "data": {
      "text/html": [
       "<pre class=\"language-APL\">   \n",
       "120\n",
       "   \n",
       "</pre>"
      ]
     },
     "execution_count": 111,
     "metadata": {},
     "output_type": "execute_result"
    }
   ],
   "source": [
    "×/⍳5"
   ]
  },
  {
   "cell_type": "code",
   "execution_count": 112,
   "id": "c69e4dfa-3549-4903-9368-f6c785383191",
   "metadata": {},
   "outputs": [
    {
     "data": {
      "text/html": [
       "<pre class=\"language-APL\">   \n",
       "120\n",
       "   \n",
       "</pre>"
      ]
     },
     "execution_count": 112,
     "metadata": {},
     "output_type": "execute_result"
    }
   ],
   "source": [
    "!5⍝ factorial"
   ]
  },
  {
   "cell_type": "markdown",
   "id": "9c26bb65-ae10-4b16-871f-ef411a8e4c2c",
   "metadata": {
    "jp-MarkdownHeadingCollapsed": true
   },
   "source": [
    "### **Dyadic `/` - Reduce N-Wise**"
   ]
  },
  {
   "cell_type": "markdown",
   "id": "16557718-b65f-470e-8817-1a799fa14058",
   "metadata": {},
   "source": [
    "**`R ← Xf/[K]Y`**"
   ]
  },
  {
   "cell_type": "code",
   "execution_count": 10,
   "id": "32136fe8-29dd-4393-acdb-9b6553c89d6c",
   "metadata": {},
   "outputs": [
    {
     "data": {
      "text/html": [
       "<pre class=\"language-APL\">┌→──────┐\n",
       "│1 2 3 4│\n",
       "└~──────┘\n",
       "</pre>"
      ]
     },
     "execution_count": 10,
     "metadata": {},
     "output_type": "execute_result"
    }
   ],
   "source": [
    "⍳4"
   ]
  },
  {
   "cell_type": "code",
   "execution_count": 11,
   "id": "15132d76-3e7e-4b02-a2d8-aff27fdd7c93",
   "metadata": {},
   "outputs": [
    {
     "data": {
      "text/html": [
       "<pre class=\"language-APL\">┌→──┐\n",
       "│6 9│\n",
       "└~──┘\n",
       "</pre>"
      ]
     },
     "execution_count": 11,
     "metadata": {},
     "output_type": "execute_result"
    }
   ],
   "source": [
    "3 +/ ⍳4 ⍝ (1+2+3) (2+3+4)"
   ]
  },
  {
   "cell_type": "code",
   "execution_count": 12,
   "id": "0092d2a5-a714-44b7-86cd-656514ed282f",
   "metadata": {},
   "outputs": [
    {
     "data": {
      "text/html": [
       "<pre class=\"language-APL\">┌→────┐\n",
       "│3 5 7│\n",
       "└~────┘\n",
       "</pre>"
      ]
     },
     "execution_count": 12,
     "metadata": {},
     "output_type": "execute_result"
    }
   ],
   "source": [
    "2 +/ ⍳4 ⍝ (1+2) (2+3) (3+4)"
   ]
  },
  {
   "cell_type": "code",
   "execution_count": 13,
   "id": "25f93853-b6ac-4d84-9ef2-88b36c98e38b",
   "metadata": {},
   "outputs": [
    {
     "data": {
      "text/html": [
       "<pre class=\"language-APL\">┌→──────┐\n",
       "│1 2 3 4│\n",
       "└~──────┘\n",
       "</pre>"
      ]
     },
     "execution_count": 13,
     "metadata": {},
     "output_type": "execute_result"
    }
   ],
   "source": [
    "1 +/ ⍳4⍝ (1) (2) (3) (4)"
   ]
  },
  {
   "cell_type": "code",
   "execution_count": 14,
   "id": "acf431fa-c231-49a5-9b5e-46a9bd67ea67",
   "metadata": {},
   "outputs": [
    {
     "data": {
      "text/html": [
       "<pre class=\"language-APL\">┌→────────┐\n",
       "│0 0 0 0 0│\n",
       "└~────────┘\n",
       "</pre>"
      ]
     },
     "execution_count": 14,
     "metadata": {},
     "output_type": "execute_result"
    }
   ],
   "source": [
    "0 +/ ⍳4⍝ Identity element for +"
   ]
  },
  {
   "cell_type": "code",
   "execution_count": 15,
   "id": "806d9fe4-a9f3-4bc0-ba0d-3c8bf8b163b3",
   "metadata": {},
   "outputs": [
    {
     "data": {
      "text/html": [
       "<pre class=\"language-APL\">┌→────────┐\n",
       "│1 1 1 1 1│\n",
       "└~────────┘\n",
       "</pre>"
      ]
     },
     "execution_count": 15,
     "metadata": {},
     "output_type": "execute_result"
    }
   ],
   "source": [
    "0 ×/ ⍳4 ⍝ Identity element for ×"
   ]
  },
  {
   "cell_type": "code",
   "execution_count": 16,
   "id": "99ac6c9f-6cbb-4fbd-a4d8-0ab251305de4",
   "metadata": {},
   "outputs": [
    {
     "data": {
      "text/html": [
       "<pre class=\"language-APL\">┌→──────────────────┐\n",
       "│ ┌→──┐ ┌→──┐ ┌→──┐ │\n",
       "│ │1 2│ │2 3│ │3 4│ │\n",
       "│ └~──┘ └~──┘ └~──┘ │\n",
       "└∊──────────────────┘\n",
       "</pre>"
      ]
     },
     "execution_count": 16,
     "metadata": {},
     "output_type": "execute_result"
    }
   ],
   "source": [
    "2 ,/ ⍳4 ⍝ (1,2) (2,3) (3,4)"
   ]
  },
  {
   "cell_type": "code",
   "execution_count": 17,
   "id": "2a5dcb63-9c58-407f-852c-c46c38e75c72",
   "metadata": {},
   "outputs": [
    {
     "data": {
      "text/html": [
       "<pre class=\"language-APL\">┌→──────────────────┐\n",
       "│ ┌→──┐ ┌→──┐ ┌→──┐ │\n",
       "│ │2 1│ │3 2│ │4 3│ │\n",
       "│ └~──┘ └~──┘ └~──┘ │\n",
       "└∊──────────────────┘\n",
       "</pre>"
      ]
     },
     "execution_count": 17,
     "metadata": {},
     "output_type": "execute_result"
    }
   ],
   "source": [
    "¯2 ,/ ⍳4 ⍝ (2,1) (3,2) (4,3)\n"
   ]
  },
  {
   "cell_type": "markdown",
   "id": "4cd96529-590d-4af8-b682-26583eb5dd1d",
   "metadata": {
    "jp-MarkdownHeadingCollapsed": true
   },
   "source": [
    "## **`\\` Back Slash**"
   ]
  },
  {
   "cell_type": "markdown",
   "id": "60d791b5-a5e6-42c0-9bf9-c7a67ff1ce09",
   "metadata": {},
   "source": [
    "### **Monadic `\\` - (Scan)**"
   ]
  },
  {
   "cell_type": "markdown",
   "id": "e6540096-760e-43db-9244-eb40e3fc3913",
   "metadata": {},
   "source": [
    "**`R ← f\\[K]Y`**"
   ]
  },
  {
   "cell_type": "code",
   "execution_count": 18,
   "id": "0db7077d-c3d7-4fed-8fea-797aa0182bb6",
   "metadata": {},
   "outputs": [
    {
     "data": {
      "text/html": [
       "<pre class=\"language-APL\">┌→──────────┐\n",
       "│1 3 6 10 15│\n",
       "└~──────────┘\n",
       "</pre>"
      ]
     },
     "execution_count": 18,
     "metadata": {},
     "output_type": "execute_result"
    }
   ],
   "source": [
    "+\\ 1 2 3 4 5"
   ]
  },
  {
   "cell_type": "code",
   "execution_count": 19,
   "id": "d42fa113-3df2-450f-abb9-ca1d54f8db69",
   "metadata": {},
   "outputs": [
    {
     "data": {
      "text/html": [
       "<pre class=\"language-APL\">┌→────────┐\n",
       "│1 2 3 4 5│\n",
       "└~────────┘\n",
       "</pre>"
      ]
     },
     "execution_count": 19,
     "metadata": {},
     "output_type": "execute_result"
    }
   ],
   "source": [
    "⎕ ← a ← ⍳5"
   ]
  },
  {
   "cell_type": "code",
   "execution_count": 20,
   "id": "e5c18051-8e37-4190-b807-b3a5eb7d19e8",
   "metadata": {},
   "outputs": [
    {
     "data": {
      "text/html": [
       "<pre class=\"language-APL\">┌→──────────┐\n",
       "│1 3 6 10 15│\n",
       "└~──────────┘\n",
       "</pre>"
      ]
     },
     "execution_count": 20,
     "metadata": {},
     "output_type": "execute_result"
    }
   ],
   "source": [
    "+\\a"
   ]
  },
  {
   "cell_type": "code",
   "execution_count": 21,
   "id": "d6b85ed9-e5a5-4a4c-a83c-4c785e49b9e4",
   "metadata": {},
   "outputs": [
    {
     "data": {
      "text/html": [
       "<pre class=\"language-APL\">┌→────────────────────┐\n",
       "│1 0.5 1.5 0.375 1.875│\n",
       "└~────────────────────┘\n",
       "</pre>"
      ]
     },
     "execution_count": 21,
     "metadata": {},
     "output_type": "execute_result"
    }
   ],
   "source": [
    "÷\\ a"
   ]
  },
  {
   "cell_type": "code",
   "execution_count": 22,
   "id": "efcd39d8-1879-497e-aa55-675363db6950",
   "metadata": {},
   "outputs": [
    {
     "data": {
      "text/html": [
       "<pre class=\"language-APL\">┌→───────────┐\n",
       "│1 2 6 24 120│\n",
       "└~───────────┘\n",
       "</pre>"
      ]
     },
     "execution_count": 22,
     "metadata": {},
     "output_type": "execute_result"
    }
   ],
   "source": [
    "×\\ a"
   ]
  },
  {
   "cell_type": "markdown",
   "id": "e633cd83-e60c-428d-83fb-800d5544a9cf",
   "metadata": {
    "jp-MarkdownHeadingCollapsed": true
   },
   "source": [
    "## **`∘` - Jot**"
   ]
  },
  {
   "cell_type": "markdown",
   "id": "6b6802cc-2b58-487f-8f08-f493a01db68b",
   "metadata": {
    "jp-MarkdownHeadingCollapsed": true
   },
   "source": [
    "### **Dyadic `∘` (Bind)**"
   ]
  },
  {
   "cell_type": "markdown",
   "id": "4ea8df45-cdfb-4c7e-9d0a-1c96cf46ae23",
   "metadata": {},
   "source": [
    "`{R}←A∘fY`\n",
    "`{R}←(f∘B)Y`\n",
    "\n",
    "This binds an array A or B to a dyadic function f either as its left or right argument. These can also be described as left and right argument currying. Operations are determined by the order of binding arrays A, B or Y with regard to the function.\n",
    "\n",
    "_Roughly equivalent to the `partial function` in Python._"
   ]
  },
  {
   "cell_type": "code",
   "execution_count": 23,
   "id": "f0dd31e3-9fc2-4fc8-b705-1279519b32a2",
   "metadata": {},
   "outputs": [],
   "source": [
    "sqr ← *∘2 ⍝ creating a squaring function with right hand binding"
   ]
  },
  {
   "cell_type": "code",
   "execution_count": 24,
   "id": "a30fdd66-062e-4b54-80fe-0713f2cc2aa6",
   "metadata": {},
   "outputs": [
    {
     "data": {
      "text/html": [
       "<pre class=\"language-APL\"> ∘\n",
       "┌┴┐\n",
       "* 2\n",
       "</pre>"
      ]
     },
     "execution_count": 24,
     "metadata": {},
     "output_type": "execute_result"
    }
   ],
   "source": [
    "sqr "
   ]
  },
  {
   "cell_type": "code",
   "execution_count": 25,
   "id": "f002fb9d-1381-4948-b116-50e5ebb8a1ca",
   "metadata": {},
   "outputs": [
    {
     "data": {
      "text/html": [
       "<pre class=\"language-APL\"> \n",
       "9\n",
       " \n",
       "</pre>"
      ]
     },
     "execution_count": 25,
     "metadata": {},
     "output_type": "execute_result"
    }
   ],
   "source": [
    "sqr 3"
   ]
  },
  {
   "cell_type": "code",
   "execution_count": 26,
   "id": "fa398d8f-406f-40ea-a90d-281269f723d6",
   "metadata": {},
   "outputs": [
    {
     "data": {
      "text/html": [
       "<pre class=\"language-APL\"> ∘\n",
       "┌┴┐\n",
       "2 *\n",
       "</pre>"
      ]
     },
     "execution_count": 26,
     "metadata": {},
     "output_type": "execute_result"
    }
   ],
   "source": [
    "⍝ This function carries out a 2 to the power of x and \n",
    "⍝ is an example of left hand binding to a function\n",
    "⎕ ← pow ← 2∘*"
   ]
  },
  {
   "cell_type": "code",
   "execution_count": 27,
   "id": "9c589cc9-dbeb-45aa-a02c-0fdd3d7ac401",
   "metadata": {},
   "outputs": [
    {
     "data": {
      "text/html": [
       "<pre class=\"language-APL\">  \n",
       "16\n",
       "  \n",
       "</pre>"
      ]
     },
     "execution_count": 27,
     "metadata": {},
     "output_type": "execute_result"
    }
   ],
   "source": [
    "pow 4"
   ]
  },
  {
   "cell_type": "markdown",
   "id": "7bad59bb-379d-4d04-80f6-a3118582e99c",
   "metadata": {
    "jp-MarkdownHeadingCollapsed": true
   },
   "source": [
    "### **Dyadic `∘` (Beside)**"
   ]
  },
  {
   "cell_type": "code",
   "execution_count": 28,
   "id": "ccaf0aec-60db-40e1-a54e-9e5fd5b8b228",
   "metadata": {},
   "outputs": [],
   "source": [
    "f ← *∘÷ ⍝ calculating reciprocal and then e pow(x)"
   ]
  },
  {
   "cell_type": "code",
   "execution_count": 29,
   "id": "ecc8fb3a-576a-44d7-b098-9fe4a92c5a74",
   "metadata": {},
   "outputs": [
    {
     "data": {
      "text/html": [
       "<pre class=\"language-APL\"> ∘\n",
       "┌┴┐\n",
       "* ÷\n",
       "</pre>"
      ]
     },
     "execution_count": 29,
     "metadata": {},
     "output_type": "execute_result"
    }
   ],
   "source": [
    "f "
   ]
  },
  {
   "cell_type": "code",
   "execution_count": 30,
   "id": "fa55b55c-a489-4d12-ba24-f05156c05c58",
   "metadata": {},
   "outputs": [
    {
     "data": {
      "text/html": [
       "<pre class=\"language-APL\">            \n",
       "0.3333333333\n",
       "            \n",
       "</pre>"
      ]
     },
     "execution_count": 30,
     "metadata": {},
     "output_type": "execute_result"
    }
   ],
   "source": [
    "÷3"
   ]
  },
  {
   "cell_type": "code",
   "execution_count": 31,
   "id": "e5ce4e5d-701c-444b-a257-23482aeadb59",
   "metadata": {},
   "outputs": [
    {
     "data": {
      "text/html": [
       "<pre class=\"language-APL\">           \n",
       "1.395612425\n",
       "           \n",
       "</pre>"
      ]
     },
     "execution_count": 31,
     "metadata": {},
     "output_type": "execute_result"
    }
   ],
   "source": [
    "*÷3 ⍝ e pow (x) of the reciprocal"
   ]
  },
  {
   "cell_type": "code",
   "execution_count": 32,
   "id": "3d7bab46-e5d7-4c78-bdd8-41dc4a4df3a0",
   "metadata": {},
   "outputs": [
    {
     "data": {
      "text/html": [
       "<pre class=\"language-APL\">          \n",
       "1.25992105\n",
       "          \n",
       "</pre>"
      ]
     },
     "execution_count": 32,
     "metadata": {},
     "output_type": "execute_result"
    }
   ],
   "source": [
    " 2 f 3 ⍝ This becomes the cube root of 2"
   ]
  },
  {
   "cell_type": "code",
   "execution_count": 33,
   "id": "a27fdd25-6d73-4234-b1e4-7e57085a7d40",
   "metadata": {},
   "outputs": [
    {
     "data": {
      "text/html": [
       "<pre class=\"language-APL\">          \n",
       "1.25992105\n",
       "          \n",
       "</pre>"
      ]
     },
     "execution_count": 33,
     "metadata": {},
     "output_type": "execute_result"
    }
   ],
   "source": [
    "2 *(÷3)"
   ]
  },
  {
   "cell_type": "markdown",
   "id": "5c4b0cea-99d9-4573-b76a-7d9ac48ff140",
   "metadata": {
    "jp-MarkdownHeadingCollapsed": true
   },
   "source": [
    "## **`⍥` Circle Diaeresis**"
   ]
  },
  {
   "cell_type": "markdown",
   "id": "2656e727-e1b1-4d87-b7a9-68ff1a5f050a",
   "metadata": {
    "jp-MarkdownHeadingCollapsed": true
   },
   "source": [
    "### **Dyadic `⍥` (Over)**"
   ]
  },
  {
   "cell_type": "code",
   "execution_count": 34,
   "id": "9d50346e-8a8b-4c05-9493-4defecdbf25d",
   "metadata": {},
   "outputs": [
    {
     "data": {
      "text/html": [
       "<pre class=\"language-APL\">  \n",
       "¯3\n",
       "  \n",
       "</pre>"
      ]
     },
     "execution_count": 34,
     "metadata": {},
     "output_type": "execute_result"
    }
   ],
   "source": [
    "-⍥ ⌊ 3.6 ⍝ same as ∘ or ⍤ monadically"
   ]
  },
  {
   "cell_type": "code",
   "execution_count": 35,
   "id": "3a0dffa6-3475-42f1-92e8-2a519a13d09d",
   "metadata": {},
   "outputs": [
    {
     "data": {
      "text/html": [
       "<pre class=\"language-APL\"> \n",
       "2\n",
       " \n",
       "</pre>"
      ]
     },
     "execution_count": 35,
     "metadata": {},
     "output_type": "execute_result"
    }
   ],
   "source": [
    "5.1 -⍥ ⌊ 3.6 ⍝ applies ⌊ to both arguments"
   ]
  },
  {
   "cell_type": "code",
   "execution_count": 36,
   "id": "553145eb-e009-48f0-9038-cc56640269d8",
   "metadata": {},
   "outputs": [],
   "source": [
    "f ← *⍥÷ ⍝ Apply divide to both arguements and then take the power of x."
   ]
  },
  {
   "cell_type": "code",
   "execution_count": 37,
   "id": "72f2d4a8-2757-48e3-845f-095e2ace7dc8",
   "metadata": {},
   "outputs": [
    {
     "data": {
      "text/html": [
       "<pre class=\"language-APL\">           \n",
       "1.395612425\n",
       "           \n",
       "</pre>"
      ]
     },
     "execution_count": 37,
     "metadata": {},
     "output_type": "execute_result"
    }
   ],
   "source": [
    "*(÷3)"
   ]
  },
  {
   "cell_type": "code",
   "execution_count": 38,
   "id": "0818b707-d7a4-4ba5-b034-62d66c27da5d",
   "metadata": {},
   "outputs": [
    {
     "data": {
      "text/html": [
       "<pre class=\"language-APL\">           \n",
       "1.395612425\n",
       "           \n",
       "</pre>"
      ]
     },
     "execution_count": 38,
     "metadata": {},
     "output_type": "execute_result"
    }
   ],
   "source": [
    "f 3"
   ]
  },
  {
   "cell_type": "code",
   "execution_count": 39,
   "id": "e8e8e4f4-83da-47cf-bb23-0d145b048c15",
   "metadata": {},
   "outputs": [
    {
     "data": {
      "text/html": [
       "<pre class=\"language-APL\">           \n",
       "0.793700526\n",
       "           \n",
       "</pre>"
      ]
     },
     "execution_count": 39,
     "metadata": {},
     "output_type": "execute_result"
    }
   ],
   "source": [
    "(÷2)*÷3"
   ]
  },
  {
   "cell_type": "code",
   "execution_count": 40,
   "id": "e523ce7f-9f98-441f-8052-8cd39459cc33",
   "metadata": {},
   "outputs": [
    {
     "data": {
      "text/html": [
       "<pre class=\"language-APL\">           \n",
       "0.793700526\n",
       "           \n",
       "</pre>"
      ]
     },
     "execution_count": 40,
     "metadata": {},
     "output_type": "execute_result"
    }
   ],
   "source": [
    "2 f 3"
   ]
  },
  {
   "cell_type": "markdown",
   "id": "fa042ce3-fab8-4eef-8b97-effecca950a5",
   "metadata": {
    "jp-MarkdownHeadingCollapsed": true
   },
   "source": [
    "## **`⍣` Star Diaeresis**"
   ]
  },
  {
   "cell_type": "markdown",
   "id": "cd5bad65-3f6b-4822-9eb5-64504cb9df11",
   "metadata": {
    "jp-MarkdownHeadingCollapsed": true
   },
   "source": [
    "### **Dyadic `⍣` (Power Operator)**"
   ]
  },
  {
   "cell_type": "markdown",
   "id": "9b88ba60-7480-43de-b184-1ed3b327ba52",
   "metadata": {},
   "source": [
    "`{R}←{X}(f⍣g)Y`\n",
    "\n",
    "Not to be confused with `*` which is a function. The power operator defines how many times a function must be run."
   ]
  },
  {
   "cell_type": "code",
   "execution_count": 41,
   "id": "3d4d08d0-8e35-4db9-9673-e9a2fe629d36",
   "metadata": {},
   "outputs": [],
   "source": [
    "S ← +∘1 ⍝ binding a function to add one to a value"
   ]
  },
  {
   "cell_type": "code",
   "execution_count": 42,
   "id": "85c81700-615a-4afc-85d8-dd1c24fa41a5",
   "metadata": {},
   "outputs": [
    {
     "data": {
      "text/html": [
       "<pre class=\"language-APL\">┌→──────┐\n",
       "│1 2 3 4│\n",
       "└~──────┘\n",
       "</pre>"
      ]
     },
     "execution_count": 42,
     "metadata": {},
     "output_type": "execute_result"
    }
   ],
   "source": [
    "S 0 1 2 3"
   ]
  },
  {
   "cell_type": "code",
   "execution_count": 43,
   "id": "2b9a88ba-6925-4044-b365-ca4adeeab587",
   "metadata": {},
   "outputs": [
    {
     "data": {
      "text/html": [
       "<pre class=\"language-APL\">┌→──────┐\n",
       "│3 4 5 6│\n",
       "└~──────┘\n",
       "</pre>"
      ]
     },
     "execution_count": 43,
     "metadata": {},
     "output_type": "execute_result"
    }
   ],
   "source": [
    "⍝ Now using the power operator to specify the number of times a function call\n",
    "⍝ needs to be repeated.\n",
    "(S⍣3) 0 1 2 3"
   ]
  },
  {
   "cell_type": "code",
   "execution_count": 44,
   "id": "c8b72d9b-e8ec-4049-87ea-376501f2fcee",
   "metadata": {},
   "outputs": [],
   "source": [
    "add ← {(S⍣⍺) ⍵}"
   ]
  },
  {
   "cell_type": "code",
   "execution_count": 45,
   "id": "a408ef83-f7f1-429d-adcf-b71b6ab9b078",
   "metadata": {},
   "outputs": [
    {
     "data": {
      "text/html": [
       "<pre class=\"language-APL\"> \n",
       "6\n",
       " \n",
       "</pre>"
      ]
     },
     "execution_count": 45,
     "metadata": {},
     "output_type": "execute_result"
    }
   ],
   "source": [
    "3 add 3 ⍝ S repeats 3 times then adds 3"
   ]
  },
  {
   "cell_type": "code",
   "execution_count": 46,
   "id": "fe74117e-af6a-422a-8b99-698dde815afa",
   "metadata": {},
   "outputs": [],
   "source": [
    "mult ← {⍺ (add⍣⍵) 0} ⍝ Adding the parenthesis to 0 "
   ]
  },
  {
   "cell_type": "code",
   "execution_count": 47,
   "id": "0363bd03-9565-4298-a72c-c4912a8149cc",
   "metadata": {},
   "outputs": [
    {
     "data": {
      "text/html": [
       "<pre class=\"language-APL\">  \n",
       "18\n",
       "  \n",
       "</pre>"
      ]
     },
     "execution_count": 47,
     "metadata": {},
     "output_type": "execute_result"
    }
   ],
   "source": [
    "3 mult 6"
   ]
  },
  {
   "cell_type": "code",
   "execution_count": 48,
   "id": "c07f68f0-600c-4eca-9134-5b7991f3e9fb",
   "metadata": {},
   "outputs": [
    {
     "data": {
      "text/html": [
       "<pre class=\"language-APL\"> \n",
       "2\n",
       " \n",
       "</pre>"
      ]
     },
     "execution_count": 48,
     "metadata": {},
     "output_type": "execute_result"
    }
   ],
   "source": [
    "(S⍣¯3) 5 ⍝ Can be used to invert functions."
   ]
  },
  {
   "cell_type": "code",
   "execution_count": 49,
   "id": "08d0de78-1687-4a5c-a27a-1c3e21754e9f",
   "metadata": {},
   "outputs": [],
   "source": [
    "sqr ← *∘2 ⍝ square of arg."
   ]
  },
  {
   "cell_type": "code",
   "execution_count": 50,
   "id": "f3e5550e-4faa-4b0e-8dde-5a3d1ecdd8f5",
   "metadata": {},
   "outputs": [
    {
     "data": {
      "text/html": [
       "<pre class=\"language-APL\"> \n",
       "3\n",
       " \n",
       "</pre>"
      ]
     },
     "execution_count": 50,
     "metadata": {},
     "output_type": "execute_result"
    }
   ],
   "source": [
    "(sqr⍣¯1) 9  ⍝ inverse of square is the square root, so this is an easier application."
   ]
  },
  {
   "cell_type": "code",
   "execution_count": 51,
   "id": "44739387-712f-451a-90d5-3112ccf83e14",
   "metadata": {},
   "outputs": [],
   "source": [
    "⍝ Using the same logic, we can compute numbers with higher complexity\n",
    "⍝ such as Phi - the golden ratio\n",
    "f ← +∘÷"
   ]
  },
  {
   "cell_type": "code",
   "execution_count": 52,
   "id": "90fce0e7-5f95-41de-b00c-c48689b38bfd",
   "metadata": {},
   "outputs": [
    {
     "data": {
      "text/html": [
       "<pre class=\"language-APL\"> \n",
       "2\n",
       " \n",
       "</pre>"
      ]
     },
     "execution_count": 52,
     "metadata": {},
     "output_type": "execute_result"
    }
   ],
   "source": [
    "1 f 1"
   ]
  },
  {
   "cell_type": "code",
   "execution_count": 53,
   "id": "a9c106a5-ae9d-4b6f-8cf2-cf072a657803",
   "metadata": {},
   "outputs": [
    {
     "data": {
      "text/html": [
       "<pre class=\"language-APL\">┌→─────────────────────┐\n",
       "│2 1.5 1.333333333 1.25│\n",
       "└~─────────────────────┘\n",
       "</pre>"
      ]
     },
     "execution_count": 53,
     "metadata": {},
     "output_type": "execute_result"
    }
   ],
   "source": [
    "1 f 1 2 3 4"
   ]
  },
  {
   "cell_type": "code",
   "execution_count": 54,
   "id": "7e73e491-a47b-42bf-877d-d3647e1727a6",
   "metadata": {},
   "outputs": [
    {
     "data": {
      "text/html": [
       "<pre class=\"language-APL\">           \n",
       "1.618034448\n",
       "           \n",
       "</pre>"
      ]
     },
     "execution_count": 54,
     "metadata": {},
     "output_type": "execute_result"
    }
   ],
   "source": [
    "1 (f⍣15) 1 "
   ]
  },
  {
   "cell_type": "code",
   "execution_count": 55,
   "id": "dda9eb0d-d742-4f6d-84f7-568e6aafb175",
   "metadata": {},
   "outputs": [
    {
     "data": {
      "text/html": [
       "<pre class=\"language-APL\">  \n",
       "13\n",
       "  \n",
       "</pre>"
      ]
     },
     "execution_count": 55,
     "metadata": {},
     "output_type": "execute_result"
    }
   ],
   "source": [
    "+/ 4 4 5"
   ]
  },
  {
   "cell_type": "markdown",
   "id": "ca7cd4f8-1d3c-4cb4-bce0-902f53a34322",
   "metadata": {
    "jp-MarkdownHeadingCollapsed": true
   },
   "source": [
    "## **`¨` Diaeresis**"
   ]
  },
  {
   "cell_type": "markdown",
   "id": "f20b8303-8c02-4f3e-9d63-85eb6be6abf0",
   "metadata": {},
   "source": [
    "### **Monadic `¨` - (Each)**"
   ]
  },
  {
   "cell_type": "code",
   "execution_count": 56,
   "id": "9480da64-5524-4ceb-b6b2-082b244befa8",
   "metadata": {},
   "outputs": [
    {
     "data": {
      "text/html": [
       "<pre class=\"language-APL\">┌→──────────────────┐\n",
       "│ ┌→──────┐ ┌→────┐ │\n",
       "│ │1 2 3 4│ │5 6 7│ │\n",
       "│ └~──────┘ └~────┘ │\n",
       "└∊──────────────────┘\n",
       "</pre>"
      ]
     },
     "execution_count": 56,
     "metadata": {},
     "output_type": "execute_result"
    }
   ],
   "source": [
    "⎕ ← a ← (1 2 3 4)(5 6 7) ⍝ Creating an array of arrays"
   ]
  },
  {
   "cell_type": "markdown",
   "id": "f47fccb9-aef0-47d2-8638-8763b34a974d",
   "metadata": {},
   "source": [
    "Each operator takes the previous function (sum in the example below) and applies it over each of the arguments."
   ]
  },
  {
   "cell_type": "code",
   "execution_count": 57,
   "id": "d95c3cc4-f25b-47c4-9ff9-7ebb5a68f2c0",
   "metadata": {},
   "outputs": [
    {
     "data": {
      "text/html": [
       "<pre class=\"language-APL\">┌→────┐\n",
       "│10 18│\n",
       "└~────┘\n",
       "</pre>"
      ]
     },
     "execution_count": 57,
     "metadata": {},
     "output_type": "execute_result"
    }
   ],
   "source": [
    "+/¨a "
   ]
  },
  {
   "cell_type": "code",
   "execution_count": 58,
   "id": "91c4c10d-c976-4e20-8b9a-097d0f1ec977",
   "metadata": {},
   "outputs": [
    {
     "data": {
      "text/html": [
       "<pre class=\"language-APL\">┌→────────────────┐\n",
       "│ ┌→────┐ ┌→────┐ │\n",
       "│ │1 2 3│ │4 5 6│ │\n",
       "│ └~────┘ └~────┘ │\n",
       "└∊────────────────┘\n",
       "</pre>"
      ]
     },
     "execution_count": 58,
     "metadata": {},
     "output_type": "execute_result"
    }
   ],
   "source": [
    "⎕ ← b ← (1 2 3)(4 5 6) "
   ]
  },
  {
   "cell_type": "code",
   "execution_count": 59,
   "id": "9bf1511a-2dcf-4b33-bcf2-5eb4a6419e19",
   "metadata": {},
   "outputs": [
    {
     "data": {
      "text/html": [
       "<pre class=\"language-APL\">┌→────────────────┐\n",
       "│ ┌→────┐ ┌→────┐ │\n",
       "│ │3 4 5│ │7 8 9│ │\n",
       "│ └~────┘ └~────┘ │\n",
       "└∊────────────────┘\n",
       "</pre>"
      ]
     },
     "execution_count": 59,
     "metadata": {},
     "output_type": "execute_result"
    }
   ],
   "source": [
    "2 3 +¨b"
   ]
  },
  {
   "cell_type": "markdown",
   "id": "e8e22cfc-ac6e-40dc-a465-ac28fc3dd4ca",
   "metadata": {
    "jp-MarkdownHeadingCollapsed": true
   },
   "source": [
    "## **`⌿` Slash Bar**"
   ]
  },
  {
   "cell_type": "markdown",
   "id": "e9a8f0f4-af38-4fb5-9c67-0a3a4823d694",
   "metadata": {
    "jp-MarkdownHeadingCollapsed": true
   },
   "source": [
    "### **Monadic `⌿` - (Reduce First)**"
   ]
  },
  {
   "cell_type": "code",
   "execution_count": 60,
   "id": "b842041f-36f4-46e9-992b-5ece3749fbb6",
   "metadata": {},
   "outputs": [
    {
     "data": {
      "text/html": [
       "<pre class=\"language-APL\">┌→────┐\n",
       "↓1 2 3│\n",
       "│4 5 6│\n",
       "└~────┘\n",
       "</pre>"
      ]
     },
     "execution_count": 60,
     "metadata": {},
     "output_type": "execute_result"
    }
   ],
   "source": [
    "⎕ ← mat ← 2 3 ⍴ ⍳6 ⍝ Create a 2x3 matrix with 6 elements using the index generator."
   ]
  },
  {
   "cell_type": "code",
   "execution_count": 61,
   "id": "215da70b-fa92-4779-a8c6-2e10e1d9a00c",
   "metadata": {},
   "outputs": [
    {
     "data": {
      "text/html": [
       "<pre class=\"language-APL\">┌→────┐\n",
       "│5 7 9│\n",
       "└~────┘\n",
       "</pre>"
      ]
     },
     "execution_count": 61,
     "metadata": {},
     "output_type": "execute_result"
    }
   ],
   "source": [
    "+⌿ mat"
   ]
  },
  {
   "cell_type": "code",
   "execution_count": 62,
   "id": "d4520aec-e259-4cfa-8bc8-277087c612dc",
   "metadata": {},
   "outputs": [
    {
     "data": {
      "text/html": [
       "<pre class=\"language-APL\">┌→──────────┐\n",
       "↓ 1  2  3  4│\n",
       "│ 5  6  7  8│\n",
       "│ 9 10 11 12│\n",
       "│13 14 15 16│\n",
       "└~──────────┘\n",
       "</pre>"
      ]
     },
     "execution_count": 62,
     "metadata": {},
     "output_type": "execute_result"
    }
   ],
   "source": [
    "⎕ ← mat ← 4 4 ⍴ ⍳16"
   ]
  },
  {
   "cell_type": "code",
   "execution_count": 63,
   "id": "3e7bcb6d-07a8-411b-82d0-97cdf0019f70",
   "metadata": {},
   "outputs": [
    {
     "data": {
      "text/html": [
       "<pre class=\"language-APL\">┌→──────────┐\n",
       "│28 32 36 40│\n",
       "└~──────────┘\n",
       "</pre>"
      ]
     },
     "execution_count": 63,
     "metadata": {},
     "output_type": "execute_result"
    }
   ],
   "source": [
    "+⌿ mat ⍝ columnar sum"
   ]
  },
  {
   "cell_type": "markdown",
   "id": "5330d015-f0c6-4361-8166-6f6b76f5e1d0",
   "metadata": {},
   "source": []
  },
  {
   "cell_type": "markdown",
   "id": "91eecbeb-9d07-4d6b-9a7c-7c75cb76843c",
   "metadata": {
    "jp-MarkdownHeadingCollapsed": true
   },
   "source": [
    "## **`⍀` Back Slash Bar aka Slope Bar**"
   ]
  },
  {
   "cell_type": "markdown",
   "id": "97638ad7-27cc-4cb9-a218-28dbd7a49270",
   "metadata": {},
   "source": [
    "### **Monadic `⍀` - (Slope)**"
   ]
  },
  {
   "cell_type": "code",
   "execution_count": 64,
   "id": "5e39ba00-e48b-4d72-a97f-6c748d79b462",
   "metadata": {},
   "outputs": [
    {
     "data": {
      "text/html": [
       "<pre class=\"language-APL\">┌→──────────┐\n",
       "↓ 1  2  3  4│\n",
       "│ 5  6  7  8│\n",
       "│ 9 10 11 12│\n",
       "│13 14 15 16│\n",
       "└~──────────┘\n",
       "</pre>"
      ]
     },
     "execution_count": 64,
     "metadata": {},
     "output_type": "execute_result"
    }
   ],
   "source": [
    "mat"
   ]
  },
  {
   "cell_type": "code",
   "execution_count": 65,
   "id": "97ce5c40-78d6-47c1-8f72-65abfeaf9d57",
   "metadata": {},
   "outputs": [
    {
     "data": {
      "text/html": [
       "<pre class=\"language-APL\">┌→──────────┐\n",
       "↓ 1  2  3  4│\n",
       "│ 6  8 10 12│\n",
       "│15 18 21 24│\n",
       "│28 32 36 40│\n",
       "└~──────────┘\n",
       "</pre>"
      ]
     },
     "execution_count": 65,
     "metadata": {},
     "output_type": "execute_result"
    }
   ],
   "source": [
    "+⍀ mat ⍝ basically a rowed windowed sum over columns."
   ]
  },
  {
   "cell_type": "markdown",
   "id": "5c46a529-d680-4c59-a472-5c6c1a20d219",
   "metadata": {
    "jp-MarkdownHeadingCollapsed": true
   },
   "source": [
    "## **`⍤` Jot Diaeresis**"
   ]
  },
  {
   "cell_type": "markdown",
   "id": "238e11c0-e6c8-41f7-9c27-06ddfd24f610",
   "metadata": {},
   "source": [
    "### **Dyadic `⍤` - (Rank)**"
   ]
  },
  {
   "cell_type": "code",
   "execution_count": 66,
   "id": "3bc41c8e-5790-473a-a265-c0b0ee219077",
   "metadata": {},
   "outputs": [
    {
     "data": {
      "text/html": [
       "<pre class=\"language-APL\">┌→────┐\n",
       "↓1 2 3│\n",
       "│4 5 6│\n",
       "└~────┘\n",
       "</pre>"
      ]
     },
     "execution_count": 66,
     "metadata": {},
     "output_type": "execute_result"
    }
   ],
   "source": [
    "⎕ ← mat ← 2 3 ⍴ ⍳6"
   ]
  },
  {
   "cell_type": "code",
   "execution_count": 67,
   "id": "e57ec083-2acc-4e7e-9f5a-bfcd55347220",
   "metadata": {},
   "outputs": [
    {
     "data": {
      "text/html": [
       "<pre class=\"language-APL\">┌→───┐\n",
       "│6 15│\n",
       "└~───┘\n",
       "</pre>"
      ]
     },
     "execution_count": 67,
     "metadata": {},
     "output_type": "execute_result"
    }
   ],
   "source": [
    "(+/⍤1)mat ⍝ Sum over the first axics"
   ]
  },
  {
   "cell_type": "markdown",
   "id": "7554c1a2-275b-42a2-80f8-db46fd62e916",
   "metadata": {},
   "source": [
    "Comparing to `⌿` and `/` operators."
   ]
  },
  {
   "cell_type": "code",
   "execution_count": 68,
   "id": "49bc7ce7-5e8c-4a48-9870-417ec5742d98",
   "metadata": {},
   "outputs": [
    {
     "data": {
      "text/html": [
       "<pre class=\"language-APL\">┌→─────────┐\n",
       "↓1  2  3  4│\n",
       "│5  6  7  8│\n",
       "│9 10 11 12│\n",
       "└~─────────┘\n",
       "</pre>"
      ]
     },
     "execution_count": 68,
     "metadata": {},
     "output_type": "execute_result"
    },
    {
     "data": {
      "text/html": [
       "<pre class=\"language-APL\">┌→───────┐\n",
       "│10 26 42│\n",
       "└~───────┘\n",
       "</pre>"
      ]
     },
     "execution_count": 68,
     "metadata": {},
     "output_type": "execute_result"
    }
   ],
   "source": [
    "⎕ ← mat ← 3 4 ⍴ ⍳12 ⍝ Across rows, treated as vectors, and reshaped.\n",
    "+/mat"
   ]
  },
  {
   "cell_type": "code",
   "execution_count": 69,
   "id": "b3814089-f984-4732-9e52-412775182f1d",
   "metadata": {},
   "outputs": [
    {
     "data": {
      "text/html": [
       "<pre class=\"language-APL\">┌→─────────┐\n",
       "↓1  2  3  4│\n",
       "│5  6  7  8│\n",
       "│9 10 11 12│\n",
       "└~─────────┘\n",
       "</pre>"
      ]
     },
     "execution_count": 69,
     "metadata": {},
     "output_type": "execute_result"
    },
    {
     "data": {
      "text/html": [
       "<pre class=\"language-APL\">┌→───────┐\n",
       "│10 26 42│\n",
       "└~───────┘\n",
       "</pre>"
      ]
     },
     "execution_count": 69,
     "metadata": {},
     "output_type": "execute_result"
    }
   ],
   "source": [
    "⎕ ← mat ← 3 4 ⍴ ⍳12 ⍝ Across rows, treated as vectors, and reshaped.\n",
    "(+/⍤1)mat"
   ]
  },
  {
   "cell_type": "code",
   "execution_count": 70,
   "id": "01c8ada6-7574-4c70-b588-86c9a35f7c35",
   "metadata": {},
   "outputs": [
    {
     "data": {
      "text/html": [
       "<pre class=\"language-APL\">┌→─────────┐\n",
       "↓1  2  3  4│\n",
       "│5  6  7  8│\n",
       "│9 10 11 12│\n",
       "└~─────────┘\n",
       "</pre>"
      ]
     },
     "execution_count": 70,
     "metadata": {},
     "output_type": "execute_result"
    },
    {
     "data": {
      "text/html": [
       "<pre class=\"language-APL\">┌→──────────┐\n",
       "│15 18 21 24│\n",
       "└~──────────┘\n",
       "</pre>"
      ]
     },
     "execution_count": 70,
     "metadata": {},
     "output_type": "execute_result"
    }
   ],
   "source": [
    "⎕ ← mat ← 3 4 ⍴ ⍳12 ⍝ Over columns \n",
    "+⌿mat"
   ]
  },
  {
   "cell_type": "code",
   "execution_count": 71,
   "id": "d7e59b16-7550-416e-8b40-e65f6b423228",
   "metadata": {},
   "outputs": [
    {
     "data": {
      "text/html": [
       "<pre class=\"language-APL\">┌→─────────┐\n",
       "↓1  2  3  4│\n",
       "│5  6  7  8│\n",
       "│9 10 11 12│\n",
       "└~─────────┘\n",
       "</pre>"
      ]
     },
     "execution_count": 71,
     "metadata": {},
     "output_type": "execute_result"
    },
    {
     "data": {
      "text/html": [
       "<pre class=\"language-APL\">┌→──────────┐\n",
       "│15 18 21 24│\n",
       "└~──────────┘\n",
       "</pre>"
      ]
     },
     "execution_count": 71,
     "metadata": {},
     "output_type": "execute_result"
    }
   ],
   "source": [
    "⎕ ← mat ← 3 4 ⍴ ⍳12 ⍝ Across rows, treated as vectors, and reshaped.\n",
    "(+⌿⍤2)mat"
   ]
  },
  {
   "cell_type": "code",
   "execution_count": 72,
   "id": "a1d2d411-883a-4987-9554-7333a5f7ced7",
   "metadata": {},
   "outputs": [
    {
     "data": {
      "text/html": [
       "<pre class=\"language-APL\">┌┌→──┐\n",
       "↓↓1 2│\n",
       "││3 4│\n",
       "││   │\n",
       "││5 6│\n",
       "││7 8│\n",
       "└└~──┘\n",
       "</pre>"
      ]
     },
     "execution_count": 72,
     "metadata": {},
     "output_type": "execute_result"
    }
   ],
   "source": [
    "⎕ ← cube ← 2 2 2 ⍴⍳8"
   ]
  },
  {
   "cell_type": "code",
   "execution_count": 73,
   "id": "0fdc40d1-5dc3-4155-9bb3-d155c6141cc6",
   "metadata": {},
   "outputs": [
    {
     "data": {
      "text/html": [
       "<pre class=\"language-APL\">┌→────┐\n",
       "↓ 3  7│\n",
       "│11 15│\n",
       "└~────┘\n",
       "</pre>"
      ]
     },
     "execution_count": 73,
     "metadata": {},
     "output_type": "execute_result"
    }
   ],
   "source": [
    "(+/⍤1)cube ⍝ Sum rows and reshape"
   ]
  },
  {
   "cell_type": "code",
   "execution_count": 74,
   "id": "9f3af1d8-5ef2-4dbe-9437-eed3883b357a",
   "metadata": {},
   "outputs": [
    {
     "data": {
      "text/html": [
       "<pre class=\"language-APL\">┌→────┐\n",
       "↓ 4  6│\n",
       "│12 14│\n",
       "└~────┘\n",
       "</pre>"
      ]
     },
     "execution_count": 74,
     "metadata": {},
     "output_type": "execute_result"
    }
   ],
   "source": [
    "(+⌿⍤2)cube ⍝ Sum columns of cube retain shape"
   ]
  },
  {
   "cell_type": "code",
   "execution_count": 75,
   "id": "5b86e242-0d83-432b-a83b-8494ffb8ce7a",
   "metadata": {},
   "outputs": [
    {
     "data": {
      "text/html": [
       "<pre class=\"language-APL\">┌┌→──────────┐\n",
       "↓↓ 1  2  3  4│\n",
       "││ 5  6  7  8│\n",
       "││ 9 10 11 12│\n",
       "││           │\n",
       "││13 14 15 16│\n",
       "││17 18 19 20│\n",
       "││21 22 23 24│\n",
       "└└~──────────┘\n",
       "</pre>"
      ]
     },
     "execution_count": 75,
     "metadata": {},
     "output_type": "execute_result"
    },
    {
     "data": {
      "text/html": [
       "<pre class=\"language-APL\">┌→───────┐\n",
       "↓10 26 42│\n",
       "│58 74 90│\n",
       "└~───────┘\n",
       "</pre>"
      ]
     },
     "execution_count": 75,
     "metadata": {},
     "output_type": "execute_result"
    }
   ],
   "source": [
    "⎕ ← cube ← 2 3 4 ⍴⍳ 24 ⍝ testing on multidimensional matrix but sticking with cube as the name.\n",
    "(+⌿⍤1)cube ⍝ operations are carried out at the matrix level."
   ]
  },
  {
   "cell_type": "markdown",
   "id": "432bde53-8060-4451-8e1b-491c46d532ca",
   "metadata": {
    "jp-MarkdownHeadingCollapsed": true
   },
   "source": [
    "### **Dyadic `⍤` - (Atop)**"
   ]
  },
  {
   "cell_type": "code",
   "execution_count": 76,
   "id": "1b4d3a48-695f-4ba1-9267-a1e4c6f7c1c3",
   "metadata": {},
   "outputs": [
    {
     "data": {
      "text/html": [
       "<pre class=\"language-APL\">     \n",
       "¯0.25\n",
       "     \n",
       "</pre>"
      ]
     },
     "execution_count": 76,
     "metadata": {},
     "output_type": "execute_result"
    }
   ],
   "source": [
    "-⍤ ÷ 4"
   ]
  },
  {
   "cell_type": "code",
   "execution_count": 77,
   "id": "b7f32197-caa4-4d85-99c3-15730338eb96",
   "metadata": {},
   "outputs": [],
   "source": [
    "f ← *⍤÷"
   ]
  },
  {
   "cell_type": "code",
   "execution_count": 78,
   "id": "14fd015f-eb35-4258-b244-9a9abb9a7869",
   "metadata": {},
   "outputs": [
    {
     "data": {
      "text/html": [
       "<pre class=\"language-APL\">           \n",
       "1.395612425\n",
       "           \n",
       "</pre>"
      ]
     },
     "execution_count": 78,
     "metadata": {},
     "output_type": "execute_result"
    }
   ],
   "source": [
    "*(÷3)"
   ]
  },
  {
   "cell_type": "code",
   "execution_count": 79,
   "id": "deefd5c5-5a2b-46e4-9be3-3b4ebec5f044",
   "metadata": {},
   "outputs": [
    {
     "data": {
      "text/html": [
       "<pre class=\"language-APL\">           \n",
       "1.395612425\n",
       "           \n",
       "</pre>"
      ]
     },
     "execution_count": 79,
     "metadata": {},
     "output_type": "execute_result"
    }
   ],
   "source": [
    "f 3"
   ]
  },
  {
   "cell_type": "code",
   "execution_count": 80,
   "id": "2bdb9711-d328-4817-8173-3f83b47c1be7",
   "metadata": {},
   "outputs": [
    {
     "data": {
      "text/html": [
       "<pre class=\"language-APL\">           \n",
       "1.947734041\n",
       "           \n",
       "</pre>"
      ]
     },
     "execution_count": 80,
     "metadata": {},
     "output_type": "execute_result"
    }
   ],
   "source": [
    "2 f 3"
   ]
  },
  {
   "cell_type": "code",
   "execution_count": 81,
   "id": "c4f7e24f-0f95-4650-b8a2-aaf4a656f37d",
   "metadata": {},
   "outputs": [
    {
     "data": {
      "text/html": [
       "<pre class=\"language-APL\">           \n",
       "1.947734041\n",
       "           \n",
       "</pre>"
      ]
     },
     "execution_count": 81,
     "metadata": {},
     "output_type": "execute_result"
    }
   ],
   "source": [
    "* 2÷3"
   ]
  },
  {
   "cell_type": "markdown",
   "id": "422f295b-44eb-4d2f-8106-1883e93097db",
   "metadata": {
    "jp-MarkdownHeadingCollapsed": true
   },
   "source": [
    "## **`⌸` Quad Equal**"
   ]
  },
  {
   "cell_type": "markdown",
   "id": "ca2574e1-b29c-4214-8542-5afd69f3f733",
   "metadata": {
    "jp-MarkdownHeadingCollapsed": true
   },
   "source": [
    "### **Monadic `⌸` - (Key)**\n",
    "**`R ← {X}f⌸Y`**"
   ]
  },
  {
   "cell_type": "markdown",
   "id": "a7cd5cf1-d691-4da1-bfda-ba699883c45a",
   "metadata": {},
   "source": [
    "> Quad Equal is a Monadic operator with an ambivalent operand.\n",
    "> \n",
    "> If X is specified, it is an array whose major cells specify keys for corresponding major cells of Y. The Key operator ⌸ applies the function f to each unique key in X and the major cells of Y having that key."
   ]
  },
  {
   "cell_type": "code",
   "execution_count": 82,
   "id": "1131f49b-c7b6-454e-914c-061bab260728",
   "metadata": {},
   "outputs": [],
   "source": [
    "a ← 'banana'"
   ]
  },
  {
   "cell_type": "code",
   "execution_count": 83,
   "id": "050e763a-1fa5-4376-be01-453921721b91",
   "metadata": {},
   "outputs": [
    {
     "data": {
      "text/html": [
       "<pre class=\"language-APL\">┌→───┐\n",
       "↓b  1│\n",
       "│a 12│\n",
       "│n  8│\n",
       "└+───┘\n",
       "</pre>"
      ]
     },
     "execution_count": 83,
     "metadata": {},
     "output_type": "execute_result"
    }
   ],
   "source": [
    "a {⍺,+/⍵} ⌸ ⍳6"
   ]
  },
  {
   "cell_type": "code",
   "execution_count": 84,
   "id": "b60199a3-cdd2-4547-b8a5-18abf9591da8",
   "metadata": {},
   "outputs": [],
   "source": [
    "cards ← '2' 'Queen' 'Ace' '4' 'Jack'\n",
    "suits ← 'Spades' 'Hearts' 'Clubs' 'Spades' 'Hearts'"
   ]
  },
  {
   "cell_type": "code",
   "execution_count": 85,
   "id": "8e1a9f87-d341-478d-bab3-8952fed0d6e5",
   "metadata": {},
   "outputs": [
    {
     "data": {
      "text/html": [
       "<pre class=\"language-APL\">┌→──────────────────────────────────┐\n",
       "↓ ┌──────────┐   ┌→─┐               │\n",
       "│ │ ┌→─────┐ │ : │24│               │\n",
       "│ │ │Spades│ │ - └──┘               │\n",
       "│ │ └──────┘ │                      │\n",
       "│ └∊─────────┘                      │\n",
       "│ ┌──────────┐   ┌→───────────────┐ │\n",
       "│ │ ┌→─────┐ │ : │ ┌→────┐ ┌→───┐ │ │\n",
       "│ │ │Hearts│ │ - │ │Queen│ │Jack│ │ │\n",
       "│ │ └──────┘ │   │ └─────┘ └────┘ │ │\n",
       "│ └∊─────────┘   └∊───────────────┘ │\n",
       "│ ┌─────────┐    ┌→──────┐          │\n",
       "│ │ ┌→────┐ │  : │ ┌→──┐ │          │\n",
       "│ │ │Clubs│ │  - │ │Ace│ │          │\n",
       "│ │ └─────┘ │    │ └───┘ │          │\n",
       "│ └∊────────┘    └∊──────┘          │\n",
       "└∊──────────────────────────────────┘\n",
       "</pre>"
      ]
     },
     "execution_count": 85,
     "metadata": {},
     "output_type": "execute_result"
    }
   ],
   "source": [
    "suits {⍺':'⍵}⌸ cards"
   ]
  },
  {
   "cell_type": "code",
   "execution_count": 86,
   "id": "1df06011-6af6-4fcd-a705-05d566ac0d84",
   "metadata": {},
   "outputs": [
    {
     "data": {
      "text/html": [
       "<pre class=\"language-APL\">┌→───────────────────┐\n",
       "↓ ┌──────────┐ ┌→──┐ │\n",
       "│ │ ┌→─────┐ │ │1 4│ │\n",
       "│ │ │Spades│ │ └~──┘ │\n",
       "│ │ └──────┘ │       │\n",
       "│ └∊─────────┘       │\n",
       "│ ┌──────────┐ ┌→──┐ │\n",
       "│ │ ┌→─────┐ │ │2 5│ │\n",
       "│ │ │Hearts│ │ └~──┘ │\n",
       "│ │ └──────┘ │       │\n",
       "│ └∊─────────┘       │\n",
       "│ ┌─────────┐  ┌→┐   │\n",
       "│ │ ┌→────┐ │  │3│   │\n",
       "│ │ │Clubs│ │  └~┘   │\n",
       "│ │ └─────┘ │        │\n",
       "│ └∊────────┘        │\n",
       "└∊───────────────────┘\n",
       "</pre>"
      ]
     },
     "execution_count": 86,
     "metadata": {},
     "output_type": "execute_result"
    }
   ],
   "source": [
    "{⍺ ⍵} ⌸ suits ⍝ indices of unique major cells"
   ]
  },
  {
   "cell_type": "code",
   "execution_count": 87,
   "id": "93c2ed57-c416-4177-abbf-7fe4efc615c6",
   "metadata": {},
   "outputs": [
    {
     "data": {
      "text/html": [
       "<pre class=\"language-APL\">┌→───────────┐\n",
       "↓ ┌→─────┐   │\n",
       "│ │Spades│ 2 │\n",
       "│ └──────┘   │\n",
       "│ ┌→─────┐   │\n",
       "│ │Hearts│ 2 │\n",
       "│ └──────┘   │\n",
       "│ ┌→────┐    │\n",
       "│ │Clubs│  1 │\n",
       "│ └─────┘    │\n",
       "└∊───────────┘\n",
       "</pre>"
      ]
     },
     "execution_count": 87,
     "metadata": {},
     "output_type": "execute_result"
    }
   ],
   "source": [
    "{⍺,≢⍵} ⌸ suits ⍝ count of unique major cells"
   ]
  },
  {
   "cell_type": "code",
   "execution_count": 88,
   "id": "54c1f798-8819-414a-b9e2-66563cdcefd8",
   "metadata": {},
   "outputs": [
    {
     "data": {
      "text/html": [
       "<pre class=\"language-APL\">┌→──┐\n",
       "↓a 1│\n",
       "│o 4│\n",
       "│s 2│\n",
       "│u 3│\n",
       "│h 2│\n",
       "│b 2│\n",
       "│v 1│\n",
       "│c 2│\n",
       "│j 1│\n",
       "│n 1│\n",
       "│q 1│\n",
       "│p 1│\n",
       "│e 1│\n",
       "└+──┘\n",
       "</pre>"
      ]
     },
     "execution_count": 88,
     "metadata": {},
     "output_type": "execute_result"
    }
   ],
   "source": [
    "letters ← 'aosuouhoushbvbcjncqpeo'\n",
    "{⍺(≢⍵)} ⌸ letters"
   ]
  },
  {
   "cell_type": "code",
   "execution_count": 89,
   "id": "e2db5093-7afe-4216-9ed0-c9e80e82df73",
   "metadata": {},
   "outputs": [
    {
     "data": {
      "text/html": [
       "<pre class=\"language-APL\">┌→───────────┐\n",
       "↓   ┌→┐      │\n",
       "│ B │3│      │\n",
       "│ - └~┘      │\n",
       "│   ┌→─────┐ │\n",
       "│ a │1 1 22│ │\n",
       "│ - └~─────┘ │\n",
       "│   ┌→──┐    │\n",
       "│ n │4 5│    │\n",
       "│ - └~──┘    │\n",
       "└∊───────────┘\n",
       "</pre>"
      ]
     },
     "execution_count": 89,
     "metadata": {},
     "output_type": "execute_result"
    }
   ],
   "source": [
    "'Banana' {⍺ ⍵}⌸ 3 1 4 1 5 22"
   ]
  },
  {
   "cell_type": "markdown",
   "id": "ae390986-e889-4ee0-817d-3736633522a2",
   "metadata": {},
   "source": [
    "## **`[]` - Axis**"
   ]
  },
  {
   "cell_type": "markdown",
   "id": "e5ea64bc-e96d-45fa-b140-eef982b1009b",
   "metadata": {
    "jp-MarkdownHeadingCollapsed": true
   },
   "source": [
    "### **`[]` with Dyadic Operand**"
   ]
  },
  {
   "cell_type": "code",
   "execution_count": 90,
   "id": "66fe6e45-668e-4280-ad50-587890a351cc",
   "metadata": {},
   "outputs": [
    {
     "data": {
      "text/html": [
       "<pre class=\"language-APL\">┌→──┐\n",
       "↓1 0│\n",
       "│0 1│\n",
       "│1 0│\n",
       "└~──┘\n",
       "</pre>"
      ]
     },
     "execution_count": 90,
     "metadata": {},
     "output_type": "execute_result"
    }
   ],
   "source": [
    "1 4 5 =[1] 3 2⍴⍳6"
   ]
  },
  {
   "cell_type": "code",
   "execution_count": 91,
   "id": "d2986078-7c25-4d5b-893e-428b4bf26152",
   "metadata": {},
   "outputs": [
    {
     "data": {
      "text/html": [
       "<pre class=\"language-APL\">┌→────┐\n",
       "↓AA  C│\n",
       "│DD  F│\n",
       "└─────┘\n",
       "</pre>"
      ]
     },
     "execution_count": 91,
     "metadata": {},
     "output_type": "execute_result"
    }
   ],
   "source": [
    "2 ¯2 1 /[2]2 3⍴'ABCDEF'"
   ]
  },
  {
   "cell_type": "code",
   "execution_count": 92,
   "id": "48ee129f-1496-4ac9-bf1b-33d99826e788",
   "metadata": {},
   "outputs": [
    {
     "data": {
      "text/html": [
       "<pre class=\"language-APL\">┌→──┐\n",
       "↓ABC│\n",
       "│===│\n",
       "└───┘\n",
       "</pre>"
      ]
     },
     "execution_count": 92,
     "metadata": {},
     "output_type": "execute_result"
    }
   ],
   "source": [
    "'ABC' ,[0.5]'='"
   ]
  },
  {
   "cell_type": "markdown",
   "id": "e5953148-9bd8-4806-8fd1-11157e9287bc",
   "metadata": {
    "jp-MarkdownHeadingCollapsed": true
   },
   "source": [
    "### **`[]` with Monadic Operand**"
   ]
  },
  {
   "cell_type": "markdown",
   "id": "807de8e0-c212-415c-9802-fc837e190ece",
   "metadata": {},
   "source": [
    "Doesn't follow the normal syntax of an operator."
   ]
  },
  {
   "cell_type": "code",
   "execution_count": 93,
   "id": "630ce51a-d70c-489c-af20-a36f06514115",
   "metadata": {},
   "outputs": [
    {
     "data": {
      "text/html": [
       "<pre class=\"language-APL\">┌→────┐\n",
       "↓4 5 6│\n",
       "│1 2 3│\n",
       "└~────┘\n",
       "</pre>"
      ]
     },
     "execution_count": 93,
     "metadata": {},
     "output_type": "execute_result"
    }
   ],
   "source": [
    "⌽[1]2 3⍴⍳6 ⍝ ⌽ --> reversed"
   ]
  },
  {
   "cell_type": "code",
   "execution_count": 94,
   "id": "5c543f89-24d0-41ce-8729-e955d53cbd62",
   "metadata": {},
   "outputs": [
    {
     "data": {
      "text/html": [
       "<pre class=\"language-APL\">┌→─┐\n",
       "↓OT│\n",
       "│NW│\n",
       "│EO│\n",
       "└──┘\n",
       "</pre>"
      ]
     },
     "execution_count": 94,
     "metadata": {},
     "output_type": "execute_result"
    }
   ],
   "source": [
    "↑[0.5] 'ONE' 'TWO' ⍝ ↑ --> mix"
   ]
  },
  {
   "cell_type": "markdown",
   "id": "27c11770-5d4a-43d7-9a63-311f9359c0c4",
   "metadata": {
    "jp-MarkdownHeadingCollapsed": true
   },
   "source": [
    "## **Custom Operators**"
   ]
  },
  {
   "cell_type": "markdown",
   "id": "0e163abd-46be-43ac-8176-b1c622ee4330",
   "metadata": {},
   "source": [
    "We will attempt to create a custom operator which calculates the derivative of a function at a certain point."
   ]
  },
  {
   "cell_type": "code",
   "execution_count": 95,
   "id": "fbd4a010-b621-442d-90a4-04f52c0a79e9",
   "metadata": {},
   "outputs": [],
   "source": [
    "f ← *∘2"
   ]
  },
  {
   "cell_type": "code",
   "execution_count": 96,
   "id": "7021b6e8-852e-4a78-9b04-cf592f14ae7b",
   "metadata": {},
   "outputs": [],
   "source": [
    "d ← 0.0001"
   ]
  },
  {
   "cell_type": "code",
   "execution_count": 97,
   "id": "2d1e4452-7c49-4338-a071-c729be79fc66",
   "metadata": {},
   "outputs": [],
   "source": [
    "x ← 3"
   ]
  },
  {
   "cell_type": "code",
   "execution_count": 98,
   "id": "ce14b835-44a9-4116-8329-5bebc3e8a7a6",
   "metadata": {},
   "outputs": [
    {
     "data": {
      "text/html": [
       "<pre class=\"language-APL\">      \n",
       "6.0001\n",
       "      \n",
       "</pre>"
      ]
     },
     "execution_count": 98,
     "metadata": {},
     "output_type": "execute_result"
    }
   ],
   "source": [
    "((f (x+d)) - f x) ÷ d"
   ]
  },
  {
   "cell_type": "code",
   "execution_count": 99,
   "id": "5141ffd8-681b-42b9-b974-80d4c502eced",
   "metadata": {},
   "outputs": [],
   "source": [
    "⍝ Working towards a custom operator for gradient by copying over the contents of the last cell.\n",
    "grad ← {((f (⍺+⍵)) - f ⍺) ÷ ⍵}"
   ]
  },
  {
   "cell_type": "code",
   "execution_count": 100,
   "id": "df39a34f-7180-40be-9a61-0f840395fa89",
   "metadata": {},
   "outputs": [
    {
     "data": {
      "text/html": [
       "<pre class=\"language-APL\">     ∇ grad←{((f(⍺+⍵))-f ⍺)÷⍵}\n",
       "     ∇\n",
       "</pre>"
      ]
     },
     "execution_count": 100,
     "metadata": {},
     "output_type": "execute_result"
    }
   ],
   "source": [
    "grad"
   ]
  },
  {
   "cell_type": "code",
   "execution_count": 101,
   "id": "76f77fd2-b1ee-44fe-a295-017743a850e0",
   "metadata": {},
   "outputs": [
    {
     "data": {
      "text/html": [
       "<pre class=\"language-APL\">      \n",
       "6.0001\n",
       "      \n",
       "</pre>"
      ]
     },
     "execution_count": 101,
     "metadata": {},
     "output_type": "execute_result"
    }
   ],
   "source": [
    "3 grad 0.0001"
   ]
  },
  {
   "cell_type": "code",
   "execution_count": 102,
   "id": "4bc89369-a4c0-45fc-8ad5-0b8bf46ced74",
   "metadata": {},
   "outputs": [],
   "source": [
    "⍝ Replacing f within the parenthesis\n",
    "⍝ ⍺⍺ is a monadic operator since it doesn't have ⍵⍵. Since it is a monadic operator, it'll take expressions on the left.\n",
    "⍝ ⍺⍺ creates a dyadic function since it has both an ⍺ and ⍵\n",
    "grad ← {((⍺⍺ ⍺+⍵) - ⍺⍺ ⍺) ÷ ⍵}"
   ]
  },
  {
   "cell_type": "code",
   "execution_count": 103,
   "id": "e4e2b52e-7615-4b1c-b914-be427d2a222d",
   "metadata": {},
   "outputs": [
    {
     "data": {
      "text/html": [
       "<pre class=\"language-APL\">      \n",
       "6.0001\n",
       "      \n",
       "</pre>"
      ]
     },
     "execution_count": 103,
     "metadata": {},
     "output_type": "execute_result"
    }
   ],
   "source": [
    "3 f grad 0.0001 ⍝ We won't be needing the parentheses anymore"
   ]
  },
  {
   "cell_type": "markdown",
   "id": "ea414e43-11e6-42a0-b01d-1cd1cc11b32e",
   "metadata": {},
   "source": [
    "We now have numeric approximation of a derviative."
   ]
  },
  {
   "cell_type": "markdown",
   "id": "999ac3e4-b233-4c5c-ae5a-b6b6ee4f06a4",
   "metadata": {},
   "source": [
    "## **`⍨` Tilde Diaeresis**"
   ]
  },
  {
   "cell_type": "markdown",
   "id": "618f6b2f-8bb2-4db1-b44b-b6e2d7b16fbc",
   "metadata": {
    "jp-MarkdownHeadingCollapsed": true
   },
   "source": [
    "### **Dyadic `⍨` - (Commute and Constant)**"
   ]
  },
  {
   "cell_type": "markdown",
   "id": "8262bf6d-5c29-4101-896f-f2f8e5553eef",
   "metadata": {},
   "source": [
    "`{R} ← {X}f⍨Y`\n",
    "\n",
    "Commute basically switches the order of arguments."
   ]
  },
  {
   "cell_type": "code",
   "execution_count": 104,
   "id": "1d3c8b37-739b-4e50-9274-8b8169b01d58",
   "metadata": {},
   "outputs": [
    {
     "data": {
      "text/html": [
       "<pre class=\"language-APL\"> \n",
       "1\n",
       " \n",
       "</pre>"
      ]
     },
     "execution_count": 104,
     "metadata": {},
     "output_type": "execute_result"
    }
   ],
   "source": [
    "3-2 ⍝ Standard argument"
   ]
  },
  {
   "cell_type": "code",
   "execution_count": 105,
   "id": "016f131b-de04-46f6-9f6c-5a9c80901ef9",
   "metadata": {},
   "outputs": [
    {
     "data": {
      "text/html": [
       "<pre class=\"language-APL\"> \n",
       "1\n",
       " \n",
       "</pre>"
      ]
     },
     "execution_count": 105,
     "metadata": {},
     "output_type": "execute_result"
    }
   ],
   "source": [
    "2-⍨3 ⍝ Switched order using tilde diaeresis"
   ]
  },
  {
   "cell_type": "code",
   "execution_count": 106,
   "id": "c413b356-cc4e-4a1a-8295-4b88eecc1f5d",
   "metadata": {},
   "outputs": [],
   "source": [
    "grad ← {⍵ ÷⍨ (⍺⍺ ⍺+⍵) - ⍺⍺ ⍺} ⍝ example from before but with reveresed order of ops"
   ]
  },
  {
   "cell_type": "code",
   "execution_count": 107,
   "id": "ffa0b6b4-1636-4d30-8b42-ccfb06556047",
   "metadata": {},
   "outputs": [
    {
     "data": {
      "text/html": [
       "<pre class=\"language-APL\">      \n",
       "6.0001\n",
       "      \n",
       "</pre>"
      ]
     },
     "execution_count": 107,
     "metadata": {},
     "output_type": "execute_result"
    }
   ],
   "source": [
    "3 f grad 0.0001"
   ]
  },
  {
   "cell_type": "markdown",
   "id": "e9220644-9770-4f39-9cf8-ec39fe22b6a9",
   "metadata": {},
   "source": [
    "From the documentation, if the left argument X is ommited, the right argument Y is duplicated in its place i.e. `f⍨Y ←→ Y f⍨Y`"
   ]
  },
  {
   "cell_type": "code",
   "execution_count": 108,
   "id": "f5ee2dce-963f-4a95-bd9f-a3a3031a94d5",
   "metadata": {},
   "outputs": [
    {
     "data": {
      "text/html": [
       "<pre class=\"language-APL\"> \n",
       "9\n",
       " \n",
       "</pre>"
      ]
     },
     "execution_count": 108,
     "metadata": {},
     "output_type": "execute_result"
    }
   ],
   "source": [
    "pow ← ×⍨ ⍝ for power of \n",
    "pow 3"
   ]
  },
  {
   "cell_type": "markdown",
   "id": "92bec008-5ab2-4b11-b324-95c91a1df0e7",
   "metadata": {},
   "source": [
    "...while Constant always returns the operand."
   ]
  },
  {
   "cell_type": "code",
   "execution_count": 109,
   "id": "1a1f47c6-678b-4336-9556-dc2dd76c6c04",
   "metadata": {},
   "outputs": [
    {
     "data": {
      "text/html": [
       "<pre class=\"language-APL\"> \n",
       "0\n",
       " \n",
       "</pre>"
      ]
     },
     "execution_count": 109,
     "metadata": {},
     "output_type": "execute_result"
    }
   ],
   "source": [
    "zero ← 0⍨\n",
    "2 zero 5"
   ]
  },
  {
   "cell_type": "code",
   "execution_count": null,
   "id": "b54ef679-2469-4f71-9bee-92b336157ea0",
   "metadata": {},
   "outputs": [],
   "source": []
  }
 ],
 "metadata": {
  "kernelspec": {
   "display_name": "Dyalog APL",
   "language": "apl",
   "name": "dyalog_apl"
  },
  "language_info": {
   "file_extension": ".apl",
   "mimetype": "text/apl",
   "name": "APL"
  }
 },
 "nbformat": 4,
 "nbformat_minor": 5
}
