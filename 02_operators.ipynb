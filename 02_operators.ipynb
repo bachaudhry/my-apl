{
 "cells": [
  {
   "cell_type": "markdown",
   "id": "c782a0ef-34a5-4e53-80cc-af29add52afc",
   "metadata": {},
   "source": [
    "# **Operators**"
   ]
  },
  {
   "cell_type": "code",
   "execution_count": 2,
   "id": "42ea35fb-88c4-4213-8619-849837ad488a",
   "metadata": {},
   "outputs": [
    {
     "data": {
      "text/html": [
       "<pre class=\"language-APL\">┌→─────────────────────────────────────┐\n",
       "│Was ON -style=max -trains=tree -fns=on│\n",
       "└──────────────────────────────────────┘\n",
       "</pre>"
      ]
     },
     "execution_count": 2,
     "metadata": {},
     "output_type": "execute_result"
    }
   ],
   "source": [
    "]box on -style=max -trains=tree -fns=on"
   ]
  },
  {
   "cell_type": "markdown",
   "id": "26e7992b-5184-4b6b-9c3b-58384c7eb82d",
   "metadata": {},
   "source": [
    ">An operator is an operation on one or two operands which produces a function called a DERIVED FUNCTION. An operand may be a function or an array.  Operators are not ambivalent.  They require either one or two operands as applicable to the particular operator.  However, the derived function may be ambivalent.  The derived function need not return a result. \n",
    "\n",
    "Operators, as a basic rule, bind more tightly than functions. Functions on the right hand side of the slash operator will be carried out first in order of operations."
   ]
  },
  {
   "cell_type": "markdown",
   "id": "c1700fd4-fc49-40d7-8b82-48e5c0e1d909",
   "metadata": {},
   "source": [
    "#### **Refer to [Function Compositions](https://aplwiki.com/wiki/Function_composition) as order of operations can become a little confusing in APL.**"
   ]
  },
  {
   "cell_type": "markdown",
   "id": "35f5eb70-e433-4383-9883-0e441683bf16",
   "metadata": {},
   "source": [
    "## **Brackets**"
   ]
  },
  {
   "cell_type": "markdown",
   "id": "7b4c730a-b606-4a12-80e7-55bda43c7979",
   "metadata": {},
   "source": [
    "**`Round brackets or parentheses ():`** These are used to control the order of execution in APL expressions. They also indicate Namelists in function/operator headers, and introduce a **System Command**.\n",
    "\n",
    "**`Square brackets  []:`** Square brackets have three distinct meanings in Dyalog APL: to select sub-arrays from an n-dimensional array, to indicate an axis along which a function (operand) is to apply, and to introduce a **User Command**.\n",
    "\n",
    "**`Curly brackets { }:`** These are used to indicate shy results and optional left arguments in defined functions. They also enclose the definition of a **Dfn** and a **Dop**."
   ]
  },
  {
   "cell_type": "markdown",
   "id": "2871a1fd-3671-4816-bcfc-8cca2893353e",
   "metadata": {
    "jp-MarkdownHeadingCollapsed": true
   },
   "source": [
    "## **`/` Slash**"
   ]
  },
  {
   "cell_type": "markdown",
   "id": "a16f47de-d99a-4810-8465-efe77dbf9c50",
   "metadata": {
    "jp-MarkdownHeadingCollapsed": true
   },
   "source": [
    "### **Monadic `/` - (Reduce - N-Wise Reduce)**"
   ]
  },
  {
   "cell_type": "markdown",
   "id": "975bea13-48be-401b-9a04-b9c9658274fc",
   "metadata": {},
   "source": [
    "**`R ← f/[K]Y`**\n",
    "\n"
   ]
  },
  {
   "cell_type": "code",
   "execution_count": 3,
   "id": "9eac9cb3-306d-46e6-a40a-6407ade5cc2d",
   "metadata": {},
   "outputs": [
    {
     "data": {
      "text/html": [
       "<pre class=\"language-APL\">  \n",
       "15\n",
       "  \n",
       "</pre>"
      ]
     },
     "execution_count": 3,
     "metadata": {},
     "output_type": "execute_result"
    }
   ],
   "source": [
    "+/ 1 2 3 4 5"
   ]
  },
  {
   "cell_type": "code",
   "execution_count": 4,
   "id": "7e129c4b-e4e6-44a1-8624-db62036bb610",
   "metadata": {},
   "outputs": [
    {
     "data": {
      "text/html": [
       "<pre class=\"language-APL\">┌→────────┐\n",
       "│1 2 3 4 5│\n",
       "└~────────┘\n",
       "</pre>"
      ]
     },
     "execution_count": 4,
     "metadata": {},
     "output_type": "execute_result"
    }
   ],
   "source": [
    "⎕ ← a ← ⍳5"
   ]
  },
  {
   "cell_type": "code",
   "execution_count": 5,
   "id": "102e062c-b16a-43c5-aae7-5a95c651fb47",
   "metadata": {},
   "outputs": [
    {
     "data": {
      "text/html": [
       "<pre class=\"language-APL\">  \n",
       "15\n",
       "  \n",
       "</pre>"
      ]
     },
     "execution_count": 5,
     "metadata": {},
     "output_type": "execute_result"
    }
   ],
   "source": [
    "+/a"
   ]
  },
  {
   "cell_type": "code",
   "execution_count": 6,
   "id": "2f8dc245-5033-4ff1-88c6-6184d598a5c2",
   "metadata": {},
   "outputs": [
    {
     "data": {
      "text/html": [
       "<pre class=\"language-APL\">     \n",
       "1.875\n",
       "     \n",
       "</pre>"
      ]
     },
     "execution_count": 6,
     "metadata": {},
     "output_type": "execute_result"
    }
   ],
   "source": [
    "÷/ a"
   ]
  },
  {
   "cell_type": "code",
   "execution_count": 7,
   "id": "28bfba1e-9b1b-4c08-b409-5278dbb7cd32",
   "metadata": {},
   "outputs": [
    {
     "data": {
      "text/html": [
       "<pre class=\"language-APL\">   \n",
       "120\n",
       "   \n",
       "</pre>"
      ]
     },
     "execution_count": 7,
     "metadata": {},
     "output_type": "execute_result"
    }
   ],
   "source": [
    "×/ a"
   ]
  },
  {
   "cell_type": "code",
   "execution_count": 8,
   "id": "af4dca1c-1c02-4a92-9d63-a8e285ff5231",
   "metadata": {},
   "outputs": [
    {
     "data": {
      "text/html": [
       "<pre class=\"language-APL\">┌→──────┐\n",
       "│3 5 7 9│\n",
       "└~──────┘\n",
       "</pre>"
      ]
     },
     "execution_count": 8,
     "metadata": {},
     "output_type": "execute_result"
    }
   ],
   "source": [
    "2 +/ a "
   ]
  },
  {
   "cell_type": "code",
   "execution_count": 9,
   "id": "04a95e32-7478-43d0-ae0b-c313004e74f7",
   "metadata": {},
   "outputs": [
    {
     "data": {
      "text/html": [
       "<pre class=\"language-APL\">┌→──────────┐\n",
       "│1 2 3 4 5 6│\n",
       "└~──────────┘\n",
       "</pre>"
      ]
     },
     "execution_count": 9,
     "metadata": {},
     "output_type": "execute_result"
    }
   ],
   "source": [
    "⍳6"
   ]
  },
  {
   "cell_type": "code",
   "execution_count": 10,
   "id": "f01d9ca3-381f-4638-947c-f78cb4a6072e",
   "metadata": {},
   "outputs": [
    {
     "data": {
      "text/html": [
       "<pre class=\"language-APL\">┌→────────┐\n",
       "│6 9 12 15│\n",
       "└~────────┘\n",
       "</pre>"
      ]
     },
     "execution_count": 10,
     "metadata": {},
     "output_type": "execute_result"
    }
   ],
   "source": [
    "3 +/ ⍳6"
   ]
  },
  {
   "cell_type": "markdown",
   "id": "4cd96529-590d-4af8-b682-26583eb5dd1d",
   "metadata": {
    "jp-MarkdownHeadingCollapsed": true
   },
   "source": [
    "## **`\\` Back Slash**"
   ]
  },
  {
   "cell_type": "markdown",
   "id": "60d791b5-a5e6-42c0-9bf9-c7a67ff1ce09",
   "metadata": {},
   "source": [
    "### **Monadic `\\` - (Scan)**"
   ]
  },
  {
   "cell_type": "markdown",
   "id": "e6540096-760e-43db-9244-eb40e3fc3913",
   "metadata": {},
   "source": [
    "**`R ← f\\[K]Y`**"
   ]
  },
  {
   "cell_type": "code",
   "execution_count": 11,
   "id": "0db7077d-c3d7-4fed-8fea-797aa0182bb6",
   "metadata": {},
   "outputs": [
    {
     "data": {
      "text/html": [
       "<pre class=\"language-APL\">┌→──────────┐\n",
       "│1 3 6 10 15│\n",
       "└~──────────┘\n",
       "</pre>"
      ]
     },
     "execution_count": 11,
     "metadata": {},
     "output_type": "execute_result"
    }
   ],
   "source": [
    "+\\ 1 2 3 4 5"
   ]
  },
  {
   "cell_type": "code",
   "execution_count": 12,
   "id": "d42fa113-3df2-450f-abb9-ca1d54f8db69",
   "metadata": {},
   "outputs": [
    {
     "data": {
      "text/html": [
       "<pre class=\"language-APL\">┌→────────┐\n",
       "│1 2 3 4 5│\n",
       "└~────────┘\n",
       "</pre>"
      ]
     },
     "execution_count": 12,
     "metadata": {},
     "output_type": "execute_result"
    }
   ],
   "source": [
    "⎕ ← a ← ⍳5"
   ]
  },
  {
   "cell_type": "code",
   "execution_count": 13,
   "id": "e5c18051-8e37-4190-b807-b3a5eb7d19e8",
   "metadata": {},
   "outputs": [
    {
     "data": {
      "text/html": [
       "<pre class=\"language-APL\">┌→──────────┐\n",
       "│1 3 6 10 15│\n",
       "└~──────────┘\n",
       "</pre>"
      ]
     },
     "execution_count": 13,
     "metadata": {},
     "output_type": "execute_result"
    }
   ],
   "source": [
    "+\\a"
   ]
  },
  {
   "cell_type": "code",
   "execution_count": 14,
   "id": "d6b85ed9-e5a5-4a4c-a83c-4c785e49b9e4",
   "metadata": {},
   "outputs": [
    {
     "data": {
      "text/html": [
       "<pre class=\"language-APL\">┌→────────────────────┐\n",
       "│1 0.5 1.5 0.375 1.875│\n",
       "└~────────────────────┘\n",
       "</pre>"
      ]
     },
     "execution_count": 14,
     "metadata": {},
     "output_type": "execute_result"
    }
   ],
   "source": [
    "÷\\ a"
   ]
  },
  {
   "cell_type": "code",
   "execution_count": 15,
   "id": "efcd39d8-1879-497e-aa55-675363db6950",
   "metadata": {},
   "outputs": [
    {
     "data": {
      "text/html": [
       "<pre class=\"language-APL\">┌→───────────┐\n",
       "│1 2 6 24 120│\n",
       "└~───────────┘\n",
       "</pre>"
      ]
     },
     "execution_count": 15,
     "metadata": {},
     "output_type": "execute_result"
    }
   ],
   "source": [
    "×\\ a"
   ]
  },
  {
   "cell_type": "markdown",
   "id": "e633cd83-e60c-428d-83fb-800d5544a9cf",
   "metadata": {},
   "source": [
    "## **`∘` - Jot**"
   ]
  },
  {
   "cell_type": "markdown",
   "id": "6b6802cc-2b58-487f-8f08-f493a01db68b",
   "metadata": {},
   "source": [
    "### **Dyadic `∘` (Bind)**"
   ]
  },
  {
   "cell_type": "markdown",
   "id": "4ea8df45-cdfb-4c7e-9d0a-1c96cf46ae23",
   "metadata": {},
   "source": [
    "`{R}←A∘fY`\n",
    "`{R}←(f∘B)Y`\n",
    "\n",
    "This binds an array A or B to a dyadic function f either as its left or right argument. These can also be described as left and right argument currying. Operations are determined by the order of binding arrays A, B or Y with regard to the function.\n",
    "\n",
    "_Roughly equivalent to the `partial function` in Python._"
   ]
  },
  {
   "cell_type": "code",
   "execution_count": 16,
   "id": "f0dd31e3-9fc2-4fc8-b705-1279519b32a2",
   "metadata": {},
   "outputs": [],
   "source": [
    "sqr ← *∘2 ⍝ creating a squaring function with right hand binding"
   ]
  },
  {
   "cell_type": "code",
   "execution_count": 17,
   "id": "a30fdd66-062e-4b54-80fe-0713f2cc2aa6",
   "metadata": {},
   "outputs": [
    {
     "data": {
      "text/html": [
       "<pre class=\"language-APL\"> ∘\n",
       "┌┴┐\n",
       "* 2\n",
       "</pre>"
      ]
     },
     "execution_count": 17,
     "metadata": {},
     "output_type": "execute_result"
    }
   ],
   "source": [
    "sqr "
   ]
  },
  {
   "cell_type": "code",
   "execution_count": 18,
   "id": "f002fb9d-1381-4948-b116-50e5ebb8a1ca",
   "metadata": {},
   "outputs": [
    {
     "data": {
      "text/html": [
       "<pre class=\"language-APL\"> \n",
       "9\n",
       " \n",
       "</pre>"
      ]
     },
     "execution_count": 18,
     "metadata": {},
     "output_type": "execute_result"
    }
   ],
   "source": [
    "sqr 3"
   ]
  },
  {
   "cell_type": "code",
   "execution_count": 19,
   "id": "fa398d8f-406f-40ea-a90d-281269f723d6",
   "metadata": {},
   "outputs": [
    {
     "data": {
      "text/html": [
       "<pre class=\"language-APL\"> ∘\n",
       "┌┴┐\n",
       "2 *\n",
       "</pre>"
      ]
     },
     "execution_count": 19,
     "metadata": {},
     "output_type": "execute_result"
    }
   ],
   "source": [
    "⍝ This function carries out a 2 to the power of x and \n",
    "⍝ is an example of left hand binding to a function\n",
    "⎕ ← pow ← 2∘*"
   ]
  },
  {
   "cell_type": "code",
   "execution_count": 20,
   "id": "9c589cc9-dbeb-45aa-a02c-0fdd3d7ac401",
   "metadata": {},
   "outputs": [
    {
     "data": {
      "text/html": [
       "<pre class=\"language-APL\">  \n",
       "16\n",
       "  \n",
       "</pre>"
      ]
     },
     "execution_count": 20,
     "metadata": {},
     "output_type": "execute_result"
    }
   ],
   "source": [
    "pow 4"
   ]
  },
  {
   "cell_type": "markdown",
   "id": "7bad59bb-379d-4d04-80f6-a3118582e99c",
   "metadata": {},
   "source": [
    "### **Dyadic `∘` (Beside)**"
   ]
  },
  {
   "cell_type": "code",
   "execution_count": 21,
   "id": "ccaf0aec-60db-40e1-a54e-9e5fd5b8b228",
   "metadata": {},
   "outputs": [],
   "source": [
    "f ← *∘÷ ⍝ calculating reciprocal and then e pow(x)"
   ]
  },
  {
   "cell_type": "code",
   "execution_count": 22,
   "id": "ecc8fb3a-576a-44d7-b098-9fe4a92c5a74",
   "metadata": {},
   "outputs": [
    {
     "data": {
      "text/html": [
       "<pre class=\"language-APL\"> ∘\n",
       "┌┴┐\n",
       "* ÷\n",
       "</pre>"
      ]
     },
     "execution_count": 22,
     "metadata": {},
     "output_type": "execute_result"
    }
   ],
   "source": [
    "f "
   ]
  },
  {
   "cell_type": "code",
   "execution_count": 23,
   "id": "fa55b55c-a489-4d12-ba24-f05156c05c58",
   "metadata": {},
   "outputs": [
    {
     "data": {
      "text/html": [
       "<pre class=\"language-APL\">            \n",
       "0.3333333333\n",
       "            \n",
       "</pre>"
      ]
     },
     "execution_count": 23,
     "metadata": {},
     "output_type": "execute_result"
    }
   ],
   "source": [
    "÷3"
   ]
  },
  {
   "cell_type": "code",
   "execution_count": 24,
   "id": "e5ce4e5d-701c-444b-a257-23482aeadb59",
   "metadata": {},
   "outputs": [
    {
     "data": {
      "text/html": [
       "<pre class=\"language-APL\">           \n",
       "1.395612425\n",
       "           \n",
       "</pre>"
      ]
     },
     "execution_count": 24,
     "metadata": {},
     "output_type": "execute_result"
    }
   ],
   "source": [
    "*÷3 ⍝ e pow (x) of the reciprocal"
   ]
  },
  {
   "cell_type": "code",
   "execution_count": 25,
   "id": "3d7bab46-e5d7-4c78-bdd8-41dc4a4df3a0",
   "metadata": {},
   "outputs": [
    {
     "data": {
      "text/html": [
       "<pre class=\"language-APL\">          \n",
       "1.25992105\n",
       "          \n",
       "</pre>"
      ]
     },
     "execution_count": 25,
     "metadata": {},
     "output_type": "execute_result"
    }
   ],
   "source": [
    " 2 f 3 ⍝ This becomes the cube root of 2"
   ]
  },
  {
   "cell_type": "code",
   "execution_count": 26,
   "id": "a27fdd25-6d73-4234-b1e4-7e57085a7d40",
   "metadata": {},
   "outputs": [
    {
     "data": {
      "text/html": [
       "<pre class=\"language-APL\">          \n",
       "1.25992105\n",
       "          \n",
       "</pre>"
      ]
     },
     "execution_count": 26,
     "metadata": {},
     "output_type": "execute_result"
    }
   ],
   "source": [
    "2 *(÷3)"
   ]
  },
  {
   "cell_type": "markdown",
   "id": "fa042ce3-fab8-4eef-8b97-effecca950a5",
   "metadata": {
    "jp-MarkdownHeadingCollapsed": true
   },
   "source": [
    "## **`⍣` Star Diaeresis**"
   ]
  },
  {
   "cell_type": "markdown",
   "id": "cd5bad65-3f6b-4822-9eb5-64504cb9df11",
   "metadata": {},
   "source": [
    "### **Dyadic `⍣` (Power Operator)**"
   ]
  },
  {
   "cell_type": "markdown",
   "id": "9b88ba60-7480-43de-b184-1ed3b327ba52",
   "metadata": {},
   "source": [
    "`{R}←{X}(f⍣g)Y`\n",
    "\n",
    "Not to be confused with `*` which is a function. The power operator defines how many times a function must be run."
   ]
  },
  {
   "cell_type": "code",
   "execution_count": 27,
   "id": "3d4d08d0-8e35-4db9-9673-e9a2fe629d36",
   "metadata": {},
   "outputs": [],
   "source": [
    "S ← +∘1 ⍝ binding a function to add one to a value"
   ]
  },
  {
   "cell_type": "code",
   "execution_count": 28,
   "id": "85c81700-615a-4afc-85d8-dd1c24fa41a5",
   "metadata": {},
   "outputs": [
    {
     "data": {
      "text/html": [
       "<pre class=\"language-APL\">┌→──────┐\n",
       "│1 2 3 4│\n",
       "└~──────┘\n",
       "</pre>"
      ]
     },
     "execution_count": 28,
     "metadata": {},
     "output_type": "execute_result"
    }
   ],
   "source": [
    "S 0 1 2 3"
   ]
  },
  {
   "cell_type": "code",
   "execution_count": 29,
   "id": "2b9a88ba-6925-4044-b365-ca4adeeab587",
   "metadata": {},
   "outputs": [
    {
     "data": {
      "text/html": [
       "<pre class=\"language-APL\">┌→──────┐\n",
       "│3 4 5 6│\n",
       "└~──────┘\n",
       "</pre>"
      ]
     },
     "execution_count": 29,
     "metadata": {},
     "output_type": "execute_result"
    }
   ],
   "source": [
    "⍝ Now using the power operator to specify the number of times a function call\n",
    "⍝ needs to be repeated.\n",
    "(S⍣3) 0 1 2 3"
   ]
  },
  {
   "cell_type": "code",
   "execution_count": 30,
   "id": "c8b72d9b-e8ec-4049-87ea-376501f2fcee",
   "metadata": {},
   "outputs": [],
   "source": [
    "add ← {(S⍣⍺) ⍵}"
   ]
  },
  {
   "cell_type": "code",
   "execution_count": 31,
   "id": "a408ef83-f7f1-429d-adcf-b71b6ab9b078",
   "metadata": {},
   "outputs": [
    {
     "data": {
      "text/html": [
       "<pre class=\"language-APL\"> \n",
       "6\n",
       " \n",
       "</pre>"
      ]
     },
     "execution_count": 31,
     "metadata": {},
     "output_type": "execute_result"
    }
   ],
   "source": [
    "3 add 3 ⍝ S repeats 3 times then adds 3"
   ]
  },
  {
   "cell_type": "code",
   "execution_count": 32,
   "id": "fe74117e-af6a-422a-8b99-698dde815afa",
   "metadata": {},
   "outputs": [],
   "source": [
    "mult ← {⍺ (add⍣⍵) 0} ⍝ Adding the parenthesis to 0 "
   ]
  },
  {
   "cell_type": "code",
   "execution_count": 33,
   "id": "0363bd03-9565-4298-a72c-c4912a8149cc",
   "metadata": {},
   "outputs": [
    {
     "data": {
      "text/html": [
       "<pre class=\"language-APL\">  \n",
       "18\n",
       "  \n",
       "</pre>"
      ]
     },
     "execution_count": 33,
     "metadata": {},
     "output_type": "execute_result"
    }
   ],
   "source": [
    "3 mult 6"
   ]
  },
  {
   "cell_type": "code",
   "execution_count": 34,
   "id": "44739387-712f-451a-90d5-3112ccf83e14",
   "metadata": {},
   "outputs": [],
   "source": [
    "⍝ Using the same logic, we can compute numbers with higher complexity\n",
    "⍝ such as Phi - the golden ratio\n",
    "f ← +∘÷"
   ]
  },
  {
   "cell_type": "code",
   "execution_count": 35,
   "id": "90fce0e7-5f95-41de-b00c-c48689b38bfd",
   "metadata": {},
   "outputs": [
    {
     "data": {
      "text/html": [
       "<pre class=\"language-APL\"> \n",
       "2\n",
       " \n",
       "</pre>"
      ]
     },
     "execution_count": 35,
     "metadata": {},
     "output_type": "execute_result"
    }
   ],
   "source": [
    "1 f 1"
   ]
  },
  {
   "cell_type": "code",
   "execution_count": 36,
   "id": "a9c106a5-ae9d-4b6f-8cf2-cf072a657803",
   "metadata": {},
   "outputs": [
    {
     "data": {
      "text/html": [
       "<pre class=\"language-APL\">┌→─────────────────────┐\n",
       "│2 1.5 1.333333333 1.25│\n",
       "└~─────────────────────┘\n",
       "</pre>"
      ]
     },
     "execution_count": 36,
     "metadata": {},
     "output_type": "execute_result"
    }
   ],
   "source": [
    "1 f 1 2 3 4"
   ]
  },
  {
   "cell_type": "code",
   "execution_count": 37,
   "id": "7e73e491-a47b-42bf-877d-d3647e1727a6",
   "metadata": {},
   "outputs": [
    {
     "data": {
      "text/html": [
       "<pre class=\"language-APL\">           \n",
       "1.618034448\n",
       "           \n",
       "</pre>"
      ]
     },
     "execution_count": 37,
     "metadata": {},
     "output_type": "execute_result"
    }
   ],
   "source": [
    "1 (f⍣15) 1 "
   ]
  },
  {
   "cell_type": "code",
   "execution_count": 38,
   "id": "dda9eb0d-d742-4f6d-84f7-568e6aafb175",
   "metadata": {},
   "outputs": [
    {
     "data": {
      "text/html": [
       "<pre class=\"language-APL\">  \n",
       "13\n",
       "  \n",
       "</pre>"
      ]
     },
     "execution_count": 38,
     "metadata": {},
     "output_type": "execute_result"
    }
   ],
   "source": [
    "+/ 4 4 5"
   ]
  },
  {
   "cell_type": "markdown",
   "id": "27c11770-5d4a-43d7-9a63-311f9359c0c4",
   "metadata": {},
   "source": [
    "# **Custom Operators**"
   ]
  },
  {
   "cell_type": "markdown",
   "id": "0e163abd-46be-43ac-8176-b1c622ee4330",
   "metadata": {},
   "source": [
    "We will attempt to create a custom operator which calculates the derivative of a function at a certain point."
   ]
  },
  {
   "cell_type": "code",
   "execution_count": 39,
   "id": "fbd4a010-b621-442d-90a4-04f52c0a79e9",
   "metadata": {},
   "outputs": [],
   "source": [
    "f ← *∘2"
   ]
  },
  {
   "cell_type": "code",
   "execution_count": 40,
   "id": "7021b6e8-852e-4a78-9b04-cf592f14ae7b",
   "metadata": {},
   "outputs": [],
   "source": [
    "d ← 0.0001"
   ]
  },
  {
   "cell_type": "code",
   "execution_count": 41,
   "id": "2d1e4452-7c49-4338-a071-c729be79fc66",
   "metadata": {},
   "outputs": [],
   "source": [
    "x ← 3"
   ]
  },
  {
   "cell_type": "code",
   "execution_count": 42,
   "id": "ce14b835-44a9-4116-8329-5bebc3e8a7a6",
   "metadata": {},
   "outputs": [
    {
     "data": {
      "text/html": [
       "<pre class=\"language-APL\">      \n",
       "6.0001\n",
       "      \n",
       "</pre>"
      ]
     },
     "execution_count": 42,
     "metadata": {},
     "output_type": "execute_result"
    }
   ],
   "source": [
    "((f (x+d)) - f x) ÷ d"
   ]
  },
  {
   "cell_type": "code",
   "execution_count": 43,
   "id": "5141ffd8-681b-42b9-b974-80d4c502eced",
   "metadata": {},
   "outputs": [],
   "source": [
    "⍝ Working towards a custom operator for gradient by copying over the contents of the last cell.\n",
    "grad ← {((f (⍺+⍵)) - f ⍺) ÷ ⍵}"
   ]
  },
  {
   "cell_type": "code",
   "execution_count": 44,
   "id": "df39a34f-7180-40be-9a61-0f840395fa89",
   "metadata": {},
   "outputs": [
    {
     "data": {
      "text/html": [
       "<pre class=\"language-APL\">     ∇ grad←{((f(⍺+⍵))-f ⍺)÷⍵}\n",
       "     ∇\n",
       "</pre>"
      ]
     },
     "execution_count": 44,
     "metadata": {},
     "output_type": "execute_result"
    }
   ],
   "source": [
    "grad"
   ]
  },
  {
   "cell_type": "code",
   "execution_count": 46,
   "id": "76f77fd2-b1ee-44fe-a295-017743a850e0",
   "metadata": {},
   "outputs": [
    {
     "data": {
      "text/html": [
       "<pre class=\"language-APL\">      \n",
       "6.0001\n",
       "      \n",
       "</pre>"
      ]
     },
     "execution_count": 46,
     "metadata": {},
     "output_type": "execute_result"
    }
   ],
   "source": [
    "3 grad 0.0001"
   ]
  },
  {
   "cell_type": "code",
   "execution_count": 58,
   "id": "4bc89369-a4c0-45fc-8ad5-0b8bf46ced74",
   "metadata": {},
   "outputs": [],
   "source": [
    "⍝ Replacing f within the parenthesis\n",
    "⍝ ⍺⍺ is a monadic operator since it doesn't have ⍵⍵. Since it is a monadic operator, it'll take expressions on the left.\n",
    "⍝ ⍺⍺ creates a dyadic function since it has both an ⍺ and ⍵\n",
    "grad ← {((⍺⍺ ⍺+⍵) - ⍺⍺ ⍺) ÷ ⍵}"
   ]
  },
  {
   "cell_type": "code",
   "execution_count": 59,
   "id": "e4e2b52e-7615-4b1c-b914-be427d2a222d",
   "metadata": {},
   "outputs": [
    {
     "data": {
      "text/html": [
       "<pre class=\"language-APL\">      \n",
       "6.0001\n",
       "      \n",
       "</pre>"
      ]
     },
     "execution_count": 59,
     "metadata": {},
     "output_type": "execute_result"
    }
   ],
   "source": [
    "3 f grad 0.0001 ⍝ We won't be needing the parentheses anymore"
   ]
  },
  {
   "cell_type": "markdown",
   "id": "ea414e43-11e6-42a0-b01d-1cd1cc11b32e",
   "metadata": {},
   "source": [
    "We now have numeric approximation of a derviative."
   ]
  },
  {
   "cell_type": "markdown",
   "id": "5f30266d-1a4d-40c0-9a29-8289c8677118",
   "metadata": {},
   "source": [
    "## **`⍨` Tilde Diaeresis**"
   ]
  },
  {
   "cell_type": "markdown",
   "id": "719a0ecc-35fc-47b1-b613-d9323f444b45",
   "metadata": {},
   "source": [
    "### **Dyadic `⍨` - (Commute and Constant)**"
   ]
  },
  {
   "cell_type": "markdown",
   "id": "a7387528-e296-43f5-a4c9-c7d06babc3ed",
   "metadata": {},
   "source": [
    "`{R} ← {X}f⍨Y`\n",
    "\n",
    "Commute basically switches the order of arguments."
   ]
  },
  {
   "cell_type": "code",
   "execution_count": 53,
   "id": "1d3c8b37-739b-4e50-9274-8b8169b01d58",
   "metadata": {},
   "outputs": [
    {
     "data": {
      "text/html": [
       "<pre class=\"language-APL\"> \n",
       "1\n",
       " \n",
       "</pre>"
      ]
     },
     "execution_count": 53,
     "metadata": {},
     "output_type": "execute_result"
    }
   ],
   "source": [
    "3-2 ⍝ Standard argument"
   ]
  },
  {
   "cell_type": "code",
   "execution_count": 54,
   "id": "016f131b-de04-46f6-9f6c-5a9c80901ef9",
   "metadata": {},
   "outputs": [
    {
     "data": {
      "text/html": [
       "<pre class=\"language-APL\"> \n",
       "1\n",
       " \n",
       "</pre>"
      ]
     },
     "execution_count": 54,
     "metadata": {},
     "output_type": "execute_result"
    }
   ],
   "source": [
    "2-⍨3 ⍝ Switched order using tilde diaeresis"
   ]
  },
  {
   "cell_type": "code",
   "execution_count": 60,
   "id": "c413b356-cc4e-4a1a-8295-4b88eecc1f5d",
   "metadata": {},
   "outputs": [],
   "source": [
    "grad ← {⍵ ÷⍨ (⍺⍺ ⍺+⍵) - ⍺⍺ ⍺} ⍝ example from before but with reveresed order of ops"
   ]
  },
  {
   "cell_type": "code",
   "execution_count": 61,
   "id": "ffa0b6b4-1636-4d30-8b42-ccfb06556047",
   "metadata": {},
   "outputs": [
    {
     "data": {
      "text/html": [
       "<pre class=\"language-APL\">      \n",
       "6.0001\n",
       "      \n",
       "</pre>"
      ]
     },
     "execution_count": 61,
     "metadata": {},
     "output_type": "execute_result"
    }
   ],
   "source": [
    "3 f grad 0.0001"
   ]
  },
  {
   "cell_type": "markdown",
   "id": "b7fd1d39-a6b1-4b5d-83fa-21f40defe674",
   "metadata": {},
   "source": [
    "...while Constant always returns the operand."
   ]
  },
  {
   "cell_type": "code",
   "execution_count": 64,
   "id": "1a1f47c6-678b-4336-9556-dc2dd76c6c04",
   "metadata": {},
   "outputs": [
    {
     "data": {
      "text/html": [
       "<pre class=\"language-APL\"> \n",
       "0\n",
       " \n",
       "</pre>"
      ]
     },
     "execution_count": 64,
     "metadata": {},
     "output_type": "execute_result"
    }
   ],
   "source": [
    "zero ← 0⍨\n",
    "2 zero 5"
   ]
  },
  {
   "cell_type": "markdown",
   "id": "fe770465-f14f-4bbf-bffe-b92370efa0ae",
   "metadata": {},
   "source": [
    "## **`¨` Diaeresis**"
   ]
  },
  {
   "cell_type": "markdown",
   "id": "c141d57a-3084-44d4-89f4-aebd04a6fb82",
   "metadata": {},
   "source": [
    "### **Monadic `¨` - (Each)**"
   ]
  },
  {
   "cell_type": "code",
   "execution_count": 68,
   "id": "9480da64-5524-4ceb-b6b2-082b244befa8",
   "metadata": {},
   "outputs": [
    {
     "data": {
      "text/html": [
       "<pre class=\"language-APL\">┌→──────────────────┐\n",
       "│ ┌→──────┐ ┌→────┐ │\n",
       "│ │1 2 3 4│ │5 6 7│ │\n",
       "│ └~──────┘ └~────┘ │\n",
       "└∊──────────────────┘\n",
       "</pre>"
      ]
     },
     "execution_count": 68,
     "metadata": {},
     "output_type": "execute_result"
    }
   ],
   "source": [
    "⎕ ← a ← (1 2 3 4)(5 6 7) ⍝ Creating an array of arrays"
   ]
  },
  {
   "cell_type": "markdown",
   "id": "39342bcc-793f-40d3-8cef-33988de3d53f",
   "metadata": {},
   "source": [
    "Each operator takes the previous function (sum in the example below) and applies it over each of the arguments."
   ]
  },
  {
   "cell_type": "code",
   "execution_count": 69,
   "id": "d95c3cc4-f25b-47c4-9ff9-7ebb5a68f2c0",
   "metadata": {},
   "outputs": [
    {
     "data": {
      "text/html": [
       "<pre class=\"language-APL\">┌→────┐\n",
       "│10 18│\n",
       "└~────┘\n",
       "</pre>"
      ]
     },
     "execution_count": 69,
     "metadata": {},
     "output_type": "execute_result"
    }
   ],
   "source": [
    "+/¨a "
   ]
  },
  {
   "cell_type": "code",
   "execution_count": 75,
   "id": "91c4c10d-c976-4e20-8b9a-097d0f1ec977",
   "metadata": {},
   "outputs": [
    {
     "data": {
      "text/html": [
       "<pre class=\"language-APL\">┌→────────────────┐\n",
       "│ ┌→────┐ ┌→────┐ │\n",
       "│ │1 2 3│ │4 5 6│ │\n",
       "│ └~────┘ └~────┘ │\n",
       "└∊────────────────┘\n",
       "</pre>"
      ]
     },
     "execution_count": 75,
     "metadata": {},
     "output_type": "execute_result"
    }
   ],
   "source": [
    "⎕ ← b ← (1 2 3)(4 5 6) "
   ]
  },
  {
   "cell_type": "code",
   "execution_count": 76,
   "id": "9bf1511a-2dcf-4b33-bcf2-5eb4a6419e19",
   "metadata": {},
   "outputs": [
    {
     "data": {
      "text/html": [
       "<pre class=\"language-APL\">┌→────────────────┐\n",
       "│ ┌→────┐ ┌→────┐ │\n",
       "│ │3 4 5│ │7 8 9│ │\n",
       "│ └~────┘ └~────┘ │\n",
       "└∊────────────────┘\n",
       "</pre>"
      ]
     },
     "execution_count": 76,
     "metadata": {},
     "output_type": "execute_result"
    }
   ],
   "source": [
    "2 3 +¨b"
   ]
  },
  {
   "cell_type": "markdown",
   "id": "85f4b804-4a52-4dcd-a77b-25e7bbec4f30",
   "metadata": {},
   "source": [
    "## **`⌿` Slash Bar**"
   ]
  },
  {
   "cell_type": "markdown",
   "id": "26f319c4-c3da-4024-b1a2-24e947569bdf",
   "metadata": {},
   "source": [
    "### **Monadic `⌿` - (Reduce First)**"
   ]
  },
  {
   "cell_type": "code",
   "execution_count": 79,
   "id": "b842041f-36f4-46e9-992b-5ece3749fbb6",
   "metadata": {},
   "outputs": [
    {
     "data": {
      "text/html": [
       "<pre class=\"language-APL\">┌→────┐\n",
       "↓1 2 3│\n",
       "│4 5 6│\n",
       "└~────┘\n",
       "</pre>"
      ]
     },
     "execution_count": 79,
     "metadata": {},
     "output_type": "execute_result"
    }
   ],
   "source": [
    "⎕ ← mat ← 2 3 ⍴ ⍳6 ⍝ Create a 2x3 matrix with 6 elements using the index generator."
   ]
  },
  {
   "cell_type": "code",
   "execution_count": 80,
   "id": "215da70b-fa92-4779-a8c6-2e10e1d9a00c",
   "metadata": {},
   "outputs": [
    {
     "data": {
      "text/html": [
       "<pre class=\"language-APL\">┌→────┐\n",
       "│5 7 9│\n",
       "└~────┘\n",
       "</pre>"
      ]
     },
     "execution_count": 80,
     "metadata": {},
     "output_type": "execute_result"
    }
   ],
   "source": [
    "+⌿ mat"
   ]
  },
  {
   "cell_type": "code",
   "execution_count": 81,
   "id": "d4520aec-e259-4cfa-8bc8-277087c612dc",
   "metadata": {},
   "outputs": [
    {
     "data": {
      "text/html": [
       "<pre class=\"language-APL\">┌→──────────┐\n",
       "↓ 1  2  3  4│\n",
       "│ 5  6  7  8│\n",
       "│ 9 10 11 12│\n",
       "│13 14 15 16│\n",
       "└~──────────┘\n",
       "</pre>"
      ]
     },
     "execution_count": 81,
     "metadata": {},
     "output_type": "execute_result"
    }
   ],
   "source": [
    "⎕ ← mat ← 4 4 ⍴ ⍳16"
   ]
  },
  {
   "cell_type": "code",
   "execution_count": 82,
   "id": "3e7bcb6d-07a8-411b-82d0-97cdf0019f70",
   "metadata": {},
   "outputs": [
    {
     "data": {
      "text/html": [
       "<pre class=\"language-APL\">┌→──────────┐\n",
       "│28 32 36 40│\n",
       "└~──────────┘\n",
       "</pre>"
      ]
     },
     "execution_count": 82,
     "metadata": {},
     "output_type": "execute_result"
    }
   ],
   "source": [
    "+⌿ mat ⍝ columnar sum"
   ]
  },
  {
   "cell_type": "code",
   "execution_count": null,
   "id": "e6d99a77-4ff6-40ca-b204-f253197ddd07",
   "metadata": {},
   "outputs": [],
   "source": []
  },
  {
   "cell_type": "markdown",
   "id": "1c74a8b1-4607-48a9-970f-68541ec7ecf9",
   "metadata": {},
   "source": [
    "## **`⍀` Back Slash Bar**"
   ]
  },
  {
   "cell_type": "markdown",
   "id": "61e2eab9-688b-4e27-9f75-c6bf877ef382",
   "metadata": {},
   "source": [
    "### **Monadic `⍀` - (Slope)**"
   ]
  },
  {
   "cell_type": "code",
   "execution_count": null,
   "id": "77b982d0-f523-44dd-841b-e4bfee484b91",
   "metadata": {},
   "outputs": [],
   "source": []
  },
  {
   "cell_type": "code",
   "execution_count": null,
   "id": "5e39ba00-e48b-4d72-a97f-6c748d79b462",
   "metadata": {},
   "outputs": [],
   "source": []
  },
  {
   "cell_type": "code",
   "execution_count": null,
   "id": "97ce5c40-78d6-47c1-8f72-65abfeaf9d57",
   "metadata": {},
   "outputs": [],
   "source": []
  },
  {
   "cell_type": "code",
   "execution_count": null,
   "id": "634bf645-3709-4ad3-b340-c7f00d71049e",
   "metadata": {},
   "outputs": [],
   "source": []
  },
  {
   "cell_type": "code",
   "execution_count": null,
   "id": "e9d1f9be-827f-420a-8979-be4dfab6c920",
   "metadata": {},
   "outputs": [],
   "source": []
  }
 ],
 "metadata": {
  "kernelspec": {
   "display_name": "Dyalog APL",
   "language": "apl",
   "name": "dyalog_apl"
  },
  "language_info": {
   "file_extension": ".apl",
   "mimetype": "text/apl",
   "name": "APL"
  }
 },
 "nbformat": 4,
 "nbformat_minor": 5
}
