{
 "cells": [
  {
   "cell_type": "markdown",
   "id": "44348e03-8cfe-41c0-8ae9-ea5966ff515c",
   "metadata": {},
   "source": [
    "# **Basics**"
   ]
  },
  {
   "cell_type": "markdown",
   "id": "896e2166-6d41-4ecb-b803-0f5ff53de033",
   "metadata": {},
   "source": [
    "We will be referring to the [help docs](https://help.dyalog.com/latest/index.htm#Language/Symbols/Minus%20Sign.htm) constantly to slowly increase our understanding of APL."
   ]
  },
  {
   "cell_type": "markdown",
   "id": "8911c2a7-f1aa-4863-8d72-3409fce12a2a",
   "metadata": {},
   "source": [
    "The following command, when used in any kernel - be it Jupyter or in windows -  will turn on boxes for arrays / tensors etc. `style=max` and `style=min` increase or decrease the level of detail shown on the boxes. More on this later."
   ]
  },
  {
   "cell_type": "code",
   "execution_count": 1,
   "id": "e3e1bc96-06b9-4fcd-a4b3-53a3f5021967",
   "metadata": {},
   "outputs": [
    {
     "data": {
      "text/html": [
       "<pre class=\"language-APL\">┌→─────────────────┐\n",
       "│Was OFF -style=min│\n",
       "└──────────────────┘\n",
       "</pre>"
      ]
     },
     "execution_count": 1,
     "metadata": {},
     "output_type": "execute_result"
    }
   ],
   "source": [
    "]box on -style=max"
   ]
  },
  {
   "cell_type": "markdown",
   "id": "d98cc8a7-a66f-4b98-b660-d871eb213d54",
   "metadata": {},
   "source": [
    "# **Glyphs - Basic Math Operators & Primitive Functions**"
   ]
  },
  {
   "cell_type": "markdown",
   "id": "a34887f0-96d0-4b81-bee2-cd2c4aaafdb9",
   "metadata": {},
   "source": [
    "## **1. `-` Minus Sign ; Bar**"
   ]
  },
  {
   "cell_type": "markdown",
   "id": "b759e0eb-ebe6-4813-9202-1725fb84b0c2",
   "metadata": {},
   "source": [
    "### **Monadic (Negate)** - _on Rank-1 Arrays_"
   ]
  },
  {
   "cell_type": "markdown",
   "id": "cab04e9f-f756-4d99-b4a0-f1fad26d919e",
   "metadata": {},
   "source": [
    "**Monadic**: which means _\"being or relating to a monad. / logic, mathematics. (of an operator, predicate, etc) having only a single argument place.\"_\n",
    "\n",
    "The following is an array, where the \"monadic\" minus sign is applying the negative or `negate` function to every element in the array. The super-scripted minus sign is accessed using `shift + 2` and gives a sign to a number."
   ]
  },
  {
   "cell_type": "code",
   "execution_count": 11,
   "id": "554f49e8-70a8-4f45-ad59-edf3a9c1cff5",
   "metadata": {},
   "outputs": [
    {
     "data": {
      "text/html": [
       "<pre class=\"language-APL\">┌→───────────┐\n",
       "│¯3.2 7 0 8.5│\n",
       "└~───────────┘\n",
       "</pre>"
      ]
     },
     "execution_count": 11,
     "metadata": {},
     "output_type": "execute_result"
    }
   ],
   "source": [
    "- 3.2 ¯7 0 ¯8.5"
   ]
  },
  {
   "cell_type": "code",
   "execution_count": 9,
   "id": "c867f6f1-df6e-4bb8-a3ab-44e1743dd24e",
   "metadata": {},
   "outputs": [
    {
     "data": {
      "text/html": [
       "<pre class=\"language-APL\">┌→──────────────┐\n",
       "│¯1J¯2 2J¯3 ¯4J5│\n",
       "└~──────────────┘\n",
       "</pre>"
      ]
     },
     "execution_count": 9,
     "metadata": {},
     "output_type": "execute_result"
    }
   ],
   "source": [
    "- 1j2 ¯2J3 4J¯5"
   ]
  },
  {
   "cell_type": "code",
   "execution_count": 10,
   "id": "e8e45556-f6ba-4363-b992-d5c62d062149",
   "metadata": {},
   "outputs": [
    {
     "data": {
      "text/html": [
       "<pre class=\"language-APL\">┌→──────────┐\n",
       "│¯4 ¯2 0 3 5│\n",
       "└~──────────┘\n",
       "</pre>"
      ]
     },
     "execution_count": 10,
     "metadata": {},
     "output_type": "execute_result"
    }
   ],
   "source": [
    "-4 2 0 ¯3 ¯5"
   ]
  },
  {
   "cell_type": "markdown",
   "id": "e45a65dc-9f20-4c5e-b5b7-04fc3e7d776c",
   "metadata": {},
   "source": [
    "### **Dyadic (Minus ; Subtract)**"
   ]
  },
  {
   "cell_type": "markdown",
   "id": "64f82b6e-da4d-4b92-b122-d3aa42d0c5f4",
   "metadata": {},
   "source": [
    "A **dyadic** function is a function with two arguments, one on the left and one on the right. A sequence of dyadic functions is evaluated from right to left to increase the similarity to monadic function evaluation. Dyadic functions in APL are designed so that the right argument is primary and the left secondary."
   ]
  },
  {
   "cell_type": "code",
   "execution_count": 5,
   "id": "9f2ccf4c-e560-4d62-9ac5-64433759478a",
   "metadata": {},
   "outputs": [
    {
     "data": {
      "text/html": [
       "<pre class=\"language-APL\">┌→─────┐\n",
       "│¯2 2 4│\n",
       "└~─────┘\n",
       "</pre>"
      ]
     },
     "execution_count": 5,
     "metadata": {},
     "output_type": "execute_result"
    }
   ],
   "source": [
    "3 7 9 - 5"
   ]
  },
  {
   "cell_type": "markdown",
   "id": "38d1c388-5eeb-4459-b044-22321516bbb4",
   "metadata": {},
   "source": [
    "An example of broadcasting a scalar from left to right:"
   ]
  },
  {
   "cell_type": "code",
   "execution_count": 19,
   "id": "42377187-e7e5-4bb8-ba7f-7ca228bf3010",
   "metadata": {},
   "outputs": [
    {
     "data": {
      "text/html": [
       "<pre class=\"language-APL\">┌→──────────────┐\n",
       "│¯12 ¯21 23 ¯5.5│\n",
       "└~──────────────┘\n",
       "</pre>"
      ]
     },
     "execution_count": 19,
     "metadata": {},
     "output_type": "execute_result"
    }
   ],
   "source": [
    "¯2 ¯11 33 4.5 - 10"
   ]
  },
  {
   "cell_type": "markdown",
   "id": "7d4a8980-4d10-4e0c-9763-9f9a266de7c7",
   "metadata": {},
   "source": [
    "And here's an example of element-wise operations between arrays:"
   ]
  },
  {
   "cell_type": "code",
   "execution_count": 7,
   "id": "6b841fe9-056c-4bb9-a116-33814d61ef94",
   "metadata": {},
   "outputs": [
    {
     "data": {
      "text/html": [
       "<pre class=\"language-APL\">┌→─────────┐\n",
       "│¯0.5 3 0 3│\n",
       "└~─────────┘\n",
       "</pre>"
      ]
     },
     "execution_count": 7,
     "metadata": {},
     "output_type": "execute_result"
    }
   ],
   "source": [
    "3.5 ¯4 5 0 - 4 ¯7 5 ¯3"
   ]
  },
  {
   "cell_type": "markdown",
   "id": "540d674a-5765-4682-adc9-911f6aa97a4d",
   "metadata": {},
   "source": [
    "## **2. `+` Plus Sign**"
   ]
  },
  {
   "cell_type": "markdown",
   "id": "0beda4ae-2852-4782-8b10-4e4a87e315b6",
   "metadata": {},
   "source": [
    "### **Monadic - (Conjugate)**\n",
    "\n",
    "**Conjugate** `+` is a monadic scalar function which _negates the imaginary component of a complex argument_. Because many APLs do not have a dedicated Identity function, but also do not support complex numbers, Conjugate is often used to return the argument unchanged. \n",
    "\n",
    "Also, we are introducing `Complex Numbers` and in APL they are usually represented using `j` as in below."
   ]
  },
  {
   "cell_type": "code",
   "execution_count": 14,
   "id": "cd20f14b-1c64-4db7-89a0-d53a0d1c17ba",
   "metadata": {},
   "outputs": [
    {
     "data": {
      "text/html": [
       "<pre class=\"language-APL\">┌→────────────┐\n",
       "│1.2 0J¯4 ¯5J6│\n",
       "└~────────────┘\n",
       "</pre>"
      ]
     },
     "execution_count": 14,
     "metadata": {},
     "output_type": "execute_result"
    }
   ],
   "source": [
    "+ 1.2 0j4 ¯5j¯6"
   ]
  },
  {
   "cell_type": "code",
   "execution_count": 15,
   "id": "72e4cc8a-aa52-4f22-80d7-e8a80845d1b7",
   "metadata": {},
   "outputs": [
    {
     "data": {
      "text/html": [
       "<pre class=\"language-APL\">┌→────────────┐\n",
       "│3.2 ¯7 0 ¯8.5│\n",
       "└~────────────┘\n",
       "</pre>"
      ]
     },
     "execution_count": 15,
     "metadata": {},
     "output_type": "execute_result"
    }
   ],
   "source": [
    "+ 3.2 ¯7 0 ¯8.5"
   ]
  },
  {
   "cell_type": "code",
   "execution_count": 16,
   "id": "17b0bda2-a237-4fe7-a8d4-a4127df97a9f",
   "metadata": {},
   "outputs": [
    {
     "data": {
      "text/html": [
       "<pre class=\"language-APL\">┌→─────────────┐\n",
       "│1J¯2 ¯2J¯3 4J5│\n",
       "└~─────────────┘\n",
       "</pre>"
      ]
     },
     "execution_count": 16,
     "metadata": {},
     "output_type": "execute_result"
    }
   ],
   "source": [
    "+ 1j2 ¯2J3 4J¯5"
   ]
  },
  {
   "cell_type": "code",
   "execution_count": 17,
   "id": "5bf5e637-6d16-4245-8c64-19bced708f90",
   "metadata": {},
   "outputs": [
    {
     "data": {
      "text/html": [
       "<pre class=\"language-APL\">┌→──────────┐\n",
       "│4 2 0 ¯3 ¯5│\n",
       "└~──────────┘\n",
       "</pre>"
      ]
     },
     "execution_count": 17,
     "metadata": {},
     "output_type": "execute_result"
    }
   ],
   "source": [
    "+ 4 2 0 ¯3 ¯5"
   ]
  },
  {
   "cell_type": "markdown",
   "id": "972c3cd6-4443-4001-806e-2b20fe8dec3c",
   "metadata": {},
   "source": [
    "### **Dyadic (Plus)**"
   ]
  },
  {
   "cell_type": "code",
   "execution_count": 18,
   "id": "50d76d0c-1d65-4b99-9ebf-333be3431cb7",
   "metadata": {},
   "outputs": [
    {
     "data": {
      "text/html": [
       "<pre class=\"language-APL\">┌→──────────┐\n",
       "│11 12 13 14│\n",
       "└~──────────┘\n",
       "</pre>"
      ]
     },
     "execution_count": 18,
     "metadata": {},
     "output_type": "execute_result"
    }
   ],
   "source": [
    "1 2 3 4 + 10"
   ]
  },
  {
   "cell_type": "code",
   "execution_count": 6,
   "id": "1b35ae10-0e3f-4e22-8ed1-eabb106b1070",
   "metadata": {},
   "outputs": [
    {
     "data": {
      "text/html": [
       "<pre class=\"language-APL\">┌→───────────┐\n",
       "│8 ¯1 43 14.5│\n",
       "└~───────────┘\n",
       "</pre>"
      ]
     },
     "execution_count": 6,
     "metadata": {},
     "output_type": "execute_result"
    }
   ],
   "source": [
    "¯2 ¯11 33 4.5 + 10"
   ]
  },
  {
   "cell_type": "markdown",
   "id": "73b35182-7164-47b7-b143-cf8331a88ab2",
   "metadata": {},
   "source": [
    "And here's an example of element-wise operations between arrays:"
   ]
  },
  {
   "cell_type": "code",
   "execution_count": 20,
   "id": "63367901-2e44-4a1f-b818-563b740bede5",
   "metadata": {},
   "outputs": [
    {
     "data": {
      "text/html": [
       "<pre class=\"language-APL\">┌→────────────┐\n",
       "│7.5 ¯11 10 ¯3│\n",
       "└~────────────┘\n",
       "</pre>"
      ]
     },
     "execution_count": 20,
     "metadata": {},
     "output_type": "execute_result"
    }
   ],
   "source": [
    "3.5 ¯4 5 0 + 4 ¯7 5 ¯3"
   ]
  },
  {
   "cell_type": "markdown",
   "id": "5fb6a429-81c3-43f0-b3ae-32a75e990a06",
   "metadata": {},
   "source": [
    "Slash is also used as a _Monadic operator with a Dyadic operand_."
   ]
  },
  {
   "cell_type": "code",
   "execution_count": 22,
   "id": "1b48dbe5-ce7d-41c6-acc5-4f50ab1a2d1a",
   "metadata": {},
   "outputs": [
    {
     "data": {
      "text/html": [
       "<pre class=\"language-APL\">  \n",
       "10\n",
       "  \n",
       "</pre>"
      ]
     },
     "execution_count": 22,
     "metadata": {},
     "output_type": "execute_result"
    }
   ],
   "source": [
    "+/ 1 2 3 4"
   ]
  },
  {
   "cell_type": "markdown",
   "id": "a927a41a-0ac2-493b-a658-a075154e7bf4",
   "metadata": {},
   "source": [
    "## **3. `×` Times Sign**"
   ]
  },
  {
   "cell_type": "markdown",
   "id": "22b8d26e-9b3a-4883-b0e5-2cce4e46ebe9",
   "metadata": {},
   "source": [
    "### **Monadic - (Direction)**"
   ]
  },
  {
   "cell_type": "code",
   "execution_count": 2,
   "id": "75f508e8-45f3-4b11-9dc3-f8bcd435f605",
   "metadata": {},
   "outputs": [
    {
     "data": {
      "text/html": [
       "<pre class=\"language-APL\"> \n",
       "6\n",
       " \n",
       "</pre>"
      ]
     },
     "execution_count": 2,
     "metadata": {},
     "output_type": "execute_result"
    }
   ],
   "source": [
    "3×2"
   ]
  },
  {
   "cell_type": "code",
   "execution_count": 3,
   "id": "e15176aa-8631-454b-866f-88972685edb1",
   "metadata": {},
   "outputs": [
    {
     "data": {
      "text/html": [
       "<pre class=\"language-APL\">┌→────────┐\n",
       "│7.5 9 ¯21│\n",
       "└~────────┘\n",
       "</pre>"
      ]
     },
     "execution_count": 3,
     "metadata": {},
     "output_type": "execute_result"
    }
   ],
   "source": [
    "3 × 2.5 3 ¯7"
   ]
  },
  {
   "cell_type": "code",
   "execution_count": 5,
   "id": "4fe323b8-6a06-48fb-8805-eff54422292b",
   "metadata": {},
   "outputs": [
    {
     "data": {
      "text/html": [
       "<pre class=\"language-APL\">┌→─────────────┐\n",
       "│33 512 ¯76.5 0│\n",
       "└~─────────────┘\n",
       "</pre>"
      ]
     },
     "execution_count": 5,
     "metadata": {},
     "output_type": "execute_result"
    }
   ],
   "source": [
    "3 2 8.5 0 × 11 256 ¯9 2"
   ]
  },
  {
   "cell_type": "markdown",
   "id": "801c0b45-8689-4861-a9d8-576e356860b6",
   "metadata": {},
   "source": [
    "`R←×Y`\n",
    "\n",
    "Y may be any numeric array.\n",
    "\n",
    "Where an element of Y is real, the corresponding element of R is an integer whose value indicates whether the value is negative (¯1), zero (0) or positive (1).\n",
    "\n",
    "Where an element of Y is complex, the corresponding element of R is a number with the same _phase but with magnitude (absolute value) 1_."
   ]
  },
  {
   "cell_type": "markdown",
   "id": "c9a86e2d-102d-4a3d-9ea5-a658c8e18f7e",
   "metadata": {},
   "source": [
    "#### **SUPPLEMENT**"
   ]
  },
  {
   "cell_type": "code",
   "execution_count": 6,
   "id": "7501f52d-ebaf-4ad3-9823-4d2145c8645f",
   "metadata": {},
   "outputs": [
    {
     "data": {
      "text/html": [
       "<pre class=\"language-APL\">┌→─────────────┐\n",
       "│1 ¯1 0 0.6J0.8│\n",
       "└~─────────────┘\n",
       "</pre>"
      ]
     },
     "execution_count": 6,
     "metadata": {},
     "output_type": "execute_result"
    }
   ],
   "source": [
    "× 3.1 ¯2 0 3j4"
   ]
  },
  {
   "cell_type": "markdown",
   "id": "5940739d-e5e2-493e-9f23-ed8aa12d4e51",
   "metadata": {},
   "source": [
    "The sign function is straight forward for real numbers. The magnitude of a [complex number](https://en.wikipedia.org/wiki/Complex_plane) $a+ib$ is defined as ${\\sqrt{a^2 + b^2}}$. Or, in the case below $x+yi$\n",
    "\n",
    "![title](imgs/Argandgaussplane.png)"
   ]
  },
  {
   "cell_type": "markdown",
   "id": "bf64c604-ce14-48e9-8676-074fe452550d",
   "metadata": {},
   "source": [
    "APL represents $a+ib$ as $ajb$, as in below. The output is obtained by taking the number and dividing it by its magnitude."
   ]
  },
  {
   "cell_type": "code",
   "execution_count": 15,
   "id": "915b9f6d-1452-4b41-b341-c2b68ca1b9f5",
   "metadata": {},
   "outputs": [
    {
     "data": {
      "text/html": [
       "<pre class=\"language-APL\">       \n",
       "0.6J0.8\n",
       "       \n",
       "</pre>"
      ]
     },
     "execution_count": 15,
     "metadata": {},
     "output_type": "execute_result"
    }
   ],
   "source": [
    "× 3j4"
   ]
  },
  {
   "cell_type": "markdown",
   "id": "e46ba71d-f41a-46c8-9c97-e1c57f6e9364",
   "metadata": {},
   "source": [
    "We get the Magnitude of **3j4** by using Stile `|` - and following up by dividing the complex number with it's magnitude gives us the same result: "
   ]
  },
  {
   "cell_type": "code",
   "execution_count": 21,
   "id": "3f547403-3475-425e-b131-e1dca82eb82f",
   "metadata": {},
   "outputs": [
    {
     "data": {
      "text/html": [
       "<pre class=\"language-APL\"> \n",
       "5\n",
       " \n",
       "</pre>"
      ]
     },
     "execution_count": 21,
     "metadata": {},
     "output_type": "execute_result"
    }
   ],
   "source": [
    "|3j4"
   ]
  },
  {
   "cell_type": "code",
   "execution_count": 23,
   "id": "a86cf618-07cb-4ca1-8825-9349b3e706ce",
   "metadata": {},
   "outputs": [
    {
     "data": {
      "text/html": [
       "<pre class=\"language-APL\">       \n",
       "0.6J0.8\n",
       "       \n",
       "</pre>"
      ]
     },
     "execution_count": 23,
     "metadata": {},
     "output_type": "execute_result"
    }
   ],
   "source": [
    "3j4 ÷ (|3j4)"
   ]
  },
  {
   "cell_type": "markdown",
   "id": "3dfa7345-acd3-4f40-a0a7-5a0ed4b098fc",
   "metadata": {},
   "source": [
    "More details on magnitudes to follow in later sections."
   ]
  },
  {
   "cell_type": "markdown",
   "id": "026cd1cb-5e68-4e2e-8016-c2a386d190fa",
   "metadata": {},
   "source": [
    "### **Dyadic - (Times)**"
   ]
  },
  {
   "cell_type": "code",
   "execution_count": 24,
   "id": "a846a5a3-7eda-44ed-8739-d6e43c96a722",
   "metadata": {},
   "outputs": [
    {
     "data": {
      "text/html": [
       "<pre class=\"language-APL\">┌→──────┐\n",
       "│¯6 12 9│\n",
       "└~──────┘\n",
       "</pre>"
      ]
     },
     "execution_count": 24,
     "metadata": {},
     "output_type": "execute_result"
    }
   ],
   "source": [
    "2 ¯3 4.5 × ¯3 ¯4 2"
   ]
  },
  {
   "cell_type": "code",
   "execution_count": 25,
   "id": "8806d226-aab7-40ba-9183-99612861c330",
   "metadata": {},
   "outputs": [
    {
     "data": {
      "text/html": [
       "<pre class=\"language-APL\">┌→───────┐\n",
       "│30 10 40│\n",
       "└~───────┘\n",
       "</pre>"
      ]
     },
     "execution_count": 25,
     "metadata": {},
     "output_type": "execute_result"
    }
   ],
   "source": [
    "3 1 4 × 10"
   ]
  },
  {
   "cell_type": "code",
   "execution_count": 26,
   "id": "bdbd22da-68a3-4948-a2ec-e202bd759b9b",
   "metadata": {},
   "outputs": [
    {
     "data": {
      "text/html": [
       "<pre class=\"language-APL\">   \n",
       "120\n",
       "   \n",
       "</pre>"
      ]
     },
     "execution_count": 26,
     "metadata": {},
     "output_type": "execute_result"
    }
   ],
   "source": [
    "×/ 2 3 4 5"
   ]
  },
  {
   "cell_type": "markdown",
   "id": "394ca86d-46fa-4c92-b6b4-62ccd132311d",
   "metadata": {},
   "source": [
    "## **4. `÷` Divide Sign**"
   ]
  },
  {
   "cell_type": "markdown",
   "id": "81d53511-b78d-45da-8173-923286bf49a7",
   "metadata": {},
   "source": [
    "### **Monadic - (Reciprocal)**"
   ]
  },
  {
   "cell_type": "markdown",
   "id": "1daed2a1-2ffd-480d-a70a-40d4104f377b",
   "metadata": {},
   "source": [
    "`R←÷Y` \n",
    "\n",
    "Y must be a numeric array.  R is numeric.  R is the reciprocal of Y; that is `1÷Y`."
   ]
  },
  {
   "cell_type": "code",
   "execution_count": 27,
   "id": "d4180024-3d71-44b3-a6b4-2044958ba56f",
   "metadata": {},
   "outputs": [
    {
     "data": {
      "text/html": [
       "<pre class=\"language-APL\">┌→─────────────────┐\n",
       "│1 0.5 0.3333333333│\n",
       "└~─────────────────┘\n",
       "</pre>"
      ]
     },
     "execution_count": 27,
     "metadata": {},
     "output_type": "execute_result"
    }
   ],
   "source": [
    "÷ 1 2 3"
   ]
  },
  {
   "cell_type": "code",
   "execution_count": 31,
   "id": "c81f1ab5-247d-4e27-adc7-9d241e7af24c",
   "metadata": {},
   "outputs": [
    {
     "data": {
      "text/html": [
       "<pre class=\"language-APL\">┌→───────────────────────────────┐\n",
       "│0J¯1 0J1 0.25J¯0.25 0.125J¯0.125│\n",
       "└~───────────────────────────────┘\n",
       "</pre>"
      ]
     },
     "execution_count": 31,
     "metadata": {},
     "output_type": "execute_result"
    }
   ],
   "source": [
    "÷ 0j1 0j¯1 2j2 4j4"
   ]
  },
  {
   "cell_type": "markdown",
   "id": "4604295d-eacf-4282-bf6a-f35649c38fd4",
   "metadata": {},
   "source": [
    "### **Dyadic - (Divided By)**"
   ]
  },
  {
   "cell_type": "markdown",
   "id": "5ce462e1-4092-492a-9e54-a9702b23db14",
   "metadata": {},
   "source": [
    "`R←X÷Y`\n",
    "\n",
    "Y must be a numeric array.  X must be a numeric array.  R is the numeric array resulting from X divided by Y."
   ]
  },
  {
   "cell_type": "code",
   "execution_count": 32,
   "id": "ea9ac71f-3ba9-4444-8d09-4a856d901960",
   "metadata": {},
   "outputs": [
    {
     "data": {
      "text/html": [
       "<pre class=\"language-APL\">┌→──────────────────────┐\n",
       "│¯0.6666666667 0.75 2.25│\n",
       "└~──────────────────────┘\n",
       "</pre>"
      ]
     },
     "execution_count": 32,
     "metadata": {},
     "output_type": "execute_result"
    }
   ],
   "source": [
    "2 ¯3 4.5 ÷ ¯3 ¯4 2"
   ]
  },
  {
   "cell_type": "code",
   "execution_count": 33,
   "id": "fd9b5544-bc83-4ecf-afcb-c616737ac523",
   "metadata": {},
   "outputs": [
    {
     "data": {
      "text/html": [
       "<pre class=\"language-APL\">┌→──────────┐\n",
       "│0.3 0.1 0.4│\n",
       "└~──────────┘\n",
       "</pre>"
      ]
     },
     "execution_count": 33,
     "metadata": {},
     "output_type": "execute_result"
    }
   ],
   "source": [
    "3 1 4 ÷ 10"
   ]
  },
  {
   "cell_type": "code",
   "execution_count": 38,
   "id": "aafdafbe-0e7c-47fc-9eda-fce4a1f6094b",
   "metadata": {},
   "outputs": [
    {
     "data": {
      "text/html": [
       "<pre class=\"language-APL\">     \n",
       "1.875\n",
       "     \n",
       "</pre>"
      ]
     },
     "execution_count": 38,
     "metadata": {},
     "output_type": "execute_result"
    }
   ],
   "source": [
    "÷/ 1 2 3 4 5"
   ]
  },
  {
   "cell_type": "markdown",
   "id": "d1420522-daef-42d7-aef4-166d66fe3ef8",
   "metadata": {},
   "source": [
    "### **5. `*` Star**"
   ]
  },
  {
   "cell_type": "markdown",
   "id": "2a7ef870-9acc-461a-a343-a99474c15cd3",
   "metadata": {},
   "source": [
    "#### **Monadic Star - (Exponential)**"
   ]
  },
  {
   "cell_type": "markdown",
   "id": "53027e93-b002-4839-a923-a67c122a4c20",
   "metadata": {},
   "source": [
    "`R←*Y`\n",
    "\n",
    "Y must be numeric. R is numeric and is the $Yth$ power of **$e$**, the base of natural logarithms."
   ]
  },
  {
   "cell_type": "code",
   "execution_count": 46,
   "id": "1b3a42ca-270b-4ec1-8139-3f991bd5179b",
   "metadata": {},
   "outputs": [
    {
     "data": {
      "text/html": [
       "<pre class=\"language-APL\">┌→────────────────────────┐\n",
       "│1 2.718281828 7.389056099│\n",
       "└~────────────────────────┘\n",
       "</pre>"
      ]
     },
     "execution_count": 46,
     "metadata": {},
     "output_type": "execute_result"
    }
   ],
   "source": [
    "* 0 1 2"
   ]
  },
  {
   "cell_type": "code",
   "execution_count": 48,
   "id": "61351fa0-efe3-498e-8556-d424d8d2a304",
   "metadata": {},
   "outputs": [
    {
     "data": {
      "text/html": [
       "<pre class=\"language-APL\">┌→─────────────────────────────────────────────────┐\n",
       "│0.5403023059J0.8414709848 ¯1.131204384J2.471726672│\n",
       "└~─────────────────────────────────────────────────┘\n",
       "</pre>"
      ]
     },
     "execution_count": 48,
     "metadata": {},
     "output_type": "execute_result"
    }
   ],
   "source": [
    "* 0j1 1j2"
   ]
  },
  {
   "cell_type": "markdown",
   "id": "c9697e86-6f2b-419e-8d2c-15165afe9009",
   "metadata": {},
   "source": [
    "#### **Dyadic Star - (Power)**"
   ]
  },
  {
   "cell_type": "markdown",
   "id": "26cb2147-7e7a-4256-9089-763471bee924",
   "metadata": {},
   "source": [
    "`R←X*Y`\n",
    "\n",
    "Y must be a numeric array.  X must be a numeric array.  R is numeric.  The value of R is X raised to the power of Y.\n",
    "\n",
    "If Y is zero, R is defined to be 1. If X is zero, Y must be non-negative. If X is negative, the result R is likely to be complex."
   ]
  },
  {
   "cell_type": "code",
   "execution_count": 50,
   "id": "bbab8ac5-0e9b-4f06-8a46-8515849e6417",
   "metadata": {},
   "outputs": [
    {
     "data": {
      "text/html": [
       "<pre class=\"language-APL\">┌→─────┐\n",
       "│4 0.25│\n",
       "└~─────┘\n",
       "</pre>"
      ]
     },
     "execution_count": 50,
     "metadata": {},
     "output_type": "execute_result"
    }
   ],
   "source": [
    "2*2 ¯2"
   ]
  },
  {
   "cell_type": "code",
   "execution_count": 52,
   "id": "4ffb5c33-e680-4e70-95c3-c954fb85bd87",
   "metadata": {},
   "outputs": [
    {
     "data": {
      "text/html": [
       "<pre class=\"language-APL\">┌→───────┐\n",
       "│7 25 0J2│\n",
       "└~───────┘\n",
       "</pre>"
      ]
     },
     "execution_count": 52,
     "metadata": {},
     "output_type": "execute_result"
    }
   ],
   "source": [
    "49 5 ¯4 * 0.5 2 0.5"
   ]
  },
  {
   "cell_type": "markdown",
   "id": "299cc682-883b-47e5-ba6a-f7cb57519ead",
   "metadata": {},
   "source": [
    "# **Precedence**"
   ]
  },
  {
   "cell_type": "markdown",
   "id": "e182aaae-ffc7-406b-a477-879848afd088",
   "metadata": {},
   "source": [
    "In contrast to other programming languages which have an explicit precedence for mathematical operators, APL primarily goes from right to left for order of operations."
   ]
  },
  {
   "cell_type": "code",
   "execution_count": 40,
   "id": "e64e14f4-e5e7-4319-869c-9d4180a67c3a",
   "metadata": {},
   "outputs": [
    {
     "data": {
      "text/html": [
       "<pre class=\"language-APL\"> \n",
       "9\n",
       " \n",
       "</pre>"
      ]
     },
     "execution_count": 40,
     "metadata": {},
     "output_type": "execute_result"
    }
   ],
   "source": [
    "3×2+1"
   ]
  },
  {
   "cell_type": "code",
   "execution_count": 44,
   "id": "6c880892-23fd-4d82-aa74-fdd6b2b829f3",
   "metadata": {},
   "outputs": [
    {
     "data": {
      "text/html": [
       "<pre class=\"language-APL\"> \n",
       "2\n",
       " \n",
       "</pre>"
      ]
     },
     "execution_count": 44,
     "metadata": {},
     "output_type": "execute_result"
    }
   ],
   "source": [
    "8*÷3"
   ]
  },
  {
   "cell_type": "markdown",
   "id": "ec9e1b78-de1c-4516-bee7-3631365114f9",
   "metadata": {},
   "source": [
    "Here the parentheses are for illustrative purposes only."
   ]
  },
  {
   "cell_type": "code",
   "execution_count": 45,
   "id": "b3f28ed9-246b-4c24-ace5-e9c6c371be21",
   "metadata": {},
   "outputs": [
    {
     "data": {
      "text/html": [
       "<pre class=\"language-APL\">┌→──────┐\n",
       "│4 12 24│\n",
       "└~──────┘\n",
       "</pre>"
      ]
     },
     "execution_count": 45,
     "metadata": {},
     "output_type": "execute_result"
    }
   ],
   "source": [
    "1 2 3 × (2 + 2 4 6)"
   ]
  },
  {
   "cell_type": "markdown",
   "id": "982d81f1-e6e8-4551-b142-5dbbd1f9b8cc",
   "metadata": {},
   "source": [
    "However, symbols don't have the same precedence. Space between numbers binds more tightly since they are reprensented as a list / array."
   ]
  },
  {
   "cell_type": "code",
   "execution_count": 42,
   "id": "3ceca89f-210e-407e-af15-e9a80432f507",
   "metadata": {},
   "outputs": [
    {
     "data": {
      "text/html": [
       "<pre class=\"language-APL\">┌→──┐\n",
       "│5 7│\n",
       "└~──┘\n",
       "</pre>"
      ]
     },
     "execution_count": 42,
     "metadata": {},
     "output_type": "execute_result"
    }
   ],
   "source": [
    "3 + 2 4"
   ]
  },
  {
   "cell_type": "code",
   "execution_count": 43,
   "id": "291c0b70-2396-49cb-b89f-426f81bcc3c4",
   "metadata": {},
   "outputs": [
    {
     "data": {
      "text/html": [
       "<pre class=\"language-APL\">┌→──┐\n",
       "│1 8│\n",
       "└~──┘\n",
       "</pre>"
      ]
     },
     "execution_count": 43,
     "metadata": {},
     "output_type": "execute_result"
    }
   ],
   "source": [
    "3 + ¯2 5"
   ]
  },
  {
   "cell_type": "code",
   "execution_count": null,
   "id": "9f4f04f5-d637-455b-80a0-4cccf0e99957",
   "metadata": {},
   "outputs": [],
   "source": []
  },
  {
   "cell_type": "code",
   "execution_count": null,
   "id": "6a2b4d26-a7c6-4679-8321-16cbb0f896b6",
   "metadata": {},
   "outputs": [],
   "source": []
  }
 ],
 "metadata": {
  "kernelspec": {
   "display_name": "Dyalog APL",
   "language": "apl",
   "name": "dyalog_apl"
  },
  "language_info": {
   "file_extension": ".apl",
   "mimetype": "text/apl",
   "name": "APL"
  }
 },
 "nbformat": 4,
 "nbformat_minor": 5
}
